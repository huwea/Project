{
 "cells": [
  {
   "cell_type": "markdown",
   "id": "17c3da77-c713-4731-9ae0-ea13ea3722f9",
   "metadata": {
    "tags": []
   },
   "source": [
    "# Project Ke-1 \n",
    "## CHURN ANALYSIS "
   ]
  },
  {
   "cell_type": "markdown",
   "id": "c353f542-a36c-46ba-b671-f74212fff490",
   "metadata": {},
   "source": [
    "- Dapat menerapkan bahasa pemograman Python untuk menyelesaikan persoalan untuk analisis data\n",
    "- Dapat mengolah dataset skala kecil hingga besar\n",
    "- Dapat menerapkan exploratory data analysis (EDA) untuk persoalan bisnis\n",
    "- Dapat menghasilkan visualisasi data yang tepat sebagai representasi persoalan bisnis\n",
    "- Dapat membuat dan menghasilkan model prediktif hingga menguji tingkat akurasi untuk memilih model yang tepat\n",
    "- Dapat menerapkan teknik investigasi data-data yang memiliki anomali."
   ]
  },
  {
   "cell_type": "markdown",
   "id": "9f009d69-93b3-43b3-b2a8-25061541aa58",
   "metadata": {
    "tags": []
   },
   "source": [
    "<br>"
   ]
  },
  {
   "cell_type": "markdown",
   "id": "e47ef3db-171e-46cb-b0ab-b0e20a0678d7",
   "metadata": {},
   "source": [
    "Baik sebelum melakukan analysis ada beberapa tahapan yang harus kita pahami yaitu \n",
    "<br>\n",
    "[6 FASE ANALISIS DATA](https://medium.com/@huans502/konsep-dasar-dan-istilah-di-bidang-data-analysts-part-3-1a0a64045089)\n",
    "\n",
    "`1. Bertanya/ ask`\n",
    "<br>\n",
    "kita melakukan dua hal yaitu mendefinisikan masalah yang harus dipecahkan dan kita memastikan bahwa kita memahami sepenuhnya harapan dari pemangku kepentingan/ stakeholder. Ini membantu anda tetap fokus pada masalah itu sendiri bukan hanya gejalanya. Pertanyaan 5 whys membantu pada tahap ini.\n",
    "Berkomunikasi dengan pemangku kepentingan anda adalah kunci untuk membuat anda tetap terlibat dan di jalur yang tepat selama pelaksanaan proyek. Mendefinisikan masalah berarti anda melihat keadaan saat ini dan mengidentifikasi  keadaan dibandingkan dengan keadaan ideal\n",
    "<br>\n",
    "<br>\n",
    "**Berikut ini adalah beberapa pertanyaan yang sering diajukan**\n",
    "<br>\n",
    "Apa masalah yang kita coba selesaikan?, Apa tujuan dari analisis ini?, Apa pelajaran yang kita harapkan dari masalah itu?\n",
    "<br>\n",
    "\n",
    "\n",
    "`2. Mempersiapkan/ prepare`\n",
    "<br>\n",
    "Ini adalah langkah dimana data analyst mengumpulkan dan menyimpan data yang akan kita gunakan untuk proses analisis berikutnya. Mengidentifikasi jenis data apa yang paling berguna untuk memecahkan suatu masalah tertentu. data dan hasil analisis Anda yang objektif dan tidak bias adalah \n",
    "sangat penting. Dengan kata lain, setiap keputusan yang dibuat dari analisis Anda harus selalu didasarkan pada fakta dan kejujuran, serta tidak memihak\n",
    "<br>\n",
    "\n",
    "\n",
    "`3. Memproses/ process`\n",
    "<br>\n",
    "Hal yang dilakukan pada tahap ini adalah menemukan dan menghilangkan setiap kesalahan dan ketidakakuratan yang dapat menghambat perolehan hasil. Biasanya yang dilakukan adalah membersihkan data, mengubahnya menjadi format yang lebih berguna, menggabungkan dua atau lebih, untuk memperoleh \n",
    "informasi lebih lengkap dan menghilangkan data pencilan (outlier)  yaitu data observasi yang dapat memberatkan ketimpangan informasi.\n",
    "<br>\n",
    "Memeriksa data yang kita persiapkan untuk memastikan data yang lengkap dan benar. Tahap ini adalah tahap di mana kita harus memperoleh detail data dengan benar. Jadi Kita juga akan memperbaiki kesalahan ketik, inkonsistensi, atau data yang hilang dan tidak akurat. \n",
    "Untuk melengkapinya, kita juga menerapkan strategi untuk memverifikasi dan membagikan pembersihan data kita dengan pemangku kepentingan\n",
    "<br>\n",
    "\n",
    "\n",
    "`4. Menganalisis/ analyze`\n",
    "<br>\n",
    "Menganalisis data untuk menemukan pola, hubungan, dan tren. Diperlukan penggunaan alat untuk mengubah dan mengatur informasi sehingga Anda dapat menarik kesimpulan yang bermanfaat, membuat prediksi, serta memberi saran yang tepat untuk pengambilan keputusan. \n",
    "Misal menggunakan spreadshet, R, Python, SQL\n",
    "<br>\n",
    "\n",
    "\n",
    "`5. Membagikan/share`\n",
    "<br>\n",
    "[Visualisasi](https://medium.com/@huans502/visualisasi-data-20a19408bfdb)\n",
    "<br>\n",
    "Para analis membagikan temuan dan rekomendasi mereka kepada pihak yang memang berkepentingan. Bagaimana analis data menafsirkan hasil dan membagikannya dengan orang lain untuk membantu pemangku kepentingan membuat keputusan berdasarkan data secara efektif. \n",
    "Pada tahap berbagi, visualisasi adalah teman terbaik seorang analis data. visualisasi itu penting untuk membuat orang lain memahami apa yang data Anda katakan. Dengan visual yang tepat, fakta dan angka menjadi jauh lebih mudah untuk dilihat dan konsep yang kompleks \n",
    "menjadi lebih mudah dipahami.\n",
    "<br>\n",
    "\n",
    "\n",
    "`6. Bertindak/ act`\n",
    "<br>\n",
    "Hal ini berkaitan erat dengan menerapkan wawasan kita untuk menyelesaikan masalah, mengambil keputusan, membuat hal baru. Saat yang menyenangkan ketika suatu perusahaan menerima semua wawasan yang telah kita sediakan, sebagai data analyst, dan mengelola data tersebut \n",
    "sedemikian rupa untuk memecahkan asal masalah perusahaan tersebut\n",
    "<br>\n"
   ]
  },
  {
   "cell_type": "markdown",
   "id": "e57eb26f-14c1-4708-938f-9d7bc3cfb3f0",
   "metadata": {},
   "source": [
    "# STUDY CASE\n",
    "Ada sebuah toko olahraga yang menjual berbagai kebutuhan olahraga seperti Jaket, Baju, Tas, dan Sepatu. Toko ini mulai berjualan sejak tahun 2013, sehingga sudah memiliki pelanggan tetap sejak lama, dan tetap berusaha untuk mendapatkan pelanggan baru sampai saat ini.\n",
    "Di awal tahun 2019,   manajer toko tersebut ingin kita  memecahkan masalah yang ada di tokonya, yaitu menurunnya pelanggan yang membeli kembali ke tokonya. Manajer toko mendefinisikan bahwa customer termasuk sudah bukan disebut pelanggan lagi (churn) ketika dia sudah tidak bertransaksi\n",
    "ke tokonya lagi sampai dengan 6 bulan terakhir dari update data terakhir yang tersedia. Manajer toko pun memberikan data transaksi dari tahun 2013 sampai dengan 2019 dalam bentuk csv (comma separated value) dengan data_retail.csv dengan jumlah baris 100.000 baris data.\n",
    "    "
   ]
  },
  {
   "cell_type": "markdown",
   "id": "f031caad-86d4-4d53-bae5-b977471e375f",
   "metadata": {},
   "source": [
    "# Bertanya/ ask\n",
    "\n",
    "Dari study case diatas dapat kita ketahui pemangku kepentingannya adalah manajer toko. Harapan dari manajer tersebut adalah agar kita menyelidiki churn"
   ]
  },
  {
   "cell_type": "markdown",
   "id": "188c959e-2aea-4f0b-a200-9d4858723b4e",
   "metadata": {},
   "source": [
    "# Mempersiapkan/ prepare\n",
    "Churn adalah pelanggan yang sudah tidak melakukan transaksi lagi dalam waktu tertentu, dalam study case ini rentang waktu yang digunakan adalah 6 bulan terakhir dari data transaksi yang ada. \n",
    "Untuk menyelidiki churn tentunya kita memerlukan data transaksi yang mana telah disediakan oleh pihak toko berupa file csv yang berisi data transaksi dari tahun 2013 sampai dengan 2019 dengan jumlah baris 100.000 baris data.\n",
    "<br>\n",
    "[Data Transaksi Toko Olahraga Tahun 2013 - 2019](https://storage.googleapis.com/dqlab-dataset/data_retail.csv)"
   ]
  },
  {
   "cell_type": "markdown",
   "id": "e8d6a8c6-af92-4a31-8a24-fcd652e5a72e",
   "metadata": {},
   "source": [
    "# Memproses/ process"
   ]
  },
  {
   "cell_type": "markdown",
   "id": "877ecf5d-7be3-44b0-b41e-822ab5d5affc",
   "metadata": {},
   "source": [
    "#### Pertama lakukan pengecekan terhadap null value"
   ]
  },
  {
   "cell_type": "code",
   "execution_count": 15,
   "id": "25a425bc-78b6-4b12-8d36-59e53afe6e0f",
   "metadata": {},
   "outputs": [
    {
     "name": "stdout",
     "output_type": "stream",
     "text": [
      "-----------------------------------\n",
      "Cek Jumlah Baris dan Column\n",
      "-----------------------------------\n",
      "DataFrame Shape : (100000, 8)\n",
      "Jumlah baris : 100000\n",
      "Jumlah kolom : 8\n",
      "\n",
      "\n",
      "-----------------------------------\n",
      "Cek nama Column\n",
      "-----------------------------------\n",
      "Index(['no', 'Row_Num', 'Customer_ID', 'Product', 'First_Transaction',\n",
      "       'Last_Transaction', 'Average_Transaction_Amount', 'Count_Transaction'],\n",
      "      dtype='object')\n",
      "\n",
      "\n",
      "-----------------------------------\n",
      "Cek null\n",
      "-----------------------------------\n",
      "False\n",
      "\n",
      "\n",
      "-----------------------------------\n",
      "Detail setiap jumlah null column\n",
      "-----------------------------------\n",
      "no                            0\n",
      "Row_Num                       0\n",
      "Customer_ID                   0\n",
      "Product                       0\n",
      "First_Transaction             0\n",
      "Last_Transaction              0\n",
      "Average_Transaction_Amount    0\n",
      "Count_Transaction             0\n",
      "dtype: int64\n",
      "\n",
      "\n",
      "-----------------------------------\n",
      "Cek tipe data\n",
      "-----------------------------------\n",
      "<class 'pandas.core.frame.DataFrame'>\n",
      "RangeIndex: 100000 entries, 0 to 99999\n",
      "Data columns (total 8 columns):\n",
      " #   Column                      Non-Null Count   Dtype \n",
      "---  ------                      --------------   ----- \n",
      " 0   no                          100000 non-null  int64 \n",
      " 1   Row_Num                     100000 non-null  int64 \n",
      " 2   Customer_ID                 100000 non-null  int64 \n",
      " 3   Product                     100000 non-null  object\n",
      " 4   First_Transaction           100000 non-null  int64 \n",
      " 5   Last_Transaction            100000 non-null  int64 \n",
      " 6   Average_Transaction_Amount  100000 non-null  int64 \n",
      " 7   Count_Transaction           100000 non-null  int64 \n",
      "dtypes: int64(7), object(1)\n",
      "memory usage: 6.1+ MB\n",
      "None\n",
      "\n",
      "\n",
      "-----------------------------------\n",
      "Lima data teratas:\n",
      "-----------------------------------\n",
      "   no  Row_Num  Customer_ID Product  First_Transaction  Last_Transaction  \\\n",
      "0   1        1        29531   Jaket      1466304274396     1538718482608   \n",
      "1   2        2        29531  Sepatu      1406077331494     1545735761270   \n",
      "2   3        3       141526     Tas      1493349147000     1548322802000   \n",
      "3   4        4       141526   Jaket      1493362372547     1547643603911   \n",
      "4   5        5        37545  Sepatu      1429178498531     1542891221530   \n",
      "\n",
      "   Average_Transaction_Amount  Count_Transaction  \n",
      "0                     1467681                 22  \n",
      "1                     1269337                 41  \n",
      "2                      310915                 30  \n",
      "3                      722632                 27  \n",
      "4                     1775036                 25  \n"
     ]
    }
   ],
   "source": [
    "import pandas as pd\n",
    "\n",
    "# Membaca dataset\n",
    "df = pd.read_csv('data_retail.csv', sep=';')\n",
    "\n",
    "#mengecek jumlah column dan row\n",
    "print(\"-----------------------------------\")\n",
    "print(\"Cek Jumlah Baris dan Column\")\n",
    "print(\"-----------------------------------\")\n",
    "shape = df.shape\n",
    "\n",
    "print(\"DataFrame Shape :\", shape)\n",
    "print(\"Jumlah baris :\", shape[0])\n",
    "print(\"Jumlah kolom :\", shape[1])\n",
    "\n",
    "print('\\n')\n",
    "\n",
    "#mengecek nama column\n",
    "print(\"-----------------------------------\")\n",
    "print(\"Cek nama Column\")\n",
    "print(\"-----------------------------------\")\n",
    "print(df.columns)\n",
    "\n",
    "print('\\n')\n",
    "\n",
    "#fungsi untuk mengecek apakah ada data yang kosong jika hasilnya TRUE berarti ada data yang kosong, jika hasilnya FALSE berarti data isi semua\n",
    "print(\"-----------------------------------\")\n",
    "print(\"Cek null\")\n",
    "print(\"-----------------------------------\")\n",
    "print(df.isnull().values.any())\n",
    "print('\\n')\n",
    "#Cek jumlah null value setiap coulmn\n",
    "print(\"-----------------------------------\")\n",
    "print(\"Detail setiap jumlah null column\")\n",
    "print(\"-----------------------------------\")\n",
    "mv = df.isna().sum()\n",
    "print(mv)\n",
    "\n",
    "\n",
    "print('\\n')\n",
    "\n",
    "#Cek apakah ada nilai null\n",
    "print(\"-----------------------------------\")\n",
    "print(\"Cek tipe data\")\n",
    "print(\"-----------------------------------\")\n",
    "print(df.info())\n",
    "\n",
    "print('\\n')\n",
    "\n",
    "# Cek 5 data teratas\n",
    "print(\"-----------------------------------\")\n",
    "print('Lima data teratas:')\n",
    "print(\"-----------------------------------\")\n",
    "print(df.head())\n",
    "\n",
    "\n"
   ]
  },
  {
   "cell_type": "markdown",
   "id": "beeb32f9-4c4e-4b44-b045-2d2f23a1320f",
   "metadata": {},
   "source": [
    "<br>"
   ]
  },
  {
   "cell_type": "markdown",
   "id": "75c6073a-90db-4c2e-a6ea-f63ee6f8d5bf",
   "metadata": {},
   "source": [
    "\n",
    "#### Merubah tipe data dari int ke datetime\n"
   ]
  },
  {
   "cell_type": "markdown",
   "id": "02965b5e-ecb2-41e7-972e-948b33ab1592",
   "metadata": {},
   "source": [
    "Setelah kita melakukan pengecekan dapat dilihat ternyata tidak ada nilai null. Tapi sayangnya ada column yang tipe datanya belum sesuai sehingga kita harus melakukan pengubahan tipe data"
   ]
  },
  {
   "cell_type": "code",
   "execution_count": 16,
   "id": "9b42210c-b0d6-48a8-aa3e-fe2f4bcbbfdc",
   "metadata": {},
   "outputs": [
    {
     "name": "stdout",
     "output_type": "stream",
     "text": [
      "-----------------------------------\n",
      "Lima data teratas:\n",
      "-----------------------------------\n",
      "   no  Row_Num  Customer_ID Product             First_Transaction  \\\n",
      "0   1        1        29531   Jaket 2016-06-19 02:44:34.396000000   \n",
      "1   2        2        29531  Sepatu 2014-07-23 01:02:11.493999872   \n",
      "2   3        3       141526     Tas 2017-04-28 03:12:27.000000000   \n",
      "3   4        4       141526   Jaket 2017-04-28 06:52:52.546999808   \n",
      "4   5        5        37545  Sepatu 2015-04-16 10:01:38.530999808   \n",
      "\n",
      "               Last_Transaction  Average_Transaction_Amount  Count_Transaction  \n",
      "0 2018-10-05 05:48:02.608000000                     1467681                 22  \n",
      "1 2018-12-25 11:02:41.269999872                     1269337                 41  \n",
      "2 2019-01-24 09:40:02.000000000                      310915                 30  \n",
      "3 2019-01-16 13:00:03.911000064                      722632                 27  \n",
      "4 2018-11-22 12:53:41.529999872                     1775036                 25  \n",
      "\n",
      "\n",
      "-----------------------------------\n",
      "Info dataset:\n",
      "-----------------------------------\n",
      "<class 'pandas.core.frame.DataFrame'>\n",
      "RangeIndex: 100000 entries, 0 to 99999\n",
      "Data columns (total 8 columns):\n",
      " #   Column                      Non-Null Count   Dtype         \n",
      "---  ------                      --------------   -----         \n",
      " 0   no                          100000 non-null  int64         \n",
      " 1   Row_Num                     100000 non-null  int64         \n",
      " 2   Customer_ID                 100000 non-null  int64         \n",
      " 3   Product                     100000 non-null  object        \n",
      " 4   First_Transaction           100000 non-null  datetime64[ns]\n",
      " 5   Last_Transaction            100000 non-null  datetime64[ns]\n",
      " 6   Average_Transaction_Amount  100000 non-null  int64         \n",
      " 7   Count_Transaction           100000 non-null  int64         \n",
      "dtypes: datetime64[ns](2), int64(5), object(1)\n",
      "memory usage: 6.1+ MB\n",
      "None\n"
     ]
    }
   ],
   "source": [
    "# Membaca dataset\n",
    "df = pd.read_csv('data_retail.csv', sep=';')\n",
    "\n",
    "# Kolom First_Transaction\n",
    "df['First_Transaction'] = pd.to_datetime(df['First_Transaction']/1000, unit='s', origin='1970-01-01')\n",
    "\n",
    "# Kolom Last_Transaction\n",
    "df['Last_Transaction'] = pd.to_datetime(df['Last_Transaction']/1000, unit='s', origin='1970-01-01')\n",
    "\n",
    "\n",
    "print(\"-----------------------------------\")\n",
    "print('Lima data teratas:')\n",
    "print(\"-----------------------------------\")\n",
    "print(df.head())\n",
    "\n",
    "print('\\n')\n",
    "\n",
    "print(\"-----------------------------------\")\n",
    "print('Info dataset:')\n",
    "print(\"-----------------------------------\")\n",
    "print(df.info())"
   ]
  },
  {
   "cell_type": "markdown",
   "id": "7f583293-b0a8-4a6b-8c2f-07b8f612221f",
   "metadata": {},
   "source": [
    "<br>"
   ]
  },
  {
   "cell_type": "markdown",
   "id": "a26f3e9a-a8b0-428c-ad9a-21d8d795169e",
   "metadata": {},
   "source": [
    "#### Hapus column yang tidak digunakan"
   ]
  },
  {
   "cell_type": "markdown",
   "id": "f5c9de26-4429-4174-80cc-3adbeca57480",
   "metadata": {},
   "source": [
    "kolom yang dihapus adalah no dan row_num"
   ]
  },
  {
   "cell_type": "code",
   "execution_count": 17,
   "id": "ad526798-0b18-4b37-9f0e-b888acb685b3",
   "metadata": {},
   "outputs": [
    {
     "name": "stdout",
     "output_type": "stream",
     "text": [
      "-----------------------------------\n",
      "Lima data teratas setelah column no dan row_num dihapus:\n",
      "-----------------------------------\n",
      "   Customer_ID Product             First_Transaction  \\\n",
      "0        29531   Jaket 2016-06-19 02:44:34.396000000   \n",
      "1        29531  Sepatu 2014-07-23 01:02:11.493999872   \n",
      "2       141526     Tas 2017-04-28 03:12:27.000000000   \n",
      "3       141526   Jaket 2017-04-28 06:52:52.546999808   \n",
      "4        37545  Sepatu 2015-04-16 10:01:38.530999808   \n",
      "\n",
      "               Last_Transaction  Average_Transaction_Amount  Count_Transaction  \n",
      "0 2018-10-05 05:48:02.608000000                     1467681                 22  \n",
      "1 2018-12-25 11:02:41.269999872                     1269337                 41  \n",
      "2 2019-01-24 09:40:02.000000000                      310915                 30  \n",
      "3 2019-01-16 13:00:03.911000064                      722632                 27  \n",
      "4 2018-11-22 12:53:41.529999872                     1775036                 25  \n"
     ]
    }
   ],
   "source": [
    "# Coding sebelumnya\n",
    "df = pd.read_csv('data_retail.csv', sep=';')\n",
    "df['First_Transaction'] = pd.to_datetime(df['First_Transaction']/1000, unit='s', origin='1970-01-01')\n",
    "df['Last_Transaction'] = pd.to_datetime(df['Last_Transaction']/1000, unit='s', origin='1970-01-01')\n",
    "\n",
    "# Hapus kolom-kolom yang tidak diperlukan\n",
    "del df['no']\n",
    "del df['Row_Num']\n",
    "\n",
    "# Cetak lima data teratas\n",
    "print(\"-----------------------------------\")\n",
    "print('Lima data teratas setelah column no dan row_num dihapus:')\n",
    "print(\"-----------------------------------\")\n",
    "print(df.head())"
   ]
  },
  {
   "cell_type": "markdown",
   "id": "f10baecc-f60a-4cb7-af45-8c2e3400c359",
   "metadata": {},
   "source": [
    "# Menganalisis/ analyze & Membagikan/share"
   ]
  },
  {
   "cell_type": "markdown",
   "id": "93185f52-8026-4235-85e6-170f3f023b39",
   "metadata": {},
   "source": [
    "#### Pahami setiap isi dari dataframe dan attribute"
   ]
  },
  {
   "cell_type": "markdown",
   "id": "efa2af4f-b8bf-4653-8385-ab7a55ad0631",
   "metadata": {},
   "source": [
    "Sebelum menganalisis pastikan kita benar-benar paham dengan isi dataset kita. Penting untuk mengetahui maksud dari tiap kolom dari dataset agar kita dapat menganalisis dengan cepat dan tepat"
   ]
  },
  {
   "cell_type": "code",
   "execution_count": 18,
   "id": "2ad37df1-0bdb-43ee-b80e-26fe2077ac3e",
   "metadata": {},
   "outputs": [
    {
     "name": "stdout",
     "output_type": "stream",
     "text": [
      "-----------------------------------\n",
      "Cek 5 data teratas\n",
      "-----------------------------------\n",
      "   Customer_ID Product             First_Transaction  \\\n",
      "0        29531   Jaket 2016-06-19 02:44:34.396000000   \n",
      "1        29531  Sepatu 2014-07-23 01:02:11.493999872   \n",
      "2       141526     Tas 2017-04-28 03:12:27.000000000   \n",
      "3       141526   Jaket 2017-04-28 06:52:52.546999808   \n",
      "4        37545  Sepatu 2015-04-16 10:01:38.530999808   \n",
      "\n",
      "               Last_Transaction  Average_Transaction_Amount  Count_Transaction  \n",
      "0 2018-10-05 05:48:02.608000000                     1467681                 22  \n",
      "1 2018-12-25 11:02:41.269999872                     1269337                 41  \n",
      "2 2019-01-24 09:40:02.000000000                      310915                 30  \n",
      "3 2019-01-16 13:00:03.911000064                      722632                 27  \n",
      "4 2018-11-22 12:53:41.529999872                     1775036                 25  \n",
      "\n",
      "\n",
      "-----------------------------------\n",
      "Cek Column Customer_ID\n",
      "-----------------------------------\n",
      "Terdapat  73194  Customer\n",
      "Yang mana total keseluruhan transaksinya mencapai  100000  kali\n",
      "\n",
      "\n",
      "-----------------------------------\n",
      "Cek Column Product\n",
      "-----------------------------------\n",
      "di dalam dataset hanya terdapat informasi transaksi 4 produk yaitu\n",
      "['Jaket' 'Sepatu' 'Tas' 'Baju']\n",
      "\n",
      "\n",
      "-----------------------------------\n",
      "Cek Column First_Transaction dan Last_Transaction\n",
      "-----------------------------------\n",
      "Transaksi pertama pada dataset dimulai pada  2013-03-08 07:53:46.296999936\n",
      "Transaksi terakhir pada  2019-02-01 23:57:57.286000128\n",
      "Jadi dapat kita ketahui dataset berisi informasi transaksi 6 tahun terakhir\n",
      "\n",
      "\n",
      "-----------------------------------\n",
      "Cek data Customer yang memiliki ID 29531\n",
      "-----------------------------------\n",
      "       Customer_ID Product             First_Transaction  \\\n",
      "0            29531   Jaket 2016-06-19 02:44:34.396000000   \n",
      "1            29531  Sepatu 2014-07-23 01:02:11.493999872   \n",
      "91989        29531     Tas 2018-02-22 10:05:13.000000000   \n",
      "91990        29531    Baju 2018-02-23 20:02:57.000000000   \n",
      "\n",
      "                   Last_Transaction  Average_Transaction_Amount  \\\n",
      "0     2018-10-05 05:48:02.608000000                     1467681   \n",
      "1     2018-12-25 11:02:41.269999872                     1269337   \n",
      "91989 2018-02-22 10:05:13.000000000                     5896245   \n",
      "91990 2018-02-23 20:02:57.000000000                     2984789   \n",
      "\n",
      "       Count_Transaction  \n",
      "0                     22  \n",
      "1                     41  \n",
      "91989                  1  \n",
      "91990                  1  \n"
     ]
    }
   ],
   "source": [
    "# Coding sebelumnya\n",
    "df = pd.read_csv('data_retail.csv', sep=';')\n",
    "df['First_Transaction'] = pd.to_datetime(df['First_Transaction']/1000, unit='s', origin='1970-01-01')\n",
    "df['Last_Transaction'] = pd.to_datetime(df['Last_Transaction']/1000, unit='s', origin='1970-01-01')\n",
    "del df['no']\n",
    "del df['Row_Num']\n",
    "\n",
    "print(\"-----------------------------------\")\n",
    "print(\"Cek 5 data teratas\")\n",
    "print(\"-----------------------------------\")\n",
    "print(df.head())\n",
    "\n",
    "print('\\n')\n",
    "\n",
    "print(\"-----------------------------------\")\n",
    "print(\"Cek Column Customer_ID\")\n",
    "print(\"-----------------------------------\")\n",
    "df_cek_customerid = df[\"Customer_ID\"]\n",
    "print(\"Terdapat \", df_cek_customerid.nunique(),\" Customer\")\n",
    "print(\"Yang mana total keseluruhan transaksinya mencapai \", df_cek_customerid.count(), \" kali\")\n",
    "\n",
    "print('\\n')\n",
    "\n",
    "print(\"-----------------------------------\")\n",
    "print(\"Cek Column Product\")\n",
    "print(\"-----------------------------------\")\n",
    "print(\"di dalam dataset hanya terdapat informasi transaksi 4 produk yaitu\")\n",
    "df_cek_product = df[\"Product\"]\n",
    "print(df_cek_product.unique())\n",
    "\n",
    "\n",
    "print('\\n')\n",
    "\n",
    "print(\"-----------------------------------\")\n",
    "print(\"Cek Column First_Transaction dan Last_Transaction\")\n",
    "print(\"-----------------------------------\")\n",
    "print(\"Transaksi pertama pada dataset dimulai pada \", min(df['First_Transaction']))\n",
    "print(\"Transaksi terakhir pada \",max(df['Last_Transaction']))\n",
    "print(\"Jadi dapat kita ketahui dataset berisi informasi transaksi 6 tahun terakhir\")\n",
    "\n",
    "print('\\n')\n",
    "\n",
    "#print(df.info())\n",
    "df_slice = df.loc[(df[\"Customer_ID\"] == 29531)]\n",
    "print(\"-----------------------------------\")\n",
    "print(\"Cek data Customer yang memiliki ID 29531\")\n",
    "print(\"-----------------------------------\")\n",
    "print(df_slice)\n",
    "\t\t\t\t "
   ]
  },
  {
   "cell_type": "markdown",
   "id": "ea89af49-5fd7-4da5-95ef-b1d4c558d8c0",
   "metadata": {},
   "source": [
    "<br>\n",
    "Setelah saya mendalami data dan attribute yang ada, dapat kita ketahui sebenarnya dataset ini tidak benar-benar data raw karena data sudah di olah sebelumnya dengan aggregasi berdasarkan product untuk setiap customer. \n",
    "Dataframe berisi 73194 Customer dengan jumlah total transaksinya adalah 100 RB transaksi. Transaksi yang ada di dataset hanya terbatas pada produk Jaket, Sepatu, Tas, dan Baju. \n",
    "Maksud dari column First_Transaction adalah transaksi yang dilakukan pertama kali oleh customer suatu produk tertentu. sedangkan column Last_Transaction adalah transaksi terakhir suatu produk tertentu yang dilakukan oleh customer. \n",
    "Untuk column Average_Transaction_Amount merupakan rata-rata dari total price semua transaksi produk tertentu dibagi jumlah transaksi produk tertentu.\n",
    "Untuk column Count_Transaction merupakan total transaksi untuk produk tertentu. Maksud dari produk terntetu adalah salah satu dari produk Jaket, Sepatu, Tas, dan Baju.\n"
   ]
  },
  {
   "cell_type": "markdown",
   "id": "fde72ee2-04ec-48dd-8f5a-d5475af62e1f",
   "metadata": {},
   "source": [
    "<br>"
   ]
  },
  {
   "cell_type": "markdown",
   "id": "e9597235-7238-445f-8fe1-0a2cc57c225d",
   "metadata": {
    "tags": []
   },
   "source": [
    "#### Klasifikasi Churn Customers"
   ]
  },
  {
   "cell_type": "markdown",
   "id": "117b101d-f648-434b-96c2-70c592c1b493",
   "metadata": {},
   "source": [
    "Setelah kita membentulkan tipe data dari int ke datetime waktunya kita menentukan melakukan klasifikasi apakah suatu customer churn atau tidak dengan nilai boolean, sesuai perintah batas waktu customer di nyatakan churn adalah ketika sudah tidak berbelanja selama 6 bulan"
   ]
  },
  {
   "cell_type": "code",
   "execution_count": 19,
   "id": "9d7f0110-4f3c-4c99-a07d-1e59d3ebc31f",
   "metadata": {},
   "outputs": [
    {
     "name": "stdout",
     "output_type": "stream",
     "text": [
      "-----------------------------------\n",
      "Pengecekan transaksaksi terakhir dalam dataset\n",
      "-----------------------------------\n",
      "2019-02-01 23:57:57.286000128\n",
      "\n",
      "\n",
      "-----------------------------------\n",
      "Lima data teratas:\n",
      "-----------------------------------\n",
      "   Customer_ID Product             First_Transaction  \\\n",
      "0        29531   Jaket 2016-06-19 02:44:34.396000000   \n",
      "1        29531  Sepatu 2014-07-23 01:02:11.493999872   \n",
      "2       141526     Tas 2017-04-28 03:12:27.000000000   \n",
      "3       141526   Jaket 2017-04-28 06:52:52.546999808   \n",
      "4        37545  Sepatu 2015-04-16 10:01:38.530999808   \n",
      "\n",
      "               Last_Transaction  Average_Transaction_Amount  \\\n",
      "0 2018-10-05 05:48:02.608000000                     1467681   \n",
      "1 2018-12-25 11:02:41.269999872                     1269337   \n",
      "2 2019-01-24 09:40:02.000000000                      310915   \n",
      "3 2019-01-16 13:00:03.911000064                      722632   \n",
      "4 2018-11-22 12:53:41.529999872                     1775036   \n",
      "\n",
      "   Count_Transaction is_churn  \n",
      "0                 22    False  \n",
      "1                 41    False  \n",
      "2                 30    False  \n",
      "3                 27    False  \n",
      "4                 25    False  \n"
     ]
    }
   ],
   "source": [
    "# coding sebelumnya\n",
    "import pandas as pd\n",
    "df = pd.read_csv('data_retail.csv', sep=';')\n",
    "df['First_Transaction'] = pd.to_datetime(df['First_Transaction']/1000, unit='s', origin='1970-01-01')\n",
    "df['Last_Transaction'] = pd.to_datetime(df['Last_Transaction']/1000, unit='s', origin='1970-01-01')\n",
    "del df['no']\n",
    "del df['Row_Num']\n",
    "\n",
    "\n",
    "# Pengecekan transaksaksi terakhir dalam dataset\n",
    "print(\"-----------------------------------\")\n",
    "print(\"Pengecekan transaksaksi terakhir dalam dataset\")\n",
    "print(\"-----------------------------------\")\n",
    "print(max(df['Last_Transaction']))\n",
    "\n",
    "print('\\n')\n",
    "\n",
    "# Klasifikasikan customer yang berstatus churn atau tidak, lalu kita tambahkan coulmn keterangan tersebut di dataframe\n",
    "# Baik disini kita memilih tanggal 1 agustus 2018 karena 6 bulan sebelum data transaksi terakhir adalah tanggal tersebut \n",
    "df.loc[df['Last_Transaction'] <= '2018-08-01', 'is_churn'] = True \n",
    "df.loc[df['Last_Transaction'] > '2018-08-01', 'is_churn'] = False \n",
    "print(\"-----------------------------------\")\n",
    "print('Lima data teratas:')\n",
    "print(\"-----------------------------------\")\n",
    "print(df.head())"
   ]
  },
  {
   "cell_type": "markdown",
   "id": "af1fbea7-1654-4180-86e9-3a7f80bed0f1",
   "metadata": {},
   "source": [
    "<br>"
   ]
  },
  {
   "cell_type": "markdown",
   "id": "5ca64038-4ebd-449a-b06a-bb6b98497ef9",
   "metadata": {},
   "source": [
    "<br>"
   ]
  },
  {
   "cell_type": "markdown",
   "id": "30cdf0c7-32ff-4317-a45b-24d772b80501",
   "metadata": {},
   "source": [
    "#### Customer acquisition by year"
   ]
  },
  {
   "cell_type": "markdown",
   "id": "5f0df579-450b-47e9-9a3a-91c89aa1cc03",
   "metadata": {},
   "source": [
    "Disini kita akan melihat berapa jumlah customer yang melakukan transaksi setiap tahunnya"
   ]
  },
  {
   "cell_type": "code",
   "execution_count": 20,
   "id": "9cfe4dfa-8aab-49c0-95b3-e0100f608795",
   "metadata": {},
   "outputs": [
    {
     "name": "stdout",
     "output_type": "stream",
     "text": [
      "-----------------------------------\n",
      "Lima data teratas Setelah coulumn Year_First_Transaction dan Year_Last_Transaction ditambahkan :\n",
      "-----------------------------------\n",
      "   Customer_ID Product             First_Transaction  \\\n",
      "0        29531   Jaket 2016-06-19 02:44:34.396000000   \n",
      "1        29531  Sepatu 2014-07-23 01:02:11.493999872   \n",
      "2       141526     Tas 2017-04-28 03:12:27.000000000   \n",
      "3       141526   Jaket 2017-04-28 06:52:52.546999808   \n",
      "4        37545  Sepatu 2015-04-16 10:01:38.530999808   \n",
      "\n",
      "               Last_Transaction  Average_Transaction_Amount  \\\n",
      "0 2018-10-05 05:48:02.608000000                     1467681   \n",
      "1 2018-12-25 11:02:41.269999872                     1269337   \n",
      "2 2019-01-24 09:40:02.000000000                      310915   \n",
      "3 2019-01-16 13:00:03.911000064                      722632   \n",
      "4 2018-11-22 12:53:41.529999872                     1775036   \n",
      "\n",
      "   Count_Transaction  Year_First_Transaction  Year_Last_Transaction  \n",
      "0                 22                    2016                   2018  \n",
      "1                 41                    2014                   2018  \n",
      "2                 30                    2017                   2019  \n",
      "3                 27                    2017                   2019  \n",
      "4                 25                    2015                   2018  \n",
      "\n",
      "\n",
      "-----------------------------------\n",
      "lihat column pada dataframe:\n",
      "-----------------------------------\n",
      "<class 'pandas.core.frame.DataFrame'>\n",
      "RangeIndex: 100000 entries, 0 to 99999\n",
      "Data columns (total 8 columns):\n",
      " #   Column                      Non-Null Count   Dtype         \n",
      "---  ------                      --------------   -----         \n",
      " 0   Customer_ID                 100000 non-null  int64         \n",
      " 1   Product                     100000 non-null  object        \n",
      " 2   First_Transaction           100000 non-null  datetime64[ns]\n",
      " 3   Last_Transaction            100000 non-null  datetime64[ns]\n",
      " 4   Average_Transaction_Amount  100000 non-null  int64         \n",
      " 5   Count_Transaction           100000 non-null  int64         \n",
      " 6   Year_First_Transaction      100000 non-null  int64         \n",
      " 7   Year_Last_Transaction       100000 non-null  int64         \n",
      "dtypes: datetime64[ns](2), int64(5), object(1)\n",
      "memory usage: 6.1+ MB\n",
      "None\n",
      "\n",
      "\n",
      "-----------------------------------\n",
      "Customer acquisition by year\n",
      "-----------------------------------\n",
      "Year_First_Transaction\n",
      "2013     1007\n",
      "2014     4954\n",
      "2015    11235\n",
      "2016    17656\n",
      "2017    31828\n",
      "2018    30327\n",
      "2019     2993\n",
      "Name: Customer_ID, dtype: int64\n",
      "\n",
      "\n",
      "-----------------------------------\n",
      "Graph of Customer Acquisition\n",
      "-----------------------------------\n"
     ]
    },
    {
     "data": {
      "image/png": "[encoded data removed]",
      "text/plain": [
       "<Figure size 432x288 with 1 Axes>"
      ]
     },
     "metadata": {
      "needs_background": "light"
     },
     "output_type": "display_data"
    }
   ],
   "source": [
    "# coding sebelumnya\n",
    "import pandas as pd\n",
    "df = pd.read_csv('data_retail.csv', sep=';')\n",
    "del df['no']\n",
    "del df['Row_Num']\n",
    "df['First_Transaction'] = pd.to_datetime(df['First_Transaction']/1000, unit='s', origin='1970-01-01')\n",
    "df['Last_Transaction'] = pd.to_datetime(df['Last_Transaction']/1000, unit='s', origin='1970-01-01')\n",
    "\n",
    "\n",
    "import pandas as pd\n",
    "\n",
    "# Buat Kolom tahun transaksi pertama\n",
    "df['Year_First_Transaction'] = df['First_Transaction'].dt.year\n",
    "\n",
    "# Buat Kolom tahun transaksi terakhir\n",
    "df['Year_Last_Transaction'] = df['Last_Transaction'].dt.year\n",
    "\n",
    "print(\"-----------------------------------\")\n",
    "print('Lima data teratas Setelah coulumn Year_First_Transaction dan Year_Last_Transaction ditambahkan :')\n",
    "print(\"-----------------------------------\")\n",
    "print(df.head())\n",
    "\n",
    "print('\\n')\n",
    "\n",
    "print(\"-----------------------------------\")\n",
    "print('lihat column pada dataframe:')\n",
    "print(\"-----------------------------------\")\n",
    "print(df.info())\n",
    "\n",
    "print('\\n')\n",
    "\n",
    "print(\"-----------------------------------\")\n",
    "print('Customer acquisition by year')\n",
    "print(\"-----------------------------------\")\n",
    "df_year = df.groupby(['Year_First_Transaction'])['Customer_ID'].count()\n",
    "print(df_year)\n",
    "\n",
    "print('\\n')\n",
    "\n",
    "print(\"-----------------------------------\")\n",
    "print('Graph of Customer Acquisition')\n",
    "print(\"-----------------------------------\")\n",
    "import matplotlib.pyplot as plt\n",
    "df_year.plot(x='Year_First_Transaction', y='Customer_ID', kind='bar', title='Graph of Customer Acquisition')\n",
    "plt.xlabel('Year_First_Transaction')\n",
    "plt.ylabel('Num_of_Customer')\n",
    "plt.tight_layout()\n",
    "plt.show()"
   ]
  },
  {
   "cell_type": "markdown",
   "id": "bc99a694-a065-4a16-b22f-032cca8d4bbe",
   "metadata": {},
   "source": [
    "Dari barchart diatas kita mendapatkan inshight jumlah customer yang melakukan transaksi terus meningkat dari tahun 2013 sampai 2017 setelah itu menurun sedikit di tahun 2018. \n",
    "Kemudian pada tahun 2019 menurun drastis tapi kita harus jeli pada tahun 2019 transaksi terakhir dari data yang tersedia adalah hanya sampai bulan februari 2019 sehingga kita tidak bisa menggunakan data pada tahun 2019 ini sebagai acuan karena kurangnya data."
   ]
  },
  {
   "cell_type": "markdown",
   "id": "e02bfa12-73c0-45a8-b0ff-034306a8d86a",
   "metadata": {},
   "source": [
    "<br>"
   ]
  },
  {
   "cell_type": "markdown",
   "id": "bfbb1a13-debe-4cfa-8b16-6f8cc9ddc49c",
   "metadata": {},
   "source": [
    "#### Transaction by year"
   ]
  },
  {
   "cell_type": "markdown",
   "id": "dbbb5fec-5bc5-41e7-981c-842bf8b50f1e",
   "metadata": {},
   "source": [
    "Disini kita akan melihat jumlah transaksi yang telah dilakukan customer setiap tahunnya"
   ]
  },
  {
   "cell_type": "code",
   "execution_count": 21,
   "id": "f9209f9b-ef00-4cb7-b273-42009fe68680",
   "metadata": {},
   "outputs": [
    {
     "name": "stdout",
     "output_type": "stream",
     "text": [
      "-----------------------------------\n",
      "Lima data teratas:\n",
      "-----------------------------------\n",
      "   Customer_ID Product             First_Transaction  \\\n",
      "0        29531   Jaket 2016-06-19 02:44:34.396000000   \n",
      "1        29531  Sepatu 2014-07-23 01:02:11.493999872   \n",
      "2       141526     Tas 2017-04-28 03:12:27.000000000   \n",
      "3       141526   Jaket 2017-04-28 06:52:52.546999808   \n",
      "4        37545  Sepatu 2015-04-16 10:01:38.530999808   \n",
      "\n",
      "               Last_Transaction  Average_Transaction_Amount  \\\n",
      "0 2018-10-05 05:48:02.608000000                     1467681   \n",
      "1 2018-12-25 11:02:41.269999872                     1269337   \n",
      "2 2019-01-24 09:40:02.000000000                      310915   \n",
      "3 2019-01-16 13:00:03.911000064                      722632   \n",
      "4 2018-11-22 12:53:41.529999872                     1775036   \n",
      "\n",
      "   Count_Transaction  Year_First_Transaction  Year_Last_Transaction  \n",
      "0                 22                    2016                   2018  \n",
      "1                 41                    2014                   2018  \n",
      "2                 30                    2017                   2019  \n",
      "3                 27                    2017                   2019  \n",
      "4                 25                    2015                   2018  \n",
      "\n",
      "\n",
      "-----------------------------------\n",
      "Cek Jumlah Transaksi Pertahun\n",
      "-----------------------------------\n",
      "Year_First_Transaction\n",
      "2013     23154\n",
      "2014    165494\n",
      "2015    297445\n",
      "2016    278707\n",
      "2017    299199\n",
      "2018     99989\n",
      "2019      5862\n",
      "Name: Count_Transaction, dtype: int64\n",
      "\n",
      "\n",
      "-----------------------------------\n",
      "Graph of Transaction by year\n",
      "-----------------------------------\n"
     ]
    },
    {
     "data": {
      "image/png": "[encoded data removed]",
      "text/plain": [
       "<Figure size 432x288 with 1 Axes>"
      ]
     },
     "metadata": {
      "needs_background": "light"
     },
     "output_type": "display_data"
    }
   ],
   "source": [
    "# code sebelumnya\n",
    "import pandas as pd\n",
    "df = pd.read_csv('data_retail.csv', sep=';')\n",
    "del df['no']\n",
    "del df['Row_Num']\n",
    "df['First_Transaction'] = pd.to_datetime(df['First_Transaction']/1000, unit='s', origin='1970-01-01')\n",
    "df['Last_Transaction'] = pd.to_datetime(df['Last_Transaction']/1000, unit='s', origin='1970-01-01')\n",
    "df['Year_First_Transaction'] = df['First_Transaction'].dt.year\n",
    "df['Year_Last_Transaction'] = df['Last_Transaction'].dt.year\n",
    "\n",
    "import matplotlib.pyplot as plt\n",
    "\n",
    "plt.clf()\n",
    "print(\"-----------------------------------\")\n",
    "print('Lima data teratas:')\n",
    "print(\"-----------------------------------\")\n",
    "print(df.head())\n",
    "\n",
    "print('\\n')\n",
    "\n",
    "print(\"-----------------------------------\")\n",
    "print('Cek Jumlah Transaksi Pertahun')\n",
    "print(\"-----------------------------------\")\n",
    "df_year = df.groupby(['Year_First_Transaction'])['Count_Transaction'].sum()\n",
    "print(df_year)\n",
    "\n",
    "print('\\n')\n",
    "\n",
    "print(\"-----------------------------------\")\n",
    "print('Graph of Transaction by year')\n",
    "print(\"-----------------------------------\")\n",
    "df_year.plot(x='Year_First_Transaction', y='Count_Transaction', kind='bar', title='Graph of Transaction Customer')\n",
    "plt.xlabel('Year_First_Transaction')\n",
    "plt.ylabel('Num_of_Transaction')\n",
    "plt.tight_layout()\n",
    "plt.show()"
   ]
  },
  {
   "cell_type": "markdown",
   "id": "16d09b30-1e96-427c-9fbf-86073327993c",
   "metadata": {},
   "source": [
    "Dari barchart diatas dapat kita lihat jumlah transaksi produk yang dilakukan customer terus meningkat dari tahun 2013 hingga 2015 kemudian stagnan hingga tahun 2017. Tapi sayangnya turun drastis di tahun 2018 jika kita kaitkan dengan graph Graph of Customer AcquisitionGraph of Customer Acquisition sebelumnya ini artinya pada tahun 2018 jumlah orang yang melakukan transaksi berkurang sedikit dari tahun 2017 tetapi transaksi total yang dilakukan perorangnya menurun secara drastis artinya customer mulai jarang belanja, \n",
    "seperti kasus Customer acquisition by year sebelumnya untuk data di tahun 2019 tidak bisa digunakan sebagai acuan karena kurangnya data. "
   ]
  },
  {
   "cell_type": "markdown",
   "id": "787c5baa-ce76-4782-871d-7dc11ff21588",
   "metadata": {},
   "source": [
    "#### Average transaction amount by year"
   ]
  },
  {
   "cell_type": "markdown",
   "id": "cfab2e19-1e7e-416d-baa1-3d27f49881b2",
   "metadata": {},
   "source": [
    "Disini kita akan menggunakan seaborn pointplot agar kita dapat memvisualisasikan tren dari tahun ke tahun rata-rata jumlah transaksi untuk tiap-tiap produknya"
   ]
  },
  {
   "cell_type": "code",
   "execution_count": 22,
   "id": "46b4c188-3081-453b-a8fd-082c5dbb3a7d",
   "metadata": {},
   "outputs": [
    {
     "name": "stdout",
     "output_type": "stream",
     "text": [
      "-----------------------------------\n",
      "Cek rata-rata jumlah transaksi pertahun\n",
      "-----------------------------------\n",
      "   Product  Year_First_Transaction  Average_Transaction_Amount\n",
      "0     Baju                    2017                1.490890e+06\n",
      "1     Baju                    2018                1.570201e+06\n",
      "2     Baju                    2019                1.383645e+06\n",
      "3    Jaket                    2014                1.467937e+06\n",
      "4    Jaket                    2015                1.296265e+06\n",
      "5    Jaket                    2016                1.317344e+06\n",
      "6    Jaket                    2017                1.369034e+06\n",
      "7    Jaket                    2018                1.419074e+06\n",
      "8    Jaket                    2019                1.447536e+06\n",
      "9   Sepatu                    2013                1.396499e+06\n",
      "10  Sepatu                    2014                1.427063e+06\n",
      "11  Sepatu                    2015                1.428235e+06\n",
      "12  Sepatu                    2016                1.425938e+06\n",
      "13  Sepatu                    2017                1.407275e+06\n",
      "14  Sepatu                    2018                1.346824e+06\n",
      "15  Sepatu                    2019                1.338180e+06\n",
      "16     Tas                    2017                1.109583e+06\n",
      "17     Tas                    2018                1.337614e+06\n",
      "18     Tas                    2019                1.287529e+06\n",
      "\n",
      "\n",
      "-----------------------------------\n",
      "Graph of Average transaction amount by year\n",
      "-----------------------------------\n"
     ]
    },
    {
     "data": {
      "image/png": "[encoded data removed]",
      "text/plain": [
       "<Figure size 432x288 with 1 Axes>"
      ]
     },
     "metadata": {
      "needs_background": "light"
     },
     "output_type": "display_data"
    }
   ],
   "source": [
    "# code sebelumnya\n",
    "import pandas as pd\n",
    "df = pd.read_csv('data_retail.csv', sep=';')\n",
    "del df['no']\n",
    "del df['Row_Num']\n",
    "df['First_Transaction'] = pd.to_datetime(df['First_Transaction']/1000, unit='s', origin='1970-01-01')\n",
    "df['Last_Transaction'] = pd.to_datetime(df['Last_Transaction']/1000, unit='s', origin='1970-01-01')\n",
    "df['Year_First_Transaction'] = df['First_Transaction'].dt.year\n",
    "df['Year_Last_Transaction'] = df['Last_Transaction'].dt.year\n",
    "\n",
    "#Cek rata-rata jumlah transaksi pertahun\n",
    "df_average_transaction = df[['Product', 'Year_First_Transaction', 'Average_Transaction_Amount']]\n",
    "\n",
    "#Cek rata-rata jumlah transaksi pertahun\n",
    "data = df_average_transaction.groupby(['Product', 'Year_First_Transaction']).mean().reset_index()\n",
    "print(\"-----------------------------------\")\n",
    "print('Cek rata-rata jumlah transaksi pertahun')\n",
    "print(\"-----------------------------------\")\n",
    "print(data)\n",
    "\n",
    "print('\\n')\n",
    "\n",
    "print(\"-----------------------------------\")\n",
    "print('Graph of Average transaction amount by year')\n",
    "print(\"-----------------------------------\")\n",
    "\n",
    "import matplotlib.pyplot as plt\n",
    "import seaborn as sns\n",
    "plt.clf()\n",
    "sns.pointplot(data = df.groupby(['Product', 'Year_First_Transaction']).mean().reset_index(),\n",
    "\t\t\t  x='Year_First_Transaction',\n",
    "\t\t\t  y='Average_Transaction_Amount',\n",
    "\t\t\t  hue='Product')\n",
    "plt.tight_layout()\n",
    "plt.show()\n",
    "\n"
   ]
  },
  {
   "cell_type": "markdown",
   "id": "bbe69206-ce7d-4418-a361-3e44eb9dc681",
   "metadata": {},
   "source": [
    "Disini dapat kita ketahui alasan mengapa pada grafik Customer acquisition by year pada tahun 2017 mengalami peningkatan yang pesat hal ini dikarenakan produk baju mulai dijual pada tahun tersebut sedangkan tahun2 sebelumnya belum ada sehingga hal ini meningkatkan \n",
    "jumlah customer yang melakukan transaksi pada tahun tersebut. Sedangkan untuk graph Transaction by year pada tahun 2017 hanya berefek peningkatan sedikit pada jumlah transaksi produk yang telah dilakukan customer per tahunya. Dari grafik diatas dapat kita lihat pola yang tidak beraturan \n",
    "dari Graph of Average transaction amount by year untuk setiap produk."
   ]
  },
  {
   "cell_type": "markdown",
   "id": "2946cd83-74d0-417b-8ec3-64ddfe1362f9",
   "metadata": {},
   "source": [
    "<br>"
   ]
  },
  {
   "cell_type": "markdown",
   "id": "da362a41-09f9-4fef-8f49-24d6701fc2e0",
   "metadata": {},
   "source": [
    "#### Proporsi churned customer untuk setiap produk"
   ]
  },
  {
   "cell_type": "markdown",
   "id": "e4bc742b-46d2-480a-b5de-ae7a25dae1a4",
   "metadata": {},
   "source": [
    "Disini kita mencoba mengecek proporsi churn untuk setiap produk, sehingga kita dapat mengetahui produk mana yang ditinggal kan customer"
   ]
  },
  {
   "cell_type": "code",
   "execution_count": 23,
   "id": "43f29b8c-5ad8-4c25-bb7e-0133fe9a71c6",
   "metadata": {},
   "outputs": [
    {
     "name": "stdout",
     "output_type": "stream",
     "text": [
      "-----------------------------------\n",
      "Cek 5 data teratas :\n",
      "-----------------------------------\n",
      "   Customer_ID Product             First_Transaction  \\\n",
      "0        29531   Jaket 2016-06-19 02:44:34.396000000   \n",
      "1        29531  Sepatu 2014-07-23 01:02:11.493999872   \n",
      "2       141526     Tas 2017-04-28 03:12:27.000000000   \n",
      "3       141526   Jaket 2017-04-28 06:52:52.546999808   \n",
      "4        37545  Sepatu 2015-04-16 10:01:38.530999808   \n",
      "\n",
      "               Last_Transaction  Average_Transaction_Amount  \\\n",
      "0 2018-10-05 05:48:02.608000000                     1467681   \n",
      "1 2018-12-25 11:02:41.269999872                     1269337   \n",
      "2 2019-01-24 09:40:02.000000000                      310915   \n",
      "3 2019-01-16 13:00:03.911000064                      722632   \n",
      "4 2018-11-22 12:53:41.529999872                     1775036   \n",
      "\n",
      "   Count_Transaction  Year_First_Transaction  Year_Last_Transaction is_churn  \n",
      "0                 22                    2016                   2018    False  \n",
      "1                 41                    2014                   2018    False  \n",
      "2                 30                    2017                   2019    False  \n",
      "3                 27                    2017                   2019    False  \n",
      "4                 25                    2015                   2018    False  \n",
      "\n",
      "\n",
      "-----------------------------------\n",
      "Cek hasil pivot :\n",
      "-----------------------------------\n",
      "Product   Baju  Jaket  Sepatu   Tas\n",
      "is_churn                           \n",
      "False     1268  11123   16064  4976\n",
      "True      2144  23827   33090  7508\n",
      "\n",
      "\n",
      "\n",
      "Index(['Baju', 'Jaket', 'Sepatu', 'Tas'], dtype='object', name='Product')\n",
      "\n",
      "\n",
      "-----------------------------------\n",
      "Grafik Proporsi churned customer untuk setiap produk\n",
      "-----------------------------------\n"
     ]
    },
    {
     "data": {
      "text/plain": [
       "<Figure size 432x288 with 0 Axes>"
      ]
     },
     "metadata": {},
     "output_type": "display_data"
    },
    {
     "data": {
      "image/png": "[encoded data removed]",
      "text/plain": [
       "<Figure size 720x504 with 4 Axes>"
      ]
     },
     "metadata": {},
     "output_type": "display_data"
    },
    {
     "name": "stdout",
     "output_type": "stream",
     "text": [
      "\n",
      "\n"
     ]
    }
   ],
   "source": [
    "# code sebelumnya\n",
    "import pandas as pd\n",
    "df = pd.read_csv('data_retail.csv', sep=';')\n",
    "del df['no']\n",
    "del df['Row_Num']\n",
    "df['First_Transaction'] = pd.to_datetime(df['First_Transaction']/1000, unit='s', origin='1970-01-01')\n",
    "df['Last_Transaction'] = pd.to_datetime(df['Last_Transaction']/1000, unit='s', origin='1970-01-01')\n",
    "df['Year_First_Transaction'] = df['First_Transaction'].dt.year\n",
    "df['Year_Last_Transaction'] = df['Last_Transaction'].dt.year\n",
    "df.loc[df['Last_Transaction'] <= '2018-08-01', 'is_churn'] = True \n",
    "df.loc[df['Last_Transaction'] > '2018-08-01', 'is_churn'] = False \n",
    "\n",
    "\n",
    "import matplotlib.pyplot as plt\n",
    "plt.clf()\n",
    "\n",
    "\n",
    "\n",
    "print(\"-----------------------------------\")\n",
    "print('Cek 5 data teratas :')\n",
    "print(\"-----------------------------------\")\n",
    "print(df.head())\n",
    "\n",
    "print('\\n')\n",
    "\n",
    "# Melakukan pivot data\n",
    "df_piv = df.pivot_table(index='is_churn',\n",
    "\t\t\t\t\t\tcolumns='Product',\n",
    "\t\t\t\t\t\tvalues='Customer_ID',\n",
    "\t\t\t\t\t\taggfunc='count',\n",
    "\t\t\t\t\t\tfill_value=0)\n",
    "\n",
    "print(\"-----------------------------------\")\n",
    "print('Cek hasil pivot :')\n",
    "print(\"-----------------------------------\")\n",
    "print(df_piv.head())\n",
    "\n",
    "print('\\n\\n')\n",
    "# Mendapatkan Proportion Churn by Product\n",
    "plot_product = df_piv.count().sort_values(ascending=False).head(5).index\n",
    "print(plot_product)\n",
    "# Plot pie chartnya\n",
    "\n",
    "print('\\n')\n",
    "\n",
    "print(\"-----------------------------------\")\n",
    "print('Grafik Proporsi churned customer untuk setiap produk')\n",
    "print(\"-----------------------------------\")\n",
    "\n",
    "df_piv = df_piv.reindex(columns=plot_product)\n",
    "df_piv.plot.pie(subplots=True,\n",
    "\t\t\t\tfigsize=(10, 7),\n",
    "\t\t\t\tlayout=(-1, 2),\n",
    "\t\t\t\tautopct='%1.0f%%',\n",
    "\t\t\t\ttitle='Proportion Churn by Product')\n",
    "plt.tight_layout()\n",
    "plt.show()\n",
    "print('\\n')"
   ]
  },
  {
   "cell_type": "markdown",
   "id": "22199631-b195-4ddb-8eb6-799e881feb7e",
   "metadata": {},
   "source": [
    "Dari diagram pie chart diatas dapat kita diketahui bahwa produk jaket merupakan produk dengan tingkat churn paling tinggi, walaupun begitu selisih churnnya dengan produk lain tidak begitu jauh "
   ]
  },
  {
   "cell_type": "markdown",
   "id": "04c162b4-1e0a-415c-af9b-a138350b6cd2",
   "metadata": {},
   "source": [
    "<br>"
   ]
  },
  {
   "cell_type": "markdown",
   "id": "b233d712-54a9-4f28-9d55-7cbb60cb72be",
   "metadata": {},
   "source": [
    "#### Kategorisasi jumlah transaksi"
   ]
  },
  {
   "cell_type": "code",
   "execution_count": 24,
   "id": "ddf4bd3c-c140-4d10-a37e-9b504fcc168f",
   "metadata": {},
   "outputs": [
    {
     "name": "stdout",
     "output_type": "stream",
     "text": [
      "-----------------------------------\n",
      "Cek 5 data teratas :\n",
      "-----------------------------------\n",
      "   Customer_ID Product             First_Transaction  \\\n",
      "0        29531   Jaket 2016-06-19 02:44:34.396000000   \n",
      "1        29531  Sepatu 2014-07-23 01:02:11.493999872   \n",
      "2       141526     Tas 2017-04-28 03:12:27.000000000   \n",
      "3       141526   Jaket 2017-04-28 06:52:52.546999808   \n",
      "4        37545  Sepatu 2015-04-16 10:01:38.530999808   \n",
      "\n",
      "               Last_Transaction  Average_Transaction_Amount  \\\n",
      "0 2018-10-05 05:48:02.608000000                     1467681   \n",
      "1 2018-12-25 11:02:41.269999872                     1269337   \n",
      "2 2019-01-24 09:40:02.000000000                      310915   \n",
      "3 2019-01-16 13:00:03.911000064                      722632   \n",
      "4 2018-11-22 12:53:41.529999872                     1775036   \n",
      "\n",
      "   Count_Transaction  Year_First_Transaction  Year_Last_Transaction is_churn  \n",
      "0                 22                    2016                   2018    False  \n",
      "1                 41                    2014                   2018    False  \n",
      "2                 30                    2017                   2019    False  \n",
      "3                 27                    2017                   2019    False  \n",
      "4                 25                    2015                   2018    False  \n",
      "\n",
      "\n",
      "-----------------------------------\n",
      "Cek 5 data teratas setelah ditambah coulmn kategorisasi jumlah transaksi:\n",
      "-----------------------------------\n",
      "   Customer_ID Product             First_Transaction  \\\n",
      "0        29531   Jaket 2016-06-19 02:44:34.396000000   \n",
      "1        29531  Sepatu 2014-07-23 01:02:11.493999872   \n",
      "2       141526     Tas 2017-04-28 03:12:27.000000000   \n",
      "3       141526   Jaket 2017-04-28 06:52:52.546999808   \n",
      "4        37545  Sepatu 2015-04-16 10:01:38.530999808   \n",
      "\n",
      "               Last_Transaction  Average_Transaction_Amount  \\\n",
      "0 2018-10-05 05:48:02.608000000                     1467681   \n",
      "1 2018-12-25 11:02:41.269999872                     1269337   \n",
      "2 2019-01-24 09:40:02.000000000                      310915   \n",
      "3 2019-01-16 13:00:03.911000064                      722632   \n",
      "4 2018-11-22 12:53:41.529999872                     1775036   \n",
      "\n",
      "   Count_Transaction  Year_First_Transaction  Year_Last_Transaction is_churn  \\\n",
      "0                 22                    2016                   2018    False   \n",
      "1                 41                    2014                   2018    False   \n",
      "2                 30                    2017                   2019    False   \n",
      "3                 27                    2017                   2019    False   \n",
      "4                 25                    2015                   2018    False   \n",
      "\n",
      "  Count_Transaction_Group  \n",
      "0                     >10  \n",
      "1                     >10  \n",
      "2                     >10  \n",
      "3                     >10  \n",
      "4                     >10  \n",
      "\n",
      "\n",
      "-----------------------------------\n",
      "Kategorisasi jumlah transaksi\n",
      "-----------------------------------\n",
      "Count_Transaction_Group\n",
      "1         49255\n",
      "2 - 3     14272\n",
      "4 - 6     12126\n",
      "7 - 10     2890\n",
      ">10       21457\n",
      "Name: Customer_ID, dtype: int64\n",
      "\n",
      "\n",
      "-----------------------------------\n",
      "Grafik Kategorisasi jumlah transaksi\n",
      "-----------------------------------\n"
     ]
    },
    {
     "data": {
      "image/png": "[encoded data removed]",
      "text/plain": [
       "<Figure size 432x288 with 1 Axes>"
      ]
     },
     "metadata": {
      "needs_background": "light"
     },
     "output_type": "display_data"
    }
   ],
   "source": [
    "# code sebelumnya\n",
    "import pandas as pd\n",
    "df = pd.read_csv('data_retail.csv', sep=';')\n",
    "del df['no']\n",
    "del df['Row_Num']\n",
    "df['First_Transaction'] = pd.to_datetime(df['First_Transaction']/1000, unit='s', origin='1970-01-01')\n",
    "df['Last_Transaction'] = pd.to_datetime(df['Last_Transaction']/1000, unit='s', origin='1970-01-01')\n",
    "df['Year_First_Transaction'] = df['First_Transaction'].dt.year\n",
    "df['Year_Last_Transaction'] = df['Last_Transaction'].dt.year\n",
    "df.loc[df['Last_Transaction'] <= '2018-08-01', 'is_churn'] = True \n",
    "df.loc[df['Last_Transaction'] > '2018-08-01', 'is_churn'] = False \n",
    "\n",
    "\n",
    "import matplotlib.pyplot as plt\n",
    "plt.clf()\n",
    "print(\"-----------------------------------\")\n",
    "print('Cek 5 data teratas :')\n",
    "print(\"-----------------------------------\")\n",
    "print(df.head())\n",
    "\n",
    "print('\\n')\n",
    "\n",
    "# Kategorisasi jumlah transaksi\n",
    "def func(row):\n",
    "\tif row['Count_Transaction'] == 1:\n",
    "\t\tval = '1'\n",
    "\telif (row['Count_Transaction'] >1 and row['Count_Transaction'] <= 3):\n",
    "\t\tval ='2 - 3'\n",
    "\telif (row['Count_Transaction'] >3 and row['Count_Transaction'] <= 6):\n",
    "\t\tval ='4 - 6'\n",
    "\telif (row['Count_Transaction'] >6 and row['Count_Transaction'] <= 10):\n",
    "\t\tval ='7 - 10'\n",
    "\telse:\n",
    "\t\tval ='>10'\n",
    "\treturn val\n",
    "# Tambahkan kolom baru\n",
    "df['Count_Transaction_Group'] = df.apply(func, axis=1)\n",
    "print(\"-----------------------------------\")\n",
    "print('Cek 5 data teratas setelah ditambah coulmn kategorisasi jumlah transaksi:')\n",
    "print(\"-----------------------------------\")\n",
    "print(df.head())\n",
    "\n",
    "print('\\n')\n",
    "\n",
    "\n",
    "\n",
    "print(\"-----------------------------------\")\n",
    "print('Kategorisasi jumlah transaksi')\n",
    "print(\"-----------------------------------\")\n",
    "\n",
    "df_year = df.groupby(['Count_Transaction_Group'])['Customer_ID'].count()\n",
    "print(df_year.head())\n",
    "\n",
    "print('\\n')\n",
    "\n",
    "print(\"-----------------------------------\")\n",
    "print('Grafik Kategorisasi jumlah transaksi')\n",
    "print(\"-----------------------------------\")\n",
    "df_year.plot(x='Count_Transaction_Group', y='Customer_ID', kind='bar', title='Customer Distribution by Count Transaction Group')\n",
    "plt.xlabel('Count_Transaction_Group')\n",
    "plt.ylabel('Num_of_Customer')\n",
    "plt.tight_layout()\n",
    "plt.show()"
   ]
  },
  {
   "cell_type": "markdown",
   "id": "a0e44ce1-3102-4e75-b79a-7760b8165ef6",
   "metadata": {},
   "source": [
    "Dari grafik diatas dapat kita lihat  customer kebanyakan hanya membeli 1 produk saja alias ngecer"
   ]
  },
  {
   "cell_type": "markdown",
   "id": "446aa85d-df07-4e08-aa9b-37edddfa50f9",
   "metadata": {},
   "source": [
    "<br>"
   ]
  },
  {
   "cell_type": "markdown",
   "id": "992cbd6c-82e2-4887-a1f8-b12bf7559e55",
   "metadata": {},
   "source": [
    "#### Distribusi kategorisasi average transaction amount"
   ]
  },
  {
   "cell_type": "code",
   "execution_count": 25,
   "id": "29951faa-136c-41dc-801a-3440c857c6ec",
   "metadata": {},
   "outputs": [
    {
     "name": "stdout",
     "output_type": "stream",
     "text": [
      "-----------------------------------\n",
      "Cek 5 data teratas\n",
      "-----------------------------------\n",
      "   Customer_ID Product             First_Transaction  \\\n",
      "0        29531   Jaket 2016-06-19 02:44:34.396000000   \n",
      "1        29531  Sepatu 2014-07-23 01:02:11.493999872   \n",
      "2       141526     Tas 2017-04-28 03:12:27.000000000   \n",
      "3       141526   Jaket 2017-04-28 06:52:52.546999808   \n",
      "4        37545  Sepatu 2015-04-16 10:01:38.530999808   \n",
      "\n",
      "               Last_Transaction  Average_Transaction_Amount  \\\n",
      "0 2018-10-05 05:48:02.608000000                     1467681   \n",
      "1 2018-12-25 11:02:41.269999872                     1269337   \n",
      "2 2019-01-24 09:40:02.000000000                      310915   \n",
      "3 2019-01-16 13:00:03.911000064                      722632   \n",
      "4 2018-11-22 12:53:41.529999872                     1775036   \n",
      "\n",
      "   Count_Transaction  Year_First_Transaction  Year_Last_Transaction is_churn  \n",
      "0                 22                    2016                   2018    False  \n",
      "1                 41                    2014                   2018    False  \n",
      "2                 30                    2017                   2019    False  \n",
      "3                 27                    2017                   2019    False  \n",
      "4                 25                    2015                   2018    False  \n",
      "\n",
      "\n",
      "-----------------------------------\n",
      "Cek 5 data teratas setelah ditambah kategorisasi average transaction amount\n",
      "-----------------------------------\n",
      "   Customer_ID Product             First_Transaction  \\\n",
      "0        29531   Jaket 2016-06-19 02:44:34.396000000   \n",
      "1        29531  Sepatu 2014-07-23 01:02:11.493999872   \n",
      "2       141526     Tas 2017-04-28 03:12:27.000000000   \n",
      "3       141526   Jaket 2017-04-28 06:52:52.546999808   \n",
      "4        37545  Sepatu 2015-04-16 10:01:38.530999808   \n",
      "\n",
      "               Last_Transaction  Average_Transaction_Amount  \\\n",
      "0 2018-10-05 05:48:02.608000000                     1467681   \n",
      "1 2018-12-25 11:02:41.269999872                     1269337   \n",
      "2 2019-01-24 09:40:02.000000000                      310915   \n",
      "3 2019-01-16 13:00:03.911000064                      722632   \n",
      "4 2018-11-22 12:53:41.529999872                     1775036   \n",
      "\n",
      "   Count_Transaction  Year_First_Transaction  Year_Last_Transaction is_churn  \\\n",
      "0                 22                    2016                   2018    False   \n",
      "1                 41                    2014                   2018    False   \n",
      "2                 30                    2017                   2019    False   \n",
      "3                 27                    2017                   2019    False   \n",
      "4                 25                    2015                   2018    False   \n",
      "\n",
      "  Average_Transaction_Amount_Group  \n",
      "0           >1.000.000 - 2.500.000  \n",
      "1           >1.000.000 - 2.500.000  \n",
      "2               >250.000 - 500.000  \n",
      "3               >500.000 - 750.000  \n",
      "4           >1.000.000 - 2.500.000  \n",
      "\n",
      "\n",
      "-----------------------------------\n",
      "Kategorisasi Distribusi kategorisasi average transaction amount\n",
      "-----------------------------------\n",
      "Average_Transaction_Amount_Group\n",
      "100.000 - 250.000          7944\n",
      ">1.000.000 - 2.500.000    32819\n",
      ">10.000.000                 195\n",
      ">2.500.000 - 5.000.000     9027\n",
      ">250.000 - 500.000        18857\n",
      "Name: Customer_ID, dtype: int64\n",
      "\n",
      "\n",
      "-----------------------------------\n",
      "Grafik Distribusi kategorisasi average transaction amount\n",
      "-----------------------------------\n"
     ]
    },
    {
     "data": {
      "image/png": "[encoded data removed]",
      "text/plain": [
       "<Figure size 432x288 with 1 Axes>"
      ]
     },
     "metadata": {
      "needs_background": "light"
     },
     "output_type": "display_data"
    }
   ],
   "source": [
    "# code sebelumnya\n",
    "import pandas as pd\n",
    "df = pd.read_csv('data_retail.csv', sep=';')\n",
    "del df['no']\n",
    "del df['Row_Num']\n",
    "df['First_Transaction'] = pd.to_datetime(df['First_Transaction']/1000, unit='s', origin='1970-01-01')\n",
    "df['Last_Transaction'] = pd.to_datetime(df['Last_Transaction']/1000, unit='s', origin='1970-01-01')\n",
    "df['Year_First_Transaction'] = df['First_Transaction'].dt.year\n",
    "df['Year_Last_Transaction'] = df['Last_Transaction'].dt.year\n",
    "df.loc[df['Last_Transaction'] <= '2018-08-01', 'is_churn'] = True \n",
    "df.loc[df['Last_Transaction'] > '2018-08-01', 'is_churn'] = False \n",
    "\n",
    "\n",
    "\n",
    "import matplotlib.pyplot as plt\n",
    "plt.clf()\n",
    "print(\"-----------------------------------\")\n",
    "print('Cek 5 data teratas')\n",
    "print(\"-----------------------------------\")\n",
    "print(df.head())\n",
    "\n",
    "print('\\n')\n",
    "\n",
    "# Kategorisasi rata-rata besar transaksi\n",
    "def f(row):\n",
    "\tif (row['Average_Transaction_Amount'] >= 100000 and row['Average_Transaction_Amount'] <=250000):\n",
    "\t\tval ='100.000 - 250.000'\n",
    "\telif (row['Average_Transaction_Amount'] >250000 and row['Average_Transaction_Amount'] <= 500000):\n",
    "\t\tval ='>250.000 - 500.000'\n",
    "\telif (row['Average_Transaction_Amount'] >500000 and row['Average_Transaction_Amount'] <= 750000):\n",
    "\t\tval ='>500.000 - 750.000'\n",
    "\telif (row['Average_Transaction_Amount'] >750000 and row['Average_Transaction_Amount'] <= 1000000):\n",
    "\t\tval ='>750.000 - 1.000.000'\n",
    "\telif (row['Average_Transaction_Amount'] >1000000 and row['Average_Transaction_Amount'] <= 2500000):\n",
    "\t\tval ='>1.000.000 - 2.500.000'\n",
    "\telif (row['Average_Transaction_Amount'] >2500000 and row['Average_Transaction_Amount'] <= 5000000):\n",
    "\t\tval ='>2.500.000 - 5.000.000'\n",
    "\telif (row['Average_Transaction_Amount'] >5000000 and row['Average_Transaction_Amount'] <= 10000000):\n",
    "\t\tval ='>5.000.000 - 10.000.000'\n",
    "\telse:\n",
    "\t\tval ='>10.000.000'\n",
    "\treturn val\n",
    "\n",
    "\n",
    "# Tambahkan kolom baru\n",
    "df['Average_Transaction_Amount_Group'] = df.apply(f, axis=1)\n",
    "\n",
    "print(\"-----------------------------------\")\n",
    "print('Cek 5 data teratas setelah ditambah kategorisasi average transaction amount')\n",
    "print(\"-----------------------------------\")\n",
    "print(df.head())\n",
    "\n",
    "print('\\n')\n",
    "\n",
    "df_year = df.groupby(['Average_Transaction_Amount_Group'])['Customer_ID'].count()\n",
    "\n",
    "print(\"-----------------------------------\")\n",
    "print('Kategorisasi Distribusi kategorisasi average transaction amount')\n",
    "print(\"-----------------------------------\")\n",
    "print(df_year.head())\n",
    "\n",
    "print('\\n')\n",
    "\n",
    "print(\"-----------------------------------\")\n",
    "print('Grafik Distribusi kategorisasi average transaction amount')\n",
    "print(\"-----------------------------------\")\n",
    "df_year.plot(x='Average_Transaction_Amount_Group', y='Customer_ID',kind='bar', title='Customer Distribution by Average Transaction Amount Group')\n",
    "plt.xlabel('Average_Transaction_Amount_Group')\n",
    "plt.ylabel('Num_of_Customer')\n",
    "plt.tight_layout()\n",
    "plt.show()"
   ]
  },
  {
   "cell_type": "markdown",
   "id": "0938f1d5-cb46-40fd-b1dc-8dd5c7d68cbe",
   "metadata": {},
   "source": [
    "Dari grafik diatas dapat kita simpulkan Average_Transaction_Amount para customer kebanyakan adalah sekitar 1.000.000 - 2.500.000 "
   ]
  },
  {
   "cell_type": "markdown",
   "id": "78a4553e-c31a-4260-bd3f-74a265c0cfaa",
   "metadata": {},
   "source": [
    "<br>"
   ]
  },
  {
   "cell_type": "markdown",
   "id": "b78e073a-405b-4f37-8b2e-3aa83fe2bf71",
   "metadata": {},
   "source": [
    "# Logistic Regression"
   ]
  },
  {
   "cell_type": "markdown",
   "id": "229ff837-2d82-4bcc-bba6-573733d6dd93",
   "metadata": {},
   "source": [
    "Logistic regression hampir serupa dengan linear regression tetapi linear regression digunakan untuk Label atau Target Variable yang berupa numerik atau continuous value, sedangkan Logistic regression digunakan untuk Label atau Target yang berupa categorical/discrete value.\n",
    "Logistic Regression hanya dapat mengolah data dengan tipe numerik. Pada saat preparasi data, pastikan untuk mengecek tipe variabel yang ada dalam dataset dan pastikan semuanya adalah numerik, lakukan data transformasi jika diperlukan."
   ]
  },
  {
   "cell_type": "markdown",
   "id": "4c97c21b-b0c2-479b-8fbd-00411b56c355",
   "metadata": {},
   "source": [
    "#### Add Feature Columns"
   ]
  },
  {
   "cell_type": "code",
   "execution_count": 26,
   "id": "6de60bd4-5e62-4d5c-bb65-e3f83aa5d29a",
   "metadata": {},
   "outputs": [
    {
     "name": "stdout",
     "output_type": "stream",
     "text": [
      "-----------------------------------\n",
      "Cek 5 data teratas\n",
      "-----------------------------------\n",
      "   Customer_ID Product             First_Transaction  \\\n",
      "0        29531   Jaket 2016-06-19 02:44:34.396000000   \n",
      "1        29531  Sepatu 2014-07-23 01:02:11.493999872   \n",
      "2       141526     Tas 2017-04-28 03:12:27.000000000   \n",
      "3       141526   Jaket 2017-04-28 06:52:52.546999808   \n",
      "4        37545  Sepatu 2015-04-16 10:01:38.530999808   \n",
      "\n",
      "               Last_Transaction  Average_Transaction_Amount  \\\n",
      "0 2018-10-05 05:48:02.608000000                     1467681   \n",
      "1 2018-12-25 11:02:41.269999872                     1269337   \n",
      "2 2019-01-24 09:40:02.000000000                      310915   \n",
      "3 2019-01-16 13:00:03.911000064                      722632   \n",
      "4 2018-11-22 12:53:41.529999872                     1775036   \n",
      "\n",
      "   Count_Transaction  Year_First_Transaction  Year_Last_Transaction is_churn  \n",
      "0                 22                    2016                   2018    False  \n",
      "1                 41                    2014                   2018    False  \n",
      "2                 30                    2017                   2019    False  \n",
      "3                 27                    2017                   2019    False  \n",
      "4                 25                    2015                   2018    False  \n",
      "\n",
      "\n",
      "-----------------------------------\n",
      "Cek 5 data teratas setelah ditambah column Year_Diff\n",
      "-----------------------------------\n",
      "   Customer_ID Product             First_Transaction  \\\n",
      "0        29531   Jaket 2016-06-19 02:44:34.396000000   \n",
      "1        29531  Sepatu 2014-07-23 01:02:11.493999872   \n",
      "2       141526     Tas 2017-04-28 03:12:27.000000000   \n",
      "3       141526   Jaket 2017-04-28 06:52:52.546999808   \n",
      "4        37545  Sepatu 2015-04-16 10:01:38.530999808   \n",
      "\n",
      "               Last_Transaction  Average_Transaction_Amount  \\\n",
      "0 2018-10-05 05:48:02.608000000                     1467681   \n",
      "1 2018-12-25 11:02:41.269999872                     1269337   \n",
      "2 2019-01-24 09:40:02.000000000                      310915   \n",
      "3 2019-01-16 13:00:03.911000064                      722632   \n",
      "4 2018-11-22 12:53:41.529999872                     1775036   \n",
      "\n",
      "   Count_Transaction  Year_First_Transaction  Year_Last_Transaction is_churn  \\\n",
      "0                 22                    2016                   2018    False   \n",
      "1                 41                    2014                   2018    False   \n",
      "2                 30                    2017                   2019    False   \n",
      "3                 27                    2017                   2019    False   \n",
      "4                 25                    2015                   2018    False   \n",
      "\n",
      "   Year_Diff  \n",
      "0          2  \n",
      "1          4  \n",
      "2          2  \n",
      "3          2  \n",
      "4          3  \n"
     ]
    }
   ],
   "source": [
    "# code sebelumnya\n",
    "import pandas as pd\n",
    "df = pd.read_csv('data_retail.csv', sep=';')\n",
    "del df['no']\n",
    "del df['Row_Num']\n",
    "df['First_Transaction'] = pd.to_datetime(df['First_Transaction']/1000, unit='s', origin='1970-01-01')\n",
    "df['Last_Transaction'] = pd.to_datetime(df['Last_Transaction']/1000, unit='s', origin='1970-01-01')\n",
    "df['Year_First_Transaction'] = df['First_Transaction'].dt.year\n",
    "df['Year_Last_Transaction'] = df['Last_Transaction'].dt.year\n",
    "df.loc[df['Last_Transaction'] <= '2018-08-01', 'is_churn'] = True \n",
    "df.loc[df['Last_Transaction'] > '2018-08-01', 'is_churn'] = False \n",
    "\n",
    "\n",
    "\n",
    "print(\"-----------------------------------\")\n",
    "print('Cek 5 data teratas')\n",
    "print(\"-----------------------------------\")\n",
    "print(df.head())\n",
    "\n",
    "print('\\n')\n",
    "\n",
    "# Feature column: Year_Diff\n",
    "df['Year_Diff']=df['Year_Last_Transaction']-df['Year_First_Transaction']\n",
    "\n",
    "print(\"-----------------------------------\")\n",
    "print('Cek 5 data teratas setelah ditambah column Year_Diff')\n",
    "print(\"-----------------------------------\")\n",
    "print(df.head())\n",
    "\n"
   ]
  },
  {
   "cell_type": "markdown",
   "id": "c24631dd-efd3-491f-98a7-83d32908bf06",
   "metadata": {},
   "source": [
    "<br>"
   ]
  },
  {
   "cell_type": "markdown",
   "id": "78e2476c-543f-4c13-a5ec-ad5573188419",
   "metadata": {},
   "source": [
    "#### Split X dan y ke dalam bagian training dan testing"
   ]
  },
  {
   "cell_type": "code",
   "execution_count": 39,
   "id": "0745844e-2321-4c73-9bdc-cccc0b7441ee",
   "metadata": {},
   "outputs": [
    {
     "name": "stdout",
     "output_type": "stream",
     "text": [
      "-----------------------------------\n",
      "Cek Features variable\n",
      "-----------------------------------\n",
      "   Average_Transaction_Amount  Count_Transaction  Year_Diff\n",
      "0                     1467681                 22          2\n",
      "1                     1269337                 41          4\n",
      "2                      310915                 30          2\n",
      "3                      722632                 27          2\n",
      "4                     1775036                 25          3\n",
      "\n",
      "\n",
      "-----------------------------------\n",
      "Cek Tipe data\n",
      "-----------------------------------\n",
      "<class 'pandas.core.frame.DataFrame'>\n",
      "RangeIndex: 100000 entries, 0 to 99999\n",
      "Data columns (total 3 columns):\n",
      " #   Column                      Non-Null Count   Dtype\n",
      "---  ------                      --------------   -----\n",
      " 0   Average_Transaction_Amount  100000 non-null  int64\n",
      " 1   Count_Transaction           100000 non-null  int64\n",
      " 2   Year_Diff                   100000 non-null  int64\n",
      "dtypes: int64(3)\n",
      "memory usage: 2.3 MB\n",
      "None\n",
      "\n",
      "\n",
      "-----------------------------------\n",
      "Cek Target variable\n",
      "-----------------------------------\n",
      "0    0\n",
      "1    0\n",
      "2    0\n",
      "3    0\n",
      "4    0\n",
      "Name: is_churn, dtype: int32\n",
      "\n",
      "\n",
      "-----------------------------------\n",
      "Cek Tipe data\n",
      "-----------------------------------\n",
      "<class 'pandas.core.series.Series'>\n",
      "RangeIndex: 100000 entries, 0 to 99999\n",
      "Series name: is_churn\n",
      "Non-Null Count   Dtype\n",
      "--------------   -----\n",
      "100000 non-null  int32\n",
      "dtypes: int32(1)\n",
      "memory usage: 390.8 KB\n",
      "None\n",
      "\n",
      "\n",
      "\n",
      "\n",
      "-----------------------X_train-----------------------------\n",
      "\n",
      "       Average_Transaction_Amount  Count_Transaction  Year_Diff\n",
      "2606                      1649125                 34          2\n",
      "57228                     7432327                  1          0\n",
      "8382                      1224173                 27          2\n",
      "60281                     3775449                  2          0\n",
      "48432                      149891                  1          0\n",
      "...                           ...                ...        ...\n",
      "21243                     1630986                  1          0\n",
      "45891                      666589                  1          0\n",
      "42613                     2876998                  1          0\n",
      "43567                     1000026                  5          0\n",
      "68268                     2318409                  1          0\n",
      "\n",
      "[75000 rows x 3 columns]\n",
      "\n",
      "\n",
      "-----------------------X_test-----------------------------\n",
      "\n",
      "       Average_Transaction_Amount  Count_Transaction  Year_Diff\n",
      "3582                       161337                 30          2\n",
      "60498                      505519                  5          4\n",
      "53227                     1032602                  1          0\n",
      "21333                     1040972                  2          1\n",
      "3885                       165244                 41          2\n",
      "...                           ...                ...        ...\n",
      "26543                      627139                  2          0\n",
      "85764                      394236                  1          0\n",
      "87585                     5882930                  1          0\n",
      "32519                      315490                  2          0\n",
      "18831                      700146                 47          2\n",
      "\n",
      "[25000 rows x 3 columns]\n",
      "\n",
      "\n",
      "-----------------------y_train-----------------------------\n",
      "\n",
      "2606     0\n",
      "57228    0\n",
      "8382     1\n",
      "60281    1\n",
      "48432    0\n",
      "        ..\n",
      "21243    1\n",
      "45891    1\n",
      "42613    1\n",
      "43567    1\n",
      "68268    1\n",
      "Name: is_churn, Length: 75000, dtype: int32\n",
      "\n",
      "\n",
      "----------------------- y_test-----------------------------\n",
      "\n",
      "3582     0\n",
      "60498    1\n",
      "53227    1\n",
      "21333    0\n",
      "3885     0\n",
      "        ..\n",
      "26543    0\n",
      "85764    1\n",
      "87585    1\n",
      "32519    1\n",
      "18831    0\n",
      "Name: is_churn, Length: 25000, dtype: int32\n"
     ]
    }
   ],
   "source": [
    "# code sebelumnya\n",
    "import pandas as pd\n",
    "df = pd.read_csv('data_retail.csv', sep=';')\n",
    "del df['no']\n",
    "del df['Row_Num']\n",
    "df['First_Transaction'] = pd.to_datetime(df['First_Transaction']/1000, unit='s', origin='1970-01-01')\n",
    "df['Last_Transaction'] = pd.to_datetime(df['Last_Transaction']/1000, unit='s', origin='1970-01-01')\n",
    "df['Year_First_Transaction'] = df['First_Transaction'].dt.year\n",
    "df['Year_Last_Transaction'] = df['Last_Transaction'].dt.year\n",
    "df.loc[df['Last_Transaction'] <= '2018-08-01', 'is_churn'] = True \n",
    "df.loc[df['Last_Transaction'] > '2018-08-01', 'is_churn'] = False \n",
    "df['Year_Diff']=df['Year_Last_Transaction']-df['Year_First_Transaction']\n",
    "\n",
    "\n",
    "# Nama-nama feature columns\n",
    "feature_columns = ['Average_Transaction_Amount', 'Count_Transaction', 'Year_Diff']\n",
    "\n",
    "\n",
    "# Features variable\n",
    "X = df[feature_columns]\n",
    "print(\"-----------------------------------\")\n",
    "print('Cek Features variable')\n",
    "print(\"-----------------------------------\")\n",
    "print(X.head())\n",
    "\n",
    "print('\\n')\n",
    "\n",
    "#memastikann semua tipe data numerik untuk column yang digunakan\n",
    "print(\"-----------------------------------\")\n",
    "print('Cek Tipe data')\n",
    "print(\"-----------------------------------\")\n",
    "print(X.info())\n",
    "\n",
    "print('\\n')\n",
    "\n",
    "# Target variable\n",
    "y = df['is_churn']\n",
    "y = y.astype(int)\n",
    "print(\"-----------------------------------\")\n",
    "print('Cek Target variable')\n",
    "print(\"-----------------------------------\")\n",
    "print(y.head())\n",
    "\n",
    "print('\\n')\n",
    "\n",
    "#memastikann semua tipe data numerik untuk column yang digunakan\n",
    "print(\"-----------------------------------\")\n",
    "print('Cek Tipe data')\n",
    "print(\"-----------------------------------\")\n",
    "print(y.info())\n",
    "\n",
    "print('\\n')\n",
    "\n",
    "\n",
    "from sklearn.model_selection import train_test_split\n",
    "\n",
    "#Split X dan y ke dalam bagian training dan testing\n",
    "X_train, X_test, y_train, y_test = train_test_split(X, y, test_size=0.25, random_state=0)\n",
    "print('\\n\\n-----------------------X_train-----------------------------\\n')\n",
    "print(X_train)\n",
    "print('\\n\\n-----------------------X_test-----------------------------\\n')\n",
    "print(X_test)\n",
    "print('\\n\\n-----------------------y_train-----------------------------\\n')\n",
    "print(y_train)\n",
    "print('\\n\\n----------------------- y_test-----------------------------\\n')\n",
    "print(y_test)\n"
   ]
  },
  {
   "cell_type": "markdown",
   "id": "28fbb34e-cbd0-47f6-8d88-d5005cf00e50",
   "metadata": {},
   "source": [
    "<br>"
   ]
  },
  {
   "cell_type": "markdown",
   "id": "32c5e37b-56e2-41b9-b63f-a9ddfdd44ef1",
   "metadata": {},
   "source": [
    "Dapat dilihat dari data frame diatas X_train berjumlah 75 RB baris sedangkan X_test 25 RB baris. Untuk data frame y_train dan x_test juga sama proporsinya. Hal ini karena kita mengatur test_size=0.25."
   ]
  },
  {
   "cell_type": "markdown",
   "id": "8a33574b-69ea-4235-bb56-7714465379ce",
   "metadata": {},
   "source": [
    "<br>"
   ]
  },
  {
   "cell_type": "markdown",
   "id": "826ece2a-0b44-4fb0-bd44-b226a568986c",
   "metadata": {},
   "source": [
    "#### Train, predict dan evaluate"
   ]
  },
  {
   "cell_type": "code",
   "execution_count": 46,
   "id": "5578a11e-5b6d-48f8-801d-2feb140c015d",
   "metadata": {},
   "outputs": [
    {
     "name": "stdout",
     "output_type": "stream",
     "text": [
      "Confusion Matrix:\n",
      " [[    1  8330]\n",
      " [    3 16666]]\n",
      "\n",
      "\n",
      "-----------------------------------\n",
      "Grafik heatmap\n",
      "-----------------------------------\n"
     ]
    },
    {
     "data": {
      "text/plain": [
       "<Figure size 432x288 with 0 Axes>"
      ]
     },
     "metadata": {},
     "output_type": "display_data"
    },
    {
     "data": {
      "image/png": "[encoded data removed]",
      "text/plain": [
       "<Figure size 432x288 with 2 Axes>"
      ]
     },
     "metadata": {
      "needs_background": "light"
     },
     "output_type": "display_data"
    }
   ],
   "source": [
    "#codingan sebelumnya\n",
    "import pandas as pd\n",
    "df = pd.read_csv('data_retail.csv', sep=';')\n",
    "df['First_Transaction'] = pd.to_datetime(df['First_Transaction']/1000, unit='s', origin='1970-01-01')\n",
    "df['Last_Transaction'] = pd.to_datetime(df['Last_Transaction']/1000, unit='s', origin='1970-01-01')\n",
    "df['Year_First_Transaction'] = df['First_Transaction'].dt.year\n",
    "df['Year_Last_Transaction'] = df['Last_Transaction'].dt.year\n",
    "df.loc[df['Last_Transaction'] <= '2018-08-01', 'is_churn'] = True\n",
    "df.loc[df['Last_Transaction'] > '2018-08-01', 'is_churn'] = False\n",
    "df['Year_Diff']=df['Year_Last_Transaction']-df['Year_First_Transaction']\n",
    "feature_columns = ['Average_Transaction_Amount', 'Count_Transaction', 'Year_Diff']\n",
    "X = df[feature_columns]\n",
    "y = df['is_churn']\n",
    "y = y.astype(int)\n",
    "from sklearn.model_selection import train_test_split\n",
    "X_train, X_test, y_train, y_test = train_test_split(X, y, test_size=0.25, random_state=0)\n",
    "\n",
    "\n",
    "\n",
    "\n",
    "#Train, predict dan evaluate¶\n",
    "from sklearn.linear_model import LogisticRegression\n",
    "from sklearn.metrics import confusion_matrix\n",
    "\n",
    "# Inisiasi model logreg\n",
    "logreg = LogisticRegression()\n",
    "\n",
    "# fit the model with data\n",
    "logreg.fit(X_train, y_train)\n",
    "\n",
    "# Predict model\n",
    "y_pred = logreg.predict(X_test)\n",
    "\n",
    "# Evaluasi model menggunakan confusion matrix\n",
    "cnf_matrix = confusion_matrix(y_test, y_pred)\n",
    "print('Confusion Matrix:\\n', cnf_matrix)\n",
    "\n",
    "\n",
    "\n",
    "\n",
    "#Visualisasi Confusion Matrix\n",
    "# import required modules\n",
    "import numpy as np\n",
    "import matplotlib.pyplot as plt\n",
    "import seaborn as sns\n",
    "\n",
    "plt.clf()\n",
    "# name of classes\n",
    "class_names = [0, 1]\n",
    "fig, ax = plt.subplots()\n",
    "\n",
    "tick_marks = np.arange(len(class_names))\n",
    "plt.xticks(tick_marks, class_names)\n",
    "plt.yticks(tick_marks, class_names)\n",
    "\n",
    "print('\\n')\n",
    "\n",
    "print(\"-----------------------------------\")\n",
    "print('Grafik heatmap')\n",
    "print(\"-----------------------------------\")\n",
    "# create heatmap\n",
    "sns.heatmap(pd.DataFrame(cnf_matrix), annot=True, cmap='YlGnBu', fmt='g')\n",
    "ax.xaxis.set_label_position('top')\n",
    "plt.title('Confusion matrix', y=1.1)\n",
    "plt.ylabel('Actual')\n",
    "plt.xlabel('Predicted')\n",
    "plt.tight_layout()\n",
    "plt.show()\n",
    "\n",
    "\n",
    "\n",
    "\n",
    "\n"
   ]
  },
  {
   "cell_type": "markdown",
   "id": "49b8a61c-04be-4385-b94a-0748682477c8",
   "metadata": {},
   "source": [
    "<br>"
   ]
  },
  {
   "cell_type": "markdown",
   "id": "e0ad917f-9958-46f6-bd70-c6ff44cc8587",
   "metadata": {},
   "source": [
    "#### Accuracy, Precision, dan Recall"
   ]
  },
  {
   "cell_type": "code",
   "execution_count": 44,
   "id": "7700cb50-428d-4da5-bffa-ea9de7ed9e86",
   "metadata": {},
   "outputs": [
    {
     "name": "stdout",
     "output_type": "stream",
     "text": [
      "Accuracy : 0.66668\n",
      "Precision: 0.66668\n",
      "Recall : 0.66668\n"
     ]
    }
   ],
   "source": [
    "#codingan sebelumnya\n",
    "import pandas as pd\n",
    "df = pd.read_csv('data_retail.csv', sep=';')\n",
    "df['First_Transaction'] = pd.to_datetime(df['First_Transaction']/1000, unit='s', origin='1970-01-01')\n",
    "df['Last_Transaction'] = pd.to_datetime(df['Last_Transaction']/1000, unit='s', origin='1970-01-01')\n",
    "df['Year_First_Transaction'] = df['First_Transaction'].dt.year\n",
    "df['Year_Last_Transaction'] = df['Last_Transaction'].dt.year\n",
    "df.loc[df['Last_Transaction'] <= '2018-08-01', 'is_churn'] = True\n",
    "df.loc[df['Last_Transaction'] > '2018-08-01', 'is_churn'] = False\n",
    "df['Year_Diff']=df['Year_Last_Transaction']-df['Year_First_Transaction']\n",
    "feature_columns = ['Average_Transaction_Amount', 'Count_Transaction', 'Year_Diff']\n",
    "X = df[feature_columns]\n",
    "y = df['is_churn']\n",
    "y = y.astype(int)\n",
    "from sklearn.model_selection import train_test_split\n",
    "X_train, X_test, y_train, y_test = train_test_split(X, y, test_size=0.25, random_state=0)\n",
    "from sklearn.linear_model import LogisticRegression\n",
    "from sklearn.metrics import confusion_matrix\n",
    "logreg = LogisticRegression()\n",
    "logreg.fit(X_train, y_train)\n",
    "y_pred = logreg.predict(X_test)\n",
    "cnf_matrix = confusion_matrix(y_test, y_pred)\n",
    "\n",
    "\n",
    "\n",
    "from sklearn.metrics import accuracy_score, precision_score, recall_score\n",
    "\n",
    "#Menghitung Accuracy, Precision, dan Recall\n",
    "print('Accuracy :', accuracy_score(y_test, y_pred))\n",
    "print('Precision:', precision_score(y_test, y_pred, average='micro'))\n",
    "print('Recall :', recall_score(y_test, y_pred, average='micro'))\n",
    "\n",
    "\n"
   ]
  },
  {
   "cell_type": "markdown",
   "id": "35e718de-f7d5-4319-9fa3-c0c44e24a88e",
   "metadata": {},
   "source": [
    "Accuracy menggambarkan seberapa akurat model dapat mengklasifikasikan dengan benar. Maka, accuracy merupakan rasio prediksi benar (positif dan negatif) dengan keseluruhan data. Dengan kata lain, accuracy merupakan tingkat kedekatan nilai prediksi dengan nilai aktual (sebenarnya).\n",
    "Precision merupakan rasio prediksi benar positif dibandingkan dengan keseluruhan hasil yang diprediksi positf.\n",
    "Recall menggambarkan keberhasilan model dalam menemukan kembali sebuah informasi. Maka, recall merupakan rasio prediksi benar positif dibandingkan dengan keseluruhan data yang benar positif.\n",
    "\n",
    "Dari nilai accuracy, precision, dan recall diatas dapat disimpulkan nilai  dari model Logistic Regression  tidak terlalu tinggi "
   ]
  }
 ],
 "metadata": {
  "kernelspec": {
   "display_name": "Python 3 (ipykernel)",
   "language": "python",
   "name": "python3"
  },
  "language_info": {
   "codemirror_mode": {
    "name": "ipython",
    "version": 3
   },
   "file_extension": ".py",
   "mimetype": "text/x-python",
   "name": "python",
   "nbconvert_exporter": "python",
   "pygments_lexer": "ipython3",
   "version": "3.9.12"
  },
  "vscode": {
   "interpreter": {
    "hash": "52d90d3cc821dd0beedd6e719dbdecc722c226b9d90ed1b663c34e1877f1142e"
   }
  }
 },
 "nbformat": 4,
 "nbformat_minor": 5
}
