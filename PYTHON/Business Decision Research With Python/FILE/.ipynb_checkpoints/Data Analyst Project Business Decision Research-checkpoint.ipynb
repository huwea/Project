{
 "cells": [
  {
   "cell_type": "markdown",
   "metadata": {
    "tags": []
   },
   "source": [
    "# [Importing Data dan Inspection](https://academy.dqlab.id/main/livecode/284/519/2610)"
   ]
  },
  {
   "cell_type": "code",
   "execution_count": 1,
   "metadata": {
    "tags": []
   },
   "outputs": [
    {
     "name": "stdout",
     "output_type": "stream",
     "text": [
      "Lima data teratas:\n",
      "   no  Row_Num  Customer_ID Product  First_Transaction  Last_Transaction  \\\n",
      "0   1        1        29531   Jaket      1466304274396     1538718482608   \n",
      "1   2        2        29531  Sepatu      1406077331494     1545735761270   \n",
      "2   3        3       141526     Tas      1493349147000     1548322802000   \n",
      "3   4        4       141526   Jaket      1493362372547     1547643603911   \n",
      "4   5        5        37545  Sepatu      1429178498531     1542891221530   \n",
      "\n",
      "   Average_Transaction_Amount  Count_Transaction  \n",
      "0                     1467681                 22  \n",
      "1                     1269337                 41  \n",
      "2                      310915                 30  \n",
      "3                      722632                 27  \n",
      "4                     1775036                 25  \n",
      "\n",
      "Info dataset:\n",
      "<class 'pandas.core.frame.DataFrame'>\n",
      "RangeIndex: 100000 entries, 0 to 99999\n",
      "Data columns (total 8 columns):\n",
      " #   Column                      Non-Null Count   Dtype \n",
      "---  ------                      --------------   ----- \n",
      " 0   no                          100000 non-null  int64 \n",
      " 1   Row_Num                     100000 non-null  int64 \n",
      " 2   Customer_ID                 100000 non-null  int64 \n",
      " 3   Product                     100000 non-null  object\n",
      " 4   First_Transaction           100000 non-null  int64 \n",
      " 5   Last_Transaction            100000 non-null  int64 \n",
      " 6   Average_Transaction_Amount  100000 non-null  int64 \n",
      " 7   Count_Transaction           100000 non-null  int64 \n",
      "dtypes: int64(7), object(1)\n",
      "memory usage: 6.1+ MB\n",
      "None\n"
     ]
    }
   ],
   "source": [
    "import pandas as pd\n",
    "\n",
    "df = pd.read_csv('https://storage.googleapis.com/dqlab-dataset/data_retail.csv', sep=';')\n",
    "\n",
    "print('Lima data teratas:')\n",
    "print(df.head())\n",
    "\n",
    "print('\\nInfo dataset:')\n",
    "print(df.info())"
   ]
  },
  {
   "cell_type": "markdown",
   "metadata": {},
   "source": [
    "# [Data Cleansing](https://academy.dqlab.id/main/livecode/284/519/2611)"
   ]
  },
  {
   "cell_type": "code",
   "execution_count": 2,
   "metadata": {},
   "outputs": [
    {
     "name": "stdout",
     "output_type": "stream",
     "text": [
      "Lima data teratas:\n",
      "   no  Row_Num  Customer_ID Product             First_Transaction  \\\n",
      "0   1        1        29531   Jaket 2016-06-19 02:44:34.396000000   \n",
      "1   2        2        29531  Sepatu 2014-07-23 01:02:11.493999872   \n",
      "2   3        3       141526     Tas 2017-04-28 03:12:27.000000000   \n",
      "3   4        4       141526   Jaket 2017-04-28 06:52:52.546999808   \n",
      "4   5        5        37545  Sepatu 2015-04-16 10:01:38.530999808   \n",
      "\n",
      "               Last_Transaction  Average_Transaction_Amount  Count_Transaction  \n",
      "0 2018-10-05 05:48:02.608000000                     1467681                 22  \n",
      "1 2018-12-25 11:02:41.269999872                     1269337                 41  \n",
      "2 2019-01-24 09:40:02.000000000                      310915                 30  \n",
      "3 2019-01-16 13:00:03.911000064                      722632                 27  \n",
      "4 2018-11-22 12:53:41.529999872                     1775036                 25  \n",
      "\n",
      "Info dataset:\n",
      "<class 'pandas.core.frame.DataFrame'>\n",
      "RangeIndex: 100000 entries, 0 to 99999\n",
      "Data columns (total 8 columns):\n",
      " #   Column                      Non-Null Count   Dtype         \n",
      "---  ------                      --------------   -----         \n",
      " 0   no                          100000 non-null  int64         \n",
      " 1   Row_Num                     100000 non-null  int64         \n",
      " 2   Customer_ID                 100000 non-null  int64         \n",
      " 3   Product                     100000 non-null  object        \n",
      " 4   First_Transaction           100000 non-null  datetime64[ns]\n",
      " 5   Last_Transaction            100000 non-null  datetime64[ns]\n",
      " 6   Average_Transaction_Amount  100000 non-null  int64         \n",
      " 7   Count_Transaction           100000 non-null  int64         \n",
      "dtypes: datetime64[ns](2), int64(5), object(1)\n",
      "memory usage: 6.1+ MB\n",
      "None\n"
     ]
    }
   ],
   "source": [
    "# Kolom First_Transaction\n",
    "df['First_Transaction'] = pd.to_datetime(df['First_Transaction']/1000, unit='s', origin='1970-01-01')\n",
    "# Kolom Last_Transaction\n",
    "df['Last_Transaction'] = pd.to_datetime(df['Last_Transaction']/1000, unit='s', origin='1970-01-01')\n",
    "\n",
    "print('Lima data teratas:')\n",
    "print(df.head())\n",
    "\n",
    "print('\\nInfo dataset:')\n",
    "print(df.info())"
   ]
  },
  {
   "cell_type": "markdown",
   "metadata": {},
   "source": [
    "# [Churn Customers](https://academy.dqlab.id/main/livecode/284/519/2612)"
   ]
  },
  {
   "cell_type": "code",
   "execution_count": 3,
   "metadata": {},
   "outputs": [
    {
     "name": "stdout",
     "output_type": "stream",
     "text": [
      "2019-02-01 23:57:57.286000128\n",
      "Lima data teratas:\n",
      "   no  Row_Num  Customer_ID Product             First_Transaction  \\\n",
      "0   1        1        29531   Jaket 2016-06-19 02:44:34.396000000   \n",
      "1   2        2        29531  Sepatu 2014-07-23 01:02:11.493999872   \n",
      "2   3        3       141526     Tas 2017-04-28 03:12:27.000000000   \n",
      "3   4        4       141526   Jaket 2017-04-28 06:52:52.546999808   \n",
      "4   5        5        37545  Sepatu 2015-04-16 10:01:38.530999808   \n",
      "\n",
      "               Last_Transaction  Average_Transaction_Amount  \\\n",
      "0 2018-10-05 05:48:02.608000000                     1467681   \n",
      "1 2018-12-25 11:02:41.269999872                     1269337   \n",
      "2 2019-01-24 09:40:02.000000000                      310915   \n",
      "3 2019-01-16 13:00:03.911000064                      722632   \n",
      "4 2018-11-22 12:53:41.529999872                     1775036   \n",
      "\n",
      "   Count_Transaction is_churn  \n",
      "0                 22    False  \n",
      "1                 41    False  \n",
      "2                 30    False  \n",
      "3                 27    False  \n",
      "4                 25    False  \n",
      "\n",
      "Info dataset:\n",
      "<class 'pandas.core.frame.DataFrame'>\n",
      "RangeIndex: 100000 entries, 0 to 99999\n",
      "Data columns (total 9 columns):\n",
      " #   Column                      Non-Null Count   Dtype         \n",
      "---  ------                      --------------   -----         \n",
      " 0   no                          100000 non-null  int64         \n",
      " 1   Row_Num                     100000 non-null  int64         \n",
      " 2   Customer_ID                 100000 non-null  int64         \n",
      " 3   Product                     100000 non-null  object        \n",
      " 4   First_Transaction           100000 non-null  datetime64[ns]\n",
      " 5   Last_Transaction            100000 non-null  datetime64[ns]\n",
      " 6   Average_Transaction_Amount  100000 non-null  int64         \n",
      " 7   Count_Transaction           100000 non-null  int64         \n",
      " 8   is_churn                    100000 non-null  object        \n",
      "dtypes: datetime64[ns](2), int64(5), object(2)\n",
      "memory usage: 6.9+ MB\n",
      "None\n"
     ]
    }
   ],
   "source": [
    "\n",
    "# Pengecekan transaksaksi terakhir dalam dataset\n",
    "print(max(df['Last_Transaction']))\n",
    "\n",
    "# Klasifikasikan customer yang berstatus churn atau tidak\n",
    "df.loc[df['Last_Transaction'] <= '2018-08-01', 'is_churn'] = True\n",
    "df.loc[df['Last_Transaction'] > '2018-08-01', 'is_churn'] = False\n",
    "\n",
    "print('Lima data teratas:')\n",
    "print(df.head())\n",
    "\n",
    "print('\\nInfo dataset:')\n",
    "print(df.info())"
   ]
  },
  {
   "cell_type": "markdown",
   "metadata": {},
   "source": [
    "# [Menghapus kolom yang tidak diperlukan](https://academy.dqlab.id/main/livecode/284/519/2614)"
   ]
  },
  {
   "cell_type": "code",
   "execution_count": 4,
   "metadata": {},
   "outputs": [
    {
     "name": "stdout",
     "output_type": "stream",
     "text": [
      "   Customer_ID Product             First_Transaction  \\\n",
      "0        29531   Jaket 2016-06-19 02:44:34.396000000   \n",
      "1        29531  Sepatu 2014-07-23 01:02:11.493999872   \n",
      "2       141526     Tas 2017-04-28 03:12:27.000000000   \n",
      "3       141526   Jaket 2017-04-28 06:52:52.546999808   \n",
      "4        37545  Sepatu 2015-04-16 10:01:38.530999808   \n",
      "\n",
      "               Last_Transaction  Average_Transaction_Amount  \\\n",
      "0 2018-10-05 05:48:02.608000000                     1467681   \n",
      "1 2018-12-25 11:02:41.269999872                     1269337   \n",
      "2 2019-01-24 09:40:02.000000000                      310915   \n",
      "3 2019-01-16 13:00:03.911000064                      722632   \n",
      "4 2018-11-22 12:53:41.529999872                     1775036   \n",
      "\n",
      "   Count_Transaction is_churn  \n",
      "0                 22    False  \n",
      "1                 41    False  \n",
      "2                 30    False  \n",
      "3                 27    False  \n",
      "4                 25    False  \n"
     ]
    }
   ],
   "source": [
    "del df['no']\n",
    "del df['Row_Num']\n",
    "\n",
    "# Cetak lima data teratas\n",
    "print(df.head())\n"
   ]
  },
  {
   "cell_type": "markdown",
   "metadata": {},
   "source": [
    "# [Customer acquisition by year](https://academy.dqlab.id/main/livecode/284/520/2615)"
   ]
  },
  {
   "cell_type": "code",
   "execution_count": 5,
   "metadata": {},
   "outputs": [
    {
     "name": "stdout",
     "output_type": "stream",
     "text": [
      "   Customer_ID Product             First_Transaction  \\\n",
      "0        29531   Jaket 2016-06-19 02:44:34.396000000   \n",
      "1        29531  Sepatu 2014-07-23 01:02:11.493999872   \n",
      "2       141526     Tas 2017-04-28 03:12:27.000000000   \n",
      "3       141526   Jaket 2017-04-28 06:52:52.546999808   \n",
      "4        37545  Sepatu 2015-04-16 10:01:38.530999808   \n",
      "\n",
      "               Last_Transaction  Average_Transaction_Amount  \\\n",
      "0 2018-10-05 05:48:02.608000000                     1467681   \n",
      "1 2018-12-25 11:02:41.269999872                     1269337   \n",
      "2 2019-01-24 09:40:02.000000000                      310915   \n",
      "3 2019-01-16 13:00:03.911000064                      722632   \n",
      "4 2018-11-22 12:53:41.529999872                     1775036   \n",
      "\n",
      "   Count_Transaction is_churn  Year_First_Transaction  Year_Last_Transaction  \n",
      "0                 22    False                    2016                   2018  \n",
      "1                 41    False                    2014                   2018  \n",
      "2                 30    False                    2017                   2019  \n",
      "3                 27    False                    2017                   2019  \n",
      "4                 25    False                    2015                   2018  \n",
      "\n",
      "\n",
      "--------------------------------------------------------------------\n",
      "<class 'pandas.core.frame.DataFrame'>\n",
      "RangeIndex: 100000 entries, 0 to 99999\n",
      "Data columns (total 9 columns):\n",
      " #   Column                      Non-Null Count   Dtype         \n",
      "---  ------                      --------------   -----         \n",
      " 0   Customer_ID                 100000 non-null  int64         \n",
      " 1   Product                     100000 non-null  object        \n",
      " 2   First_Transaction           100000 non-null  datetime64[ns]\n",
      " 3   Last_Transaction            100000 non-null  datetime64[ns]\n",
      " 4   Average_Transaction_Amount  100000 non-null  int64         \n",
      " 5   Count_Transaction           100000 non-null  int64         \n",
      " 6   is_churn                    100000 non-null  object        \n",
      " 7   Year_First_Transaction      100000 non-null  int64         \n",
      " 8   Year_Last_Transaction       100000 non-null  int64         \n",
      "dtypes: datetime64[ns](2), int64(5), object(2)\n",
      "memory usage: 6.9+ MB\n",
      "None\n",
      "\n",
      "\n",
      "--------------------------------------------------------------------\n",
      "Year_First_Transaction\n",
      "2013     1007\n",
      "2014     4954\n",
      "2015    11235\n",
      "2016    17656\n",
      "2017    31828\n",
      "Name: Customer_ID, dtype: int64\n",
      "\n",
      "\n",
      "--------------------------------------------------------------------\n"
     ]
    },
    {
     "data": {
      "image/png": "[encoded data removed]",
      "text/plain": [
       "<Figure size 432x288 with 1 Axes>"
      ]
     },
     "metadata": {
      "needs_background": "light"
     },
     "output_type": "display_data"
    }
   ],
   "source": [
    "import matplotlib.pyplot as plt\n",
    "\n",
    "# Kolom tahun transaksi pertama\n",
    "df['Year_First_Transaction'] = df['First_Transaction'].dt.year\n",
    "\n",
    "# Kolom tahun transaksi terakhir\n",
    "df['Year_Last_Transaction'] = df['Last_Transaction'].dt.year\n",
    "\n",
    "print(df.head())\n",
    "print('\\n\\n--------------------------------------------------------------------')\n",
    "print(df.info())\n",
    "print('\\n\\n--------------------------------------------------------------------')\n",
    "df_year = df.groupby(['Year_First_Transaction'])['Customer_ID'].count()\n",
    "print(df_year.head())\n",
    "print('\\n\\n--------------------------------------------------------------------')\n",
    "df_year.plot(x='Year_First_Transaction', y='Customer_ID', kind='bar', title='Graph of Customer Acquisition')\n",
    "plt.xlabel('Year_First_Transaction')\n",
    "plt.ylabel('Num_of_Customer')\n",
    "plt.tight_layout()\n",
    "plt.show()"
   ]
  },
  {
   "cell_type": "markdown",
   "metadata": {},
   "source": [
    "# [Transaction by year](https://academy.dqlab.id/main/livecode/284/520/2616)"
   ]
  },
  {
   "cell_type": "code",
   "execution_count": 6,
   "metadata": {},
   "outputs": [
    {
     "name": "stdout",
     "output_type": "stream",
     "text": [
      "   Customer_ID Product             First_Transaction  \\\n",
      "0        29531   Jaket 2016-06-19 02:44:34.396000000   \n",
      "1        29531  Sepatu 2014-07-23 01:02:11.493999872   \n",
      "2       141526     Tas 2017-04-28 03:12:27.000000000   \n",
      "3       141526   Jaket 2017-04-28 06:52:52.546999808   \n",
      "4        37545  Sepatu 2015-04-16 10:01:38.530999808   \n",
      "\n",
      "               Last_Transaction  Average_Transaction_Amount  \\\n",
      "0 2018-10-05 05:48:02.608000000                     1467681   \n",
      "1 2018-12-25 11:02:41.269999872                     1269337   \n",
      "2 2019-01-24 09:40:02.000000000                      310915   \n",
      "3 2019-01-16 13:00:03.911000064                      722632   \n",
      "4 2018-11-22 12:53:41.529999872                     1775036   \n",
      "\n",
      "   Count_Transaction is_churn  Year_First_Transaction  Year_Last_Transaction  \n",
      "0                 22    False                    2016                   2018  \n",
      "1                 41    False                    2014                   2018  \n",
      "2                 30    False                    2017                   2019  \n",
      "3                 27    False                    2017                   2019  \n",
      "4                 25    False                    2015                   2018  \n",
      "\n",
      "\n",
      "----------------------------------------------------\n",
      "Year_First_Transaction\n",
      "2013     23154\n",
      "2014    165494\n",
      "2015    297445\n",
      "2016    278707\n",
      "2017    299199\n",
      "Name: Count_Transaction, dtype: int64\n",
      "\n",
      "\n",
      "----------------------------------------------------\n"
     ]
    },
    {
     "data": {
      "image/png": "[encoded data removed]",
      "text/plain": [
       "<Figure size 432x288 with 1 Axes>"
      ]
     },
     "metadata": {
      "needs_background": "light"
     },
     "output_type": "display_data"
    }
   ],
   "source": [
    "import matplotlib.pyplot as plt\n",
    "plt.clf()\n",
    "print(df.head())\n",
    "print('\\n\\n----------------------------------------------------')\n",
    "df_year = df.groupby(['Year_First_Transaction'])['Count_Transaction'].sum()\n",
    "print(df_year.head())\n",
    "print('\\n\\n----------------------------------------------------')\n",
    "df_year.plot(x='Year_First_Transaction', y='Count_Transaction', kind='bar', title='Graph of Transaction Customer')\n",
    "plt.xlabel('Year_First_Transaction')\n",
    "plt.ylabel('Num_of_Transaction')\n",
    "plt.tight_layout()\n",
    "plt.show()"
   ]
  },
  {
   "cell_type": "markdown",
   "metadata": {},
   "source": [
    "# [Average transaction amount by year](https://academy.dqlab.id/main/livecode/284/520/2617)"
   ]
  },
  {
   "cell_type": "code",
   "execution_count": 7,
   "metadata": {},
   "outputs": [
    {
     "name": "stdout",
     "output_type": "stream",
     "text": [
      "   Customer_ID Product             First_Transaction  \\\n",
      "0        29531   Jaket 2016-06-19 02:44:34.396000000   \n",
      "1        29531  Sepatu 2014-07-23 01:02:11.493999872   \n",
      "2       141526     Tas 2017-04-28 03:12:27.000000000   \n",
      "3       141526   Jaket 2017-04-28 06:52:52.546999808   \n",
      "4        37545  Sepatu 2015-04-16 10:01:38.530999808   \n",
      "\n",
      "               Last_Transaction  Average_Transaction_Amount  \\\n",
      "0 2018-10-05 05:48:02.608000000                     1467681   \n",
      "1 2018-12-25 11:02:41.269999872                     1269337   \n",
      "2 2019-01-24 09:40:02.000000000                      310915   \n",
      "3 2019-01-16 13:00:03.911000064                      722632   \n",
      "4 2018-11-22 12:53:41.529999872                     1775036   \n",
      "\n",
      "   Count_Transaction is_churn  Year_First_Transaction  Year_Last_Transaction  \n",
      "0                 22    False                    2016                   2018  \n",
      "1                 41    False                    2014                   2018  \n",
      "2                 30    False                    2017                   2019  \n",
      "3                 27    False                    2017                   2019  \n",
      "4                 25    False                    2015                   2018  \n",
      "\n",
      "---------------------------------------------\n",
      "\n",
      "\n",
      "\n",
      "  Product  Year_First_Transaction    Customer_ID  Average_Transaction_Amount  \\\n",
      "0    Baju                    2017   99973.327529                1.490890e+06   \n",
      "1    Baju                    2018  188857.666496                1.570201e+06   \n",
      "2    Baju                    2019  281390.361868                1.383645e+06   \n",
      "3   Jaket                    2014   30906.745455                1.467937e+06   \n",
      "4   Jaket                    2015   43482.506832                1.296265e+06   \n",
      "5   Jaket                    2016   76570.356631                1.317344e+06   \n",
      "6   Jaket                    2017  138036.387196                1.369034e+06   \n",
      "7   Jaket                    2018  374795.205008                1.419074e+06   \n",
      "8   Jaket                    2019  542531.441905                1.447536e+06   \n",
      "9  Sepatu                    2013    7534.270109                1.396499e+06   \n",
      "\n",
      "   Count_Transaction  Year_Last_Transaction  \n",
      "0           3.157546            2017.151741  \n",
      "1           2.175475            2018.026167  \n",
      "2           1.871595            2019.000000  \n",
      "3          22.747727            2015.827273  \n",
      "4          21.789130            2016.603106  \n",
      "5          11.341306            2016.681180  \n",
      "6           6.292709            2017.265146  \n",
      "7           2.830617            2018.034700  \n",
      "8           1.999048            2019.000000  \n",
      "9          22.993049            2014.892751  \n",
      "\n",
      "---------------------------------------------\n",
      "\n"
     ]
    },
    {
     "data": {
      "image/png": "[encoded data removed]",
      "text/plain": [
       "<Figure size 432x288 with 1 Axes>"
      ]
     },
     "metadata": {
      "needs_background": "light"
     },
     "output_type": "display_data"
    }
   ],
   "source": [
    "import matplotlib.pyplot as plt\n",
    "import seaborn as sns\n",
    "print(df.head())\n",
    "print('\\n---------------------------------------------\\n')\n",
    "plt.clf()\n",
    "sns.pointplot(data = df.groupby(['Product', 'Year_First_Transaction']).mean().reset_index(),\n",
    "\t\t\t  x='Year_First_Transaction',\n",
    "\t\t\t  y='Average_Transaction_Amount',\n",
    "\t\t\t  hue='Product')\n",
    "data = df.groupby(['Product', 'Year_First_Transaction']).mean().reset_index()\n",
    "print('\\n')\n",
    "print(data.head(10))\n",
    "print('\\n---------------------------------------------\\n')\n",
    "plt.tight_layout()\n",
    "plt.show()"
   ]
  },
  {
   "cell_type": "markdown",
   "metadata": {},
   "source": [
    "# [Proporsi churned customer untuk setiap produk](https://academy.dqlab.id/main/livecode/284/520/2618)"
   ]
  },
  {
   "cell_type": "code",
   "execution_count": 8,
   "metadata": {},
   "outputs": [
    {
     "name": "stdout",
     "output_type": "stream",
     "text": [
      "Product   Baju  Jaket  Sepatu   Tas\n",
      "is_churn                           \n",
      "False     1268  11123   16064  4976\n",
      "True      2144  23827   33090  7508\n",
      "\n",
      "\n",
      "\n",
      "Index(['Baju', 'Jaket', 'Sepatu', 'Tas'], dtype='object', name='Product')\n"
     ]
    },
    {
     "data": {
      "text/plain": [
       "<Figure size 432x288 with 0 Axes>"
      ]
     },
     "metadata": {},
     "output_type": "display_data"
    },
    {
     "data": {
      "image/png": "[encoded data removed]",
      "text/plain": [
       "<Figure size 720x504 with 4 Axes>"
      ]
     },
     "metadata": {},
     "output_type": "display_data"
    }
   ],
   "source": [
    "import matplotlib.pyplot as plt\n",
    "plt.clf()\n",
    "#print(df.head())\n",
    "# Melakukan pivot data\n",
    "df_piv = df.pivot_table(index='is_churn',\n",
    "\t\t\t\t\t\tcolumns='Product',\n",
    "\t\t\t\t\t\tvalues='Customer_ID',\n",
    "\t\t\t\t\t\taggfunc='count',\n",
    "\t\t\t\t\t\tfill_value=0)\n",
    "print(df_piv.head())\n",
    "print('\\n\\n')\n",
    "# Mendapatkan Proportion Churn by Product\n",
    "plot_product = df_piv.count().sort_values(ascending=False).head(5).index\n",
    "print(plot_product)\n",
    "# Plot pie chartnya\n",
    "df_piv = df_piv.reindex(columns=plot_product)\n",
    "df_piv.plot.pie(subplots=True,\n",
    "\t\t\t\tfigsize=(10, 7),\n",
    "\t\t\t\tlayout=(-1, 2),\n",
    "\t\t\t\tautopct='%1.0f%%',\n",
    "\t\t\t\ttitle='Proportion Churn by Product')\n",
    "plt.tight_layout()\n",
    "plt.show()"
   ]
  },
  {
   "cell_type": "markdown",
   "metadata": {},
   "source": [
    "# [Distribusi kategorisasi count transaction](https://academy.dqlab.id/main/livecode/284/520/2619)"
   ]
  },
  {
   "cell_type": "code",
   "execution_count": 9,
   "metadata": {},
   "outputs": [
    {
     "name": "stdout",
     "output_type": "stream",
     "text": [
      "   Customer_ID Product             First_Transaction  \\\n",
      "0        29531   Jaket 2016-06-19 02:44:34.396000000   \n",
      "1        29531  Sepatu 2014-07-23 01:02:11.493999872   \n",
      "2       141526     Tas 2017-04-28 03:12:27.000000000   \n",
      "3       141526   Jaket 2017-04-28 06:52:52.546999808   \n",
      "4        37545  Sepatu 2015-04-16 10:01:38.530999808   \n",
      "\n",
      "               Last_Transaction  Average_Transaction_Amount  \\\n",
      "0 2018-10-05 05:48:02.608000000                     1467681   \n",
      "1 2018-12-25 11:02:41.269999872                     1269337   \n",
      "2 2019-01-24 09:40:02.000000000                      310915   \n",
      "3 2019-01-16 13:00:03.911000064                      722632   \n",
      "4 2018-11-22 12:53:41.529999872                     1775036   \n",
      "\n",
      "   Count_Transaction is_churn  Year_First_Transaction  Year_Last_Transaction  \n",
      "0                 22    False                    2016                   2018  \n",
      "1                 41    False                    2014                   2018  \n",
      "2                 30    False                    2017                   2019  \n",
      "3                 27    False                    2017                   2019  \n",
      "4                 25    False                    2015                   2018  \n",
      "\n",
      "\n",
      "----------------------------------------------------\n",
      "Count_Transaction_Group\n",
      "1. 1         49255\n",
      "2. 2 - 3     14272\n",
      "3. 4 - 6     12126\n",
      "4. 7 - 10     2890\n",
      "5. >10       21457\n",
      "Name: Customer_ID, dtype: int64\n"
     ]
    },
    {
     "data": {
      "image/png": "[encoded data removed]",
      "text/plain": [
       "<Figure size 432x288 with 1 Axes>"
      ]
     },
     "metadata": {
      "needs_background": "light"
     },
     "output_type": "display_data"
    }
   ],
   "source": [
    "import matplotlib.pyplot as plt\n",
    "plt.clf()\n",
    "print(df.head())\n",
    "print('\\n\\n----------------------------------------------------')\n",
    "# Kategorisasi jumlah transaksi\n",
    "def func(row):\n",
    "\tif row['Count_Transaction'] == 1:\n",
    "\t\tval = '1. 1'\n",
    "\telif (row['Count_Transaction'] >1 and row['Count_Transaction'] <= 3):\n",
    "\t\tval ='2. 2 - 3'\n",
    "\telif (row['Count_Transaction'] >3 and row['Count_Transaction'] <= 6):\n",
    "\t\tval ='3. 4 - 6'\n",
    "\telif (row['Count_Transaction'] >6 and row['Count_Transaction'] <= 10):\n",
    "\t\tval ='4. 7 - 10'\n",
    "\telse:\n",
    "\t\tval ='5. >10'\n",
    "\treturn val\n",
    "# Tambahkan kolom baru\n",
    "df['Count_Transaction_Group'] = df.apply(func, axis=1)\n",
    "df_year = df.groupby(['Count_Transaction_Group'])['Customer_ID'].count()\n",
    "print(df_year.head())\n",
    "df_year.plot(x='Count_Transaction_Group', y='Customer_ID', kind='bar', title='Customer Distribution by Count Transaction Group')\n",
    "plt.xlabel('Count_Transaction_Group')\n",
    "plt.ylabel('Num_of_Customer')\n",
    "plt.tight_layout()\n",
    "plt.show()"
   ]
  },
  {
   "cell_type": "markdown",
   "metadata": {},
   "source": [
    "# [Distribusi kategorisasi average transaction amount](https://academy.dqlab.id/main/livecode/284/520/2620)"
   ]
  },
  {
   "cell_type": "code",
   "execution_count": 10,
   "metadata": {},
   "outputs": [
    {
     "name": "stdout",
     "output_type": "stream",
     "text": [
      "   Customer_ID Product             First_Transaction  \\\n",
      "0        29531   Jaket 2016-06-19 02:44:34.396000000   \n",
      "1        29531  Sepatu 2014-07-23 01:02:11.493999872   \n",
      "2       141526     Tas 2017-04-28 03:12:27.000000000   \n",
      "3       141526   Jaket 2017-04-28 06:52:52.546999808   \n",
      "4        37545  Sepatu 2015-04-16 10:01:38.530999808   \n",
      "\n",
      "               Last_Transaction  Average_Transaction_Amount  \\\n",
      "0 2018-10-05 05:48:02.608000000                     1467681   \n",
      "1 2018-12-25 11:02:41.269999872                     1269337   \n",
      "2 2019-01-24 09:40:02.000000000                      310915   \n",
      "3 2019-01-16 13:00:03.911000064                      722632   \n",
      "4 2018-11-22 12:53:41.529999872                     1775036   \n",
      "\n",
      "   Count_Transaction is_churn  Year_First_Transaction  Year_Last_Transaction  \\\n",
      "0                 22    False                    2016                   2018   \n",
      "1                 41    False                    2014                   2018   \n",
      "2                 30    False                    2017                   2019   \n",
      "3                 27    False                    2017                   2019   \n",
      "4                 25    False                    2015                   2018   \n",
      "\n",
      "  Count_Transaction_Group  \n",
      "0                  5. >10  \n",
      "1                  5. >10  \n",
      "2                  5. >10  \n",
      "3                  5. >10  \n",
      "4                  5. >10  \n",
      "\n",
      "\n",
      "----------------------------------------------------\n",
      "Average_Transaction_Amount_Group\n",
      "1. 100.000 - 250.000          7944\n",
      "2. >250.000 - 500.000        18857\n",
      "3. >500.000 - 750.000        15171\n",
      "4. >750.000 - 1.000.000      12298\n",
      "5. >1.000.000 - 2.500.000    32819\n",
      "Name: Customer_ID, dtype: int64\n",
      "\n",
      "\n",
      "----------------------------------------------------\n"
     ]
    },
    {
     "data": {
      "image/png": "[encoded data removed]",
      "text/plain": [
       "<Figure size 432x288 with 1 Axes>"
      ]
     },
     "metadata": {
      "needs_background": "light"
     },
     "output_type": "display_data"
    }
   ],
   "source": [
    "import matplotlib.pyplot as plt\n",
    "plt.clf()\n",
    "print(df.head())\n",
    "print('\\n\\n----------------------------------------------------')\n",
    "# Kategorisasi rata-rata besar transaksi\n",
    "def f(row):\n",
    "\tif (row['Average_Transaction_Amount'] >= 100000 and row['Average_Transaction_Amount'] <=250000):\n",
    "\t\tval ='1. 100.000 - 250.000'\n",
    "\telif (row['Average_Transaction_Amount'] >250000 and row['Average_Transaction_Amount'] <= 500000):\n",
    "\t\tval ='2. >250.000 - 500.000'\n",
    "\telif (row['Average_Transaction_Amount'] >500000 and row['Average_Transaction_Amount'] <= 750000):\n",
    "\t\tval ='3. >500.000 - 750.000'\n",
    "\telif (row['Average_Transaction_Amount'] >750000 and row['Average_Transaction_Amount'] <= 1000000):\n",
    "\t\tval ='4. >750.000 - 1.000.000'\n",
    "\telif (row['Average_Transaction_Amount'] >1000000 and row['Average_Transaction_Amount'] <= 2500000):\n",
    "\t\tval ='5. >1.000.000 - 2.500.000'\n",
    "\telif (row['Average_Transaction_Amount'] >2500000 and row['Average_Transaction_Amount'] <= 5000000):\n",
    "\t\tval ='6. >2.500.000 - 5.000.000'\n",
    "\telif (row['Average_Transaction_Amount'] >5000000 and row['Average_Transaction_Amount'] <= 10000000):\n",
    "\t\tval ='7. >5.000.000 - 10.000.000'\n",
    "\telse:\n",
    "\t\tval ='8. >10.000.000'\n",
    "\treturn val\n",
    "\n",
    "# Tambahkan kolom baru\n",
    "df['Average_Transaction_Amount_Group'] = df.apply(f, axis=1)\n",
    "df_year = df.groupby(['Average_Transaction_Amount_Group'])['Customer_ID'].count()\n",
    "print(df_year.head())\n",
    "print('\\n\\n----------------------------------------------------')\n",
    "df_year.plot(x='Average_Transaction_Amount_Group', y='Customer_ID',kind='bar', title='Customer Distribution by Average Transaction Amount Group')\n",
    "plt.xlabel('Average_Transaction_Amount_Group')\n",
    "plt.ylabel('Num_of_Customer')\n",
    "plt.tight_layout()\n",
    "plt.show()"
   ]
  },
  {
   "cell_type": "markdown",
   "metadata": {},
   "source": [
    "# [Feature Columns dan Target](https://academy.dqlab.id/main/livecode/284/521/2621)"
   ]
  },
  {
   "cell_type": "code",
   "execution_count": 11,
   "metadata": {},
   "outputs": [
    {
     "name": "stdout",
     "output_type": "stream",
     "text": [
      "   Customer_ID Product             First_Transaction  \\\n",
      "0        29531   Jaket 2016-06-19 02:44:34.396000000   \n",
      "1        29531  Sepatu 2014-07-23 01:02:11.493999872   \n",
      "2       141526     Tas 2017-04-28 03:12:27.000000000   \n",
      "3       141526   Jaket 2017-04-28 06:52:52.546999808   \n",
      "4        37545  Sepatu 2015-04-16 10:01:38.530999808   \n",
      "\n",
      "               Last_Transaction  Average_Transaction_Amount  \\\n",
      "0 2018-10-05 05:48:02.608000000                     1467681   \n",
      "1 2018-12-25 11:02:41.269999872                     1269337   \n",
      "2 2019-01-24 09:40:02.000000000                      310915   \n",
      "3 2019-01-16 13:00:03.911000064                      722632   \n",
      "4 2018-11-22 12:53:41.529999872                     1775036   \n",
      "\n",
      "   Count_Transaction is_churn  Year_First_Transaction  Year_Last_Transaction  \\\n",
      "0                 22    False                    2016                   2018   \n",
      "1                 41    False                    2014                   2018   \n",
      "2                 30    False                    2017                   2019   \n",
      "3                 27    False                    2017                   2019   \n",
      "4                 25    False                    2015                   2018   \n",
      "\n",
      "  Count_Transaction_Group Average_Transaction_Amount_Group  \n",
      "0                  5. >10        5. >1.000.000 - 2.500.000  \n",
      "1                  5. >10        5. >1.000.000 - 2.500.000  \n",
      "2                  5. >10            2. >250.000 - 500.000  \n",
      "3                  5. >10            3. >500.000 - 750.000  \n",
      "4                  5. >10        5. >1.000.000 - 2.500.000  \n",
      "\n",
      "\n",
      "----------------------------------------------------\n",
      "   Customer_ID Product             First_Transaction  \\\n",
      "0        29531   Jaket 2016-06-19 02:44:34.396000000   \n",
      "1        29531  Sepatu 2014-07-23 01:02:11.493999872   \n",
      "2       141526     Tas 2017-04-28 03:12:27.000000000   \n",
      "3       141526   Jaket 2017-04-28 06:52:52.546999808   \n",
      "4        37545  Sepatu 2015-04-16 10:01:38.530999808   \n",
      "\n",
      "               Last_Transaction  Average_Transaction_Amount  \\\n",
      "0 2018-10-05 05:48:02.608000000                     1467681   \n",
      "1 2018-12-25 11:02:41.269999872                     1269337   \n",
      "2 2019-01-24 09:40:02.000000000                      310915   \n",
      "3 2019-01-16 13:00:03.911000064                      722632   \n",
      "4 2018-11-22 12:53:41.529999872                     1775036   \n",
      "\n",
      "   Count_Transaction is_churn  Year_First_Transaction  Year_Last_Transaction  \\\n",
      "0                 22    False                    2016                   2018   \n",
      "1                 41    False                    2014                   2018   \n",
      "2                 30    False                    2017                   2019   \n",
      "3                 27    False                    2017                   2019   \n",
      "4                 25    False                    2015                   2018   \n",
      "\n",
      "  Count_Transaction_Group Average_Transaction_Amount_Group  Year_Diff  \n",
      "0                  5. >10        5. >1.000.000 - 2.500.000          2  \n",
      "1                  5. >10        5. >1.000.000 - 2.500.000          4  \n",
      "2                  5. >10            2. >250.000 - 500.000          2  \n",
      "3                  5. >10            3. >500.000 - 750.000          2  \n",
      "4                  5. >10        5. >1.000.000 - 2.500.000          3  \n",
      "\n",
      "\n",
      "----------------------feature_columns------------------------------\n",
      "['Average_Transaction_Amount', 'Count_Transaction', 'Year_Diff']\n",
      "\n",
      "\n",
      "----------------------X------------------------------\n",
      "       Average_Transaction_Amount  Count_Transaction  Year_Diff\n",
      "0                         1467681                 22          2\n",
      "1                         1269337                 41          4\n",
      "2                          310915                 30          2\n",
      "3                          722632                 27          2\n",
      "4                         1775036                 25          3\n",
      "...                           ...                ...        ...\n",
      "99995                      298662                  1          0\n",
      "99996                      349556                  1          0\n",
      "99997                      598013                  1          0\n",
      "99998                     1208591                  1          0\n",
      "99999                      486710                  1          0\n",
      "\n",
      "[100000 rows x 3 columns]\n",
      "\n",
      "\n",
      "-----------------------y-----------------------------\n",
      "0        0\n",
      "1        0\n",
      "2        0\n",
      "3        0\n",
      "4        0\n",
      "        ..\n",
      "99995    1\n",
      "99996    1\n",
      "99997    1\n",
      "99998    1\n",
      "99999    0\n",
      "Name: is_churn, Length: 100000, dtype: int32\n",
      "\n",
      "\n",
      "----------------------------------------------------\n"
     ]
    }
   ],
   "source": [
    "print(df.head())\n",
    "print('\\n\\n----------------------------------------------------')\n",
    "# Feature column: Year_Diff\n",
    "df['Year_Diff']=df['Year_Last_Transaction']-df['Year_First_Transaction']\n",
    "print(df.head())\n",
    "print('\\n\\n----------------------feature_columns------------------------------')\n",
    "# Nama-nama feature columns\n",
    "feature_columns = ['Average_Transaction_Amount', 'Count_Transaction', 'Year_Diff']\n",
    "print(feature_columns)\n",
    "print('\\n\\n----------------------X------------------------------')\n",
    "# Features variable\n",
    "X = df[feature_columns]\n",
    "\n",
    "print(X)\n",
    "print('\\n\\n-----------------------y-----------------------------')\n",
    "# Target variable\n",
    "y = df['is_churn']\n",
    "y = y.astype(int)\n",
    "print(y)\n",
    "print('\\n\\n----------------------------------------------------')"
   ]
  },
  {
   "cell_type": "markdown",
   "metadata": {},
   "source": [
    "# [Split X dan y ke dalam bagian training dan testing](https://academy.dqlab.id/main/livecode/284/521/2622)"
   ]
  },
  {
   "cell_type": "code",
   "execution_count": 12,
   "metadata": {},
   "outputs": [
    {
     "name": "stdout",
     "output_type": "stream",
     "text": [
      "\n",
      "\n",
      "-----------------------X_train-----------------------------\n",
      "\n",
      "       Average_Transaction_Amount  Count_Transaction  Year_Diff\n",
      "2606                      1649125                 34          2\n",
      "57228                     7432327                  1          0\n",
      "8382                      1224173                 27          2\n",
      "60281                     3775449                  2          0\n",
      "48432                      149891                  1          0\n",
      "...                           ...                ...        ...\n",
      "21243                     1630986                  1          0\n",
      "45891                      666589                  1          0\n",
      "42613                     2876998                  1          0\n",
      "43567                     1000026                  5          0\n",
      "68268                     2318409                  1          0\n",
      "\n",
      "[75000 rows x 3 columns]\n",
      "\n",
      "\n",
      "-----------------------X_test-----------------------------\n",
      "\n",
      "       Average_Transaction_Amount  Count_Transaction  Year_Diff\n",
      "3582                       161337                 30          2\n",
      "60498                      505519                  5          4\n",
      "53227                     1032602                  1          0\n",
      "21333                     1040972                  2          1\n",
      "3885                       165244                 41          2\n",
      "...                           ...                ...        ...\n",
      "26543                      627139                  2          0\n",
      "85764                      394236                  1          0\n",
      "87585                     5882930                  1          0\n",
      "32519                      315490                  2          0\n",
      "18831                      700146                 47          2\n",
      "\n",
      "[25000 rows x 3 columns]\n",
      "\n",
      "\n",
      "-----------------------y_train-----------------------------\n",
      "\n",
      "2606     0\n",
      "57228    0\n",
      "8382     1\n",
      "60281    1\n",
      "48432    0\n",
      "        ..\n",
      "21243    1\n",
      "45891    1\n",
      "42613    1\n",
      "43567    1\n",
      "68268    1\n",
      "Name: is_churn, Length: 75000, dtype: int32\n",
      "\n",
      "\n",
      "----------------------- y_test-----------------------------\n",
      "\n",
      "3582     0\n",
      "60498    1\n",
      "53227    1\n",
      "21333    0\n",
      "3885     0\n",
      "        ..\n",
      "26543    0\n",
      "85764    1\n",
      "87585    1\n",
      "32519    1\n",
      "18831    0\n",
      "Name: is_churn, Length: 25000, dtype: int32\n"
     ]
    }
   ],
   "source": [
    "from sklearn.model_selection import train_test_split\n",
    "\n",
    "X_train, X_test, y_train, y_test = train_test_split(X, y, test_size=0.25, random_state=0)\n",
    "print('\\n\\n-----------------------X_train-----------------------------\\n')\n",
    "print(X_train)\n",
    "print('\\n\\n-----------------------X_test-----------------------------\\n')\n",
    "print(X_test)\n",
    "print('\\n\\n-----------------------y_train-----------------------------\\n')\n",
    "print(y_train)\n",
    "print('\\n\\n----------------------- y_test-----------------------------\\n')\n",
    "print(y_test)"
   ]
  },
  {
   "cell_type": "markdown",
   "metadata": {},
   "source": [
    "# [Train, predict dan evaluate](https://academy.dqlab.id/main/livecode/284/521/2623)"
   ]
  },
  {
   "cell_type": "code",
   "execution_count": 13,
   "metadata": {},
   "outputs": [
    {
     "name": "stdout",
     "output_type": "stream",
     "text": [
      "Confusion Matrix:\n",
      " [[    1  8330]\n",
      " [    3 16666]]\n"
     ]
    }
   ],
   "source": [
    "from sklearn.linear_model import LogisticRegression\n",
    "from sklearn.metrics import confusion_matrix\n",
    "\n",
    "# Inisiasi model logreg\n",
    "logreg = LogisticRegression()\n",
    "\n",
    "# fit the model with data\n",
    "logreg.fit(X_train, y_train)\n",
    "\n",
    "# Predict model\n",
    "y_pred = logreg.predict(X_test)\n",
    "\n",
    "# Evaluasi model menggunakan confusion matrix\n",
    "cnf_matrix = confusion_matrix(y_test, y_pred)\n",
    "print('Confusion Matrix:\\n', cnf_matrix)"
   ]
  },
  {
   "cell_type": "markdown",
   "metadata": {},
   "source": [
    "# [Visualisasi Confusion Matrix](https://academy.dqlab.id/main/livecode/284/521/2624)"
   ]
  },
  {
   "cell_type": "code",
   "execution_count": 14,
   "metadata": {},
   "outputs": [
    {
     "data": {
      "text/plain": [
       "<Figure size 432x288 with 0 Axes>"
      ]
     },
     "metadata": {},
     "output_type": "display_data"
    },
    {
     "data": {
      "image/png": "[encoded data removed]",
      "text/plain": [
       "<Figure size 432x288 with 2 Axes>"
      ]
     },
     "metadata": {
      "needs_background": "light"
     },
     "output_type": "display_data"
    }
   ],
   "source": [
    "# import required modules\n",
    "import numpy as np\n",
    "import matplotlib.pyplot as plt\n",
    "import seaborn as sns\n",
    "plt.clf()\n",
    "\n",
    "# name of classes\n",
    "class_names = [0, 1]\n",
    "fig, ax = plt.subplots()\n",
    "tick_marks = np.arange(len(class_names))\n",
    "plt.xticks(tick_marks, class_names)\n",
    "plt.yticks(tick_marks, class_names)\n",
    "\n",
    "# create heatmap\n",
    "sns.heatmap(pd.DataFrame(cnf_matrix), annot=True, cmap='YlGnBu', fmt='g')\n",
    "ax.xaxis.set_label_position('top')\n",
    "plt.title('Confusion matrix', y=1.1)\n",
    "plt.ylabel('Actual')\n",
    "plt.xlabel('Predicted')\n",
    "plt.tight_layout()\n",
    "plt.show()"
   ]
  },
  {
   "cell_type": "markdown",
   "metadata": {},
   "source": [
    "# [Accuracy, Precision, dan Recall](https://academy.dqlab.id/main/livecode/284/521/2625)"
   ]
  },
  {
   "cell_type": "code",
   "execution_count": 15,
   "metadata": {
    "tags": []
   },
   "outputs": [
    {
     "name": "stdout",
     "output_type": "stream",
     "text": [
      "Accuracy : 0.66668\n",
      "Precision: 0.66668\n",
      "Recall : 0.66668\n"
     ]
    }
   ],
   "source": [
    "from sklearn.metrics import accuracy_score, precision_score, recall_score\n",
    "\n",
    "#Menghitung Accuracy, Precision, dan Recall\n",
    "print('Accuracy :', accuracy_score(y_test, y_pred))\n",
    "print('Precision:', precision_score(y_test, y_pred, average='micro'))\n",
    "print('Recall :', recall_score(y_test, y_pred, average='micro'))"
   ]
  },
  {
   "cell_type": "markdown",
   "metadata": {},
   "source": [
    "# [coba buat header](https://academy.dqlab.id/main/livecode/284/521/2625)"
   ]
  },
  {
   "cell_type": "markdown",
   "metadata": {},
   "source": [
    "halo perkenalkan disi saya akan mencoba sub header dari jupiter lab okke langsung saja checkidot wkwkwk"
   ]
  },
  {
   "cell_type": "code",
   "execution_count": null,
   "metadata": {},
   "outputs": [],
   "source": []
  }
 ],
 "metadata": {
  "kernelspec": {
   "display_name": "Python 3 (ipykernel)",
   "language": "python",
   "name": "python3"
  },
  "language_info": {
   "codemirror_mode": {
    "name": "ipython",
    "version": 3
   },
   "file_extension": ".py",
   "mimetype": "text/x-python",
   "name": "python",
   "nbconvert_exporter": "python",
   "pygments_lexer": "ipython3",
   "version": "3.9.12"
  },
  "toc-showmarkdowntxt": true
 },
 "nbformat": 4,
 "nbformat_minor": 4
}
