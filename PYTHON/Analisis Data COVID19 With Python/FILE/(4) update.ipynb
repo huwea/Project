{
 "cells": [
  {
   "cell_type": "markdown",
   "id": "cc9eb334-e6f9-44f7-aaa4-b079a9112d64",
   "metadata": {},
   "source": [
    "# [Membaca Data COVID-19 Dunia](https://medium.com/@huans502/konsep-dasar-dan-istilah-di-bidang-data-analysts-part-3-1a0a64045089)"
   ]
  },
  {
   "cell_type": "code",
   "execution_count": null,
   "id": "03fe66e2-99c7-4789-beed-0e017cb0ac5a",
   "metadata": {},
   "outputs": [
    {
     "name": "stdout",
     "output_type": "stream",
     "text": [
      "Ukuran dataset: 61900 baris dan 6 kolom.\n",
      "\n",
      "Lima data teratas:\n",
      "         date  daily_confirmed_cases  daily_deaths  confirmed_cases  deaths  \\\n",
      "0 2020-03-20                      1             0                1       0   \n",
      "1 2020-03-21                      0             0                1       0   \n",
      "2 2020-03-22                      1             0                2       0   \n",
      "3 2020-03-23                      0             0                2       0   \n",
      "4 2020-03-24                      0             0                2       0   \n",
      "\n",
      "  geo_id  \n",
      "0     TD  \n",
      "1     TD  \n",
      "2     TD  \n",
      "3     TD  \n",
      "4     TD  \n",
      "\n",
      "Lima data terbawah:\n",
      "             date  daily_confirmed_cases  daily_deaths  confirmed_cases  \\\n",
      "61895 2020-02-24                     57             1              691   \n",
      "61896 2020-02-26                      0             1              691   \n",
      "61897 2020-03-10                     -9             1              696   \n",
      "61898 2020-02-20                     79             2              621   \n",
      "61899 2020-02-29                      0             2              705   \n",
      "\n",
      "       deaths    geo_id  \n",
      "61895       3  JPG11668  \n",
      "61896       4  JPG11668  \n",
      "61897       7  JPG11668  \n",
      "61898       2  JPG11668  \n",
      "61899       6  JPG11668  \n"
     ]
    }
   ],
   "source": [
    "import numpy as np\n",
    "import pandas as pd\n",
    "pd.set_option(\"display.max_columns\", None)\n",
    "\n",
    "import ssl\n",
    "ssl._create_default_https_context = ssl._create_unverified_context\n",
    "\n",
    "covid_url = 'https://storage.googleapis.com/dqlab-dataset/covid19_worldwide_2020.json'\n",
    "df_covid_worldwide = pd.read_json(covid_url)\n",
    "\n",
    "print(\"Ukuran dataset: %d baris dan %d kolom.\\n\" % df_covid_worldwide.shape)\n",
    "print(\"Lima data teratas:\\n\", df_covid_worldwide.head())\n",
    "print(\"\\nLima data terbawah:\\n\", df_covid_worldwide.tail())"
   ]
  },
  {
   "cell_type": "markdown",
   "id": "527e5388-414c-49b6-a7ce-7a70aa8b97bf",
   "metadata": {},
   "source": [
    "# Reformat Data Frame COVID-19 Dunia"
   ]
  },
  {
   "cell_type": "code",
   "execution_count": 4,
   "id": "cbdd5db9-cbb7-42b7-b644-987dd5064a2d",
   "metadata": {},
   "outputs": [
    {
     "name": "stdout",
     "output_type": "stream",
     "text": [
      "Informasi data frame awal:\n",
      "<class 'pandas.core.frame.DataFrame'>\n",
      "Int64Index: 61900 entries, 0 to 61899\n",
      "Data columns (total 6 columns):\n",
      " #   Column                 Non-Null Count  Dtype         \n",
      "---  ------                 --------------  -----         \n",
      " 0   date                   61900 non-null  datetime64[ns]\n",
      " 1   daily_confirmed_cases  61900 non-null  int64         \n",
      " 2   daily_deaths           61900 non-null  int64         \n",
      " 3   confirmed_cases        61900 non-null  int64         \n",
      " 4   deaths                 61900 non-null  int64         \n",
      " 5   geo_id                 61625 non-null  object        \n",
      "dtypes: datetime64[ns](1), int64(4), object(1)\n",
      "memory usage: 3.3+ MB\n",
      "\n",
      "Informasi data frame setelah set index kolom date:\n",
      "<class 'pandas.core.frame.DataFrame'>\n",
      "DatetimeIndex: 61900 entries, 2019-12-31 to 2020-12-14\n",
      "Data columns (total 5 columns):\n",
      " #   Column                 Non-Null Count  Dtype \n",
      "---  ------                 --------------  ----- \n",
      " 0   daily_confirmed_cases  61900 non-null  int64 \n",
      " 1   daily_deaths           61900 non-null  int64 \n",
      " 2   confirmed_cases        61900 non-null  int64 \n",
      " 3   deaths                 61900 non-null  int64 \n",
      " 4   geo_id                 61625 non-null  object\n",
      "dtypes: int64(4), object(1)\n",
      "memory usage: 2.8+ MB\n"
     ]
    }
   ],
   "source": [
    "import numpy as np\n",
    "import pandas as pd\n",
    "pd.set_option(\"display.max_columns\", None)\n",
    "\n",
    "import ssl\n",
    "ssl._create_default_https_context = ssl._create_unverified_context\n",
    "\n",
    "covid_url = \"https://storage.googleapis.com/dqlab-dataset/covid19_worldwide_2020.json\"\n",
    "df_covid_worldwide = pd.read_json(covid_url)\n",
    "\n",
    "print(\"Informasi data frame awal:\")\n",
    "df_covid_worldwide.info()\n",
    "\n",
    "df_covid_worldwide = df_covid_worldwide.set_index(\"date\").sort_index()\n",
    "\n",
    "print(\"\\nInformasi data frame setelah set index kolom date:\")\n",
    "df_covid_worldwide.info()"
   ]
  },
  {
   "cell_type": "markdown",
   "id": "320156ea-3c6e-4ebf-8864-2d8b1fa96e9a",
   "metadata": {},
   "source": [
    "# Missing Value di DataFrame COVID-19 Dunia"
   ]
  },
  {
   "cell_type": "code",
   "execution_count": 7,
   "id": "8420ab28-135b-443f-bbcf-22deb2608282",
   "metadata": {},
   "outputs": [
    {
     "name": "stdout",
     "output_type": "stream",
     "text": [
      "Jumlah missing value tiap kolom:\n",
      "daily_confirmed_cases      0\n",
      "daily_deaths               0\n",
      "confirmed_cases            0\n",
      "deaths                     0\n",
      "geo_id                   275\n",
      "dtype: int64\n",
      "\n",
      "Jumlah missing value tiap kolom setelah didrop:\n",
      "daily_confirmed_cases    0\n",
      "daily_deaths             0\n",
      "confirmed_cases          0\n",
      "deaths                   0\n",
      "geo_id                   0\n",
      "dtype: int64\n"
     ]
    }
   ],
   "source": [
    "import numpy as np\n",
    "import pandas as pd\n",
    "pd.set_option(\"display.max_columns\", None)\n",
    "\n",
    "import ssl\n",
    "ssl._create_default_https_context = ssl._create_unverified_context\n",
    "\n",
    "covid_url = \"https://storage.googleapis.com/dqlab-dataset/covid19_worldwide_2020.json\"\n",
    "df_covid_worldwide = pd.read_json(covid_url)\n",
    "df_covid_worldwide = df_covid_worldwide.set_index(\"date\").sort_index()\n",
    "\n",
    "print(\"Jumlah missing value tiap kolom:\")\n",
    "print(df_covid_worldwide.isna().sum())\n",
    "\n",
    "\n",
    "df_covid_worldwide.dropna(inplace=True)\n",
    "\n",
    "\n",
    "print(\"\\nJumlah missing value tiap kolom setelah didrop:\")\n",
    "print(df_covid_worldwide.isna().sum())"
   ]
  },
  {
   "cell_type": "markdown",
   "id": "0b38e8a5-a53d-4fd0-89b7-4e3a7b964f79",
   "metadata": {},
   "source": [
    "# Membaca Data Countries"
   ]
  },
  {
   "cell_type": "code",
   "execution_count": 8,
   "id": "138d3eea-1904-446f-adb6-9b9c7646f6b6",
   "metadata": {},
   "outputs": [
    {
     "name": "stdout",
     "output_type": "stream",
     "text": [
      "  geo_id country_name\n",
      "0     TD         Chad\n",
      "1     CU         Cuba\n",
      "2     FJ         Fiji\n",
      "3     GU         Guam\n",
      "4     IR         Iran\n"
     ]
    }
   ],
   "source": [
    "import numpy as np\n",
    "import pandas as pd\n",
    "pd.set_option(\"display.max_columns\", None)\n",
    "\n",
    "import ssl\n",
    "ssl._create_default_https_context = ssl._create_unverified_context\n",
    "\n",
    "countries_url = \"https://storage.googleapis.com/dqlab-dataset/country_details.json\"\n",
    "df_countries = pd.read_json(countries_url)\n",
    "print(df_countries.head())"
   ]
  },
  {
   "cell_type": "markdown",
   "id": "3548cf65-b627-44d8-a8de-b843b01027fb",
   "metadata": {},
   "source": [
    "# Merge Covid19 Data dan Countries"
   ]
  },
  {
   "cell_type": "code",
   "execution_count": 9,
   "id": "64546dbf-262f-436e-9ece-1ad060d65bc5",
   "metadata": {},
   "outputs": [
    {
     "name": "stdout",
     "output_type": "stream",
     "text": [
      "            daily_confirmed_cases  daily_deaths  confirmed_cases  deaths  \\\n",
      "date                                                                       \n",
      "2019-12-31                      0             0                0       0   \n",
      "2020-01-01                      0             0                0       0   \n",
      "2020-01-02                      0             0                0       0   \n",
      "2020-01-03                      0             0                0       0   \n",
      "2020-01-04                      0             0                0       0   \n",
      "\n",
      "           geo_id country_name  \n",
      "date                            \n",
      "2019-12-31     IN        India  \n",
      "2020-01-01     IN        India  \n",
      "2020-01-02     IN        India  \n",
      "2020-01-03     IN        India  \n",
      "2020-01-04     IN        India  \n"
     ]
    }
   ],
   "source": [
    "import numpy as np\n",
    "import pandas as pd\n",
    "pd.set_option(\"display.max_columns\", None)\n",
    "\n",
    "import ssl\n",
    "ssl._create_default_https_context = ssl._create_unverified_context\n",
    "\n",
    "covid_url = \"https://storage.googleapis.com/dqlab-dataset/covid19_worldwide_2020.json\"\n",
    "df_covid_worldwide = pd.read_json(covid_url)\n",
    "df_covid_worldwide = df_covid_worldwide.set_index(\"date\").sort_index().dropna()\n",
    "\n",
    "countries_url = \"https://storage.googleapis.com/dqlab-dataset/country_details.json\"\n",
    "df_countries = pd.read_json(countries_url)\n",
    "\n",
    "df_covid_denormalized = pd.merge(df_covid_worldwide.reset_index(), df_countries, on=\"geo_id\").set_index(\"date\")\n",
    "print(df_covid_denormalized.head())"
   ]
  },
  {
   "cell_type": "markdown",
   "id": "304c4210-be66-4179-b9ab-f7c16b2b2a7b",
   "metadata": {},
   "source": [
    "# Menghitung Fatality Ratio"
   ]
  },
  {
   "cell_type": "code",
   "execution_count": 10,
   "id": "235a5d03-8499-4943-ba76-b5b1ced0b09e",
   "metadata": {},
   "outputs": [
    {
     "name": "stdout",
     "output_type": "stream",
     "text": [
      "            daily_confirmed_cases  daily_deaths  confirmed_cases  deaths  \\\n",
      "date                                                                       \n",
      "2019-12-31                      0             0                0       0   \n",
      "2020-01-01                      0             0                0       0   \n",
      "2020-01-02                      0             0                0       0   \n",
      "2020-01-03                      0             0                0       0   \n",
      "2020-01-04                      0             0                0       0   \n",
      "\n",
      "           geo_id country_name  fatality_ratio  \n",
      "date                                            \n",
      "2019-12-31     IN        India             NaN  \n",
      "2020-01-01     IN        India             NaN  \n",
      "2020-01-02     IN        India             NaN  \n",
      "2020-01-03     IN        India             NaN  \n",
      "2020-01-04     IN        India             NaN  \n"
     ]
    }
   ],
   "source": [
    "import numpy as np\n",
    "import pandas as pd\n",
    "pd.set_option(\"display.max_columns\", None)\n",
    "\n",
    "import ssl\n",
    "ssl._create_default_https_context = ssl._create_unverified_context\n",
    "\n",
    "covid_url = \"https://storage.googleapis.com/dqlab-dataset/covid19_worldwide_2020.json\"\n",
    "df_covid_worldwide = pd.read_json(covid_url)\n",
    "df_covid_worldwide = df_covid_worldwide.set_index(\"date\").sort_index().dropna()\n",
    "\n",
    "countries_url = \"https://storage.googleapis.com/dqlab-dataset/country_details.json\"\n",
    "df_countries = pd.read_json(countries_url)\n",
    "\n",
    "df_covid_denormalized = pd.merge(df_covid_worldwide.reset_index(), df_countries, on=\"geo_id\").set_index(\"date\")\n",
    "\n",
    "df_covid_denormalized[\"fatality_ratio\"] = df_covid_denormalized[\"deaths\"]/df_covid_denormalized[\"confirmed_cases\"]\n",
    "print(df_covid_denormalized.head())"
   ]
  },
  {
   "cell_type": "markdown",
   "id": "e8562b1a-8f4b-4ab7-8961-dc4d4b40edf8",
   "metadata": {},
   "source": [
    "# Negara-negara dengan Fatality Ratio Tertinggi"
   ]
  },
  {
   "cell_type": "code",
   "execution_count": 11,
   "id": "3427015d-9503-4dd7-9be3-6c041d248363",
   "metadata": {},
   "outputs": [
    {
     "name": "stdout",
     "output_type": "stream",
     "text": [
      "           geo_id country_name  fatality_ratio\n",
      "date                                          \n",
      "2020-03-15     SD        Sudan             1.0\n",
      "2020-02-20     IR         Iran             1.0\n",
      "2020-03-16     GT    Guatemala             1.0\n",
      "2020-03-13     GY       Guyana             1.0\n",
      "2020-03-18     SD        Sudan             1.0\n",
      "2020-03-17     SD        Sudan             1.0\n",
      "2020-03-16     SD        Sudan             1.0\n",
      "2020-02-03     PH  Philippines             0.5\n",
      "2020-02-05     PH  Philippines             0.5\n",
      "2020-02-04     PH  Philippines             0.5\n",
      "2020-03-28     NI    Nicaragua             0.5\n",
      "2020-02-02     PH  Philippines             0.5\n",
      "2020-03-24     ZW     Zimbabwe             0.5\n",
      "2020-03-24     GM       Gambia             0.5\n",
      "2020-03-19     SD        Sudan             0.5\n",
      "2020-03-20     SD        Sudan             0.5\n",
      "2020-03-21     SD        Sudan             0.5\n",
      "2020-03-22     SD        Sudan             0.5\n",
      "2020-03-23     SD        Sudan             0.5\n",
      "2020-03-24     SD        Sudan             0.5\n"
     ]
    }
   ],
   "source": [
    "import numpy as np\n",
    "import pandas as pd\n",
    "pd.set_option(\"display.max_columns\", None)\n",
    "\n",
    "import ssl\n",
    "ssl._create_default_https_context = ssl._create_unverified_context\n",
    "\n",
    "covid_url = \"https://storage.googleapis.com/dqlab-dataset/covid19_worldwide_2020.json\"\n",
    "df_covid_worldwide = pd.read_json(covid_url)\n",
    "df_covid_worldwide = df_covid_worldwide.set_index(\"date\").sort_index().dropna()\n",
    "\n",
    "countries_url = \"https://storage.googleapis.com/dqlab-dataset/country_details.json\"\n",
    "df_countries = pd.read_json(countries_url)\n",
    "\n",
    "df_covid_denormalized = pd.merge(df_covid_worldwide.reset_index(), df_countries, on=\"geo_id\").set_index(\"date\")\n",
    "\n",
    "df_covid_denormalized[\"fatality_ratio\"] = df_covid_denormalized[\"deaths\"]/df_covid_denormalized[\"confirmed_cases\"]\n",
    "\n",
    "df_top_20_fatality_rate = df_covid_denormalized.sort_values(\"fatality_ratio\", ascending= False).head(20)\n",
    "print(df_top_20_fatality_rate[[\"geo_id\",\"country_name\",\"fatality_ratio\"]])"
   ]
  },
  {
   "cell_type": "markdown",
   "id": "4e81e224-3105-4b01-9059-bc3aedf1d3ff",
   "metadata": {},
   "source": [
    "# Kondisi Fatality ratio Tertinggi di Bulan Agustus 2020"
   ]
  },
  {
   "cell_type": "code",
   "execution_count": 12,
   "id": "1e23b017-4380-417e-90d7-5ec089fa9d40",
   "metadata": {},
   "outputs": [
    {
     "name": "stdout",
     "output_type": "stream",
     "text": [
      "country_name\n",
      "Yemen                     0.286473\n",
      "Italy                     0.138619\n",
      "France                    0.137979\n",
      "United_Kingdom            0.130228\n",
      "Belgium                   0.125079\n",
      "Hungary                   0.122820\n",
      "Netherlands               0.099309\n",
      "Mexico                    0.099092\n",
      "Jersey                    0.088677\n",
      "Spain                     0.079746\n",
      "Chad                      0.078870\n",
      "Montserrat                0.076923\n",
      "Canada                    0.073963\n",
      "Sweden                    0.071475\n",
      "Isle_of_Man               0.071429\n",
      "British_Virgin_Islands    0.066239\n",
      "Ireland                   0.065030\n",
      "Sudan                     0.064250\n",
      "Liberia                   0.063944\n",
      "Ecuador                   0.061031\n",
      "Name: fatality_ratio, dtype: float64\n"
     ]
    }
   ],
   "source": [
    "import numpy as np\n",
    "import pandas as pd\n",
    "pd.set_option(\"display.max_columns\", None)\n",
    "\n",
    "import ssl\n",
    "ssl._create_default_https_context = ssl._create_unverified_context\n",
    "\n",
    "covid_url = \"https://storage.googleapis.com/dqlab-dataset/covid19_worldwide_2020.json\"\n",
    "df_covid_worldwide = pd.read_json(covid_url)\n",
    "df_covid_worldwide = df_covid_worldwide.set_index(\"date\").sort_index().dropna()\n",
    "\n",
    "countries_url = \"https://storage.googleapis.com/dqlab-dataset/country_details.json\"\n",
    "df_countries = pd.read_json(countries_url)\n",
    "\n",
    "df_covid_denormalized = pd.merge(df_covid_worldwide.reset_index(), df_countries, on=\"geo_id\").set_index(\"date\")\n",
    "\n",
    "df_covid_denormalized_august = df_covid_denormalized.loc[\"2020-08\"].groupby(\"country_name\").sum()\n",
    "\n",
    "df_covid_denormalized_august[\"fatality_ratio\"] = df_covid_denormalized_august[\"deaths\"]/df_covid_denormalized_august[\"confirmed_cases\"]\n",
    "\n",
    "df_top_20_fatality_rate_on_august = df_covid_denormalized_august.sort_values(by=\"fatality_ratio\", ascending=False).head(20)\n",
    "print(df_top_20_fatality_rate_on_august[\"fatality_ratio\"])"
   ]
  },
  {
   "cell_type": "markdown",
   "id": "22191ee2-e3c6-40e4-ad2f-c01eabb42324",
   "metadata": {},
   "source": [
    "# Visualisasi Negara dengan Fatality Ratio Tertinggi di Bulan Agustus 2020"
   ]
  },
  {
   "cell_type": "code",
   "execution_count": 30,
   "id": "79fa42bb-beb1-4a17-a748-b7a9629e20d9",
   "metadata": {},
   "outputs": [
    {
     "name": "stdout",
     "output_type": "stream",
     "text": [
      "              daily_confirmed_cases  daily_deaths  confirmed_cases  deaths\n",
      "country_name                                                              \n",
      "Afghanistan                    1620           131          1161878   41919\n",
      "Albania                        4183           126           226041    6818\n",
      "Algeria                       14315           301          1171031   42128\n",
      "Andorra                         202             1            31133    1631\n",
      "Angola                         1546            59            56404    2523\n"
     ]
    },
    {
     "data": {
      "image/png": "[encoded data removed]",
      "text/plain": [
       "<Figure size 576x576 with 1 Axes>"
      ]
     },
     "metadata": {
      "needs_background": "light"
     },
     "output_type": "display_data"
    }
   ],
   "source": [
    "import numpy as np\n",
    "import pandas as pd\n",
    "pd.set_option(\"display.max_columns\", None)\n",
    "\n",
    "import ssl\n",
    "ssl._create_default_https_context = ssl._create_unverified_context\n",
    "\n",
    "covid_url = \"https://storage.googleapis.com/dqlab-dataset/covid19_worldwide_2020.json\"\n",
    "df_covid_worldwide = pd.read_json(covid_url)\n",
    "df_covid_worldwide = df_covid_worldwide.set_index(\"date\").sort_index().dropna()\n",
    "\n",
    "countries_url = \"https://storage.googleapis.com/dqlab-dataset/country_details.json\"\n",
    "df_countries = pd.read_json(countries_url)\n",
    "\n",
    "df_covid_denormalized = pd.merge(df_covid_worldwide.reset_index(), df_countries, on=\"geo_id\").set_index(\"date\")\n",
    "\n",
    "df_covid_denormalized_august = df_covid_denormalized.loc[\"2020-08\"].groupby(\"country_name\").sum()\n",
    "print(df_covid_denormalized_august.head())\n",
    "df_covid_denormalized_august[\"fatality_ratio\"] = df_covid_denormalized_august[\"deaths\"]/df_covid_denormalized_august[\"confirmed_cases\"]\n",
    "\n",
    "df_top_20_fatality_rate_on_august = df_covid_denormalized_august.sort_values(\"fatality_ratio\", ascending=False).head(20)\n",
    "\n",
    "# Visulisasi\n",
    "import matplotlib.pyplot as plt\n",
    "plt.figure(figsize=(8,8))\n",
    "df_top_20_fatality_rate_on_august[\"fatality_ratio\"].sort_values().plot(kind=\"barh\", color=\"coral\")\n",
    "plt.title(\"Top 20 Highest Fatality Rate Countries\", fontsize=18, color=\"b\")\n",
    "plt.xlabel(\"Fatality Rate\", fontsize=14)\n",
    "plt.ylabel(\"Country Name\", fontsize=14)\n",
    "plt.grid(axis=\"x\")\n",
    "plt.tight_layout()\n",
    "plt.show()"
   ]
  },
  {
   "cell_type": "markdown",
   "id": "5124490c-612c-4f9c-aee6-93a0eb0c9ad6",
   "metadata": {},
   "source": [
    "# Data Frame Kasus COVID-19 ASEAN"
   ]
  },
  {
   "cell_type": "code",
   "execution_count": 22,
   "id": "0efb604e-2192-4aff-b3e5-9ac4d0c05436",
   "metadata": {},
   "outputs": [
    {
     "name": "stdout",
     "output_type": "stream",
     "text": [
      "Cek nilai unik di kolom 'country_name': ['Malaysia' 'Vietnam' 'Thailand' 'Singapore' 'Indonesia']\n",
      "            daily_confirmed_cases  daily_deaths  confirmed_cases  deaths  \\\n",
      "date                                                                       \n",
      "2019-12-31                      0             0                0       0   \n",
      "2019-12-31                      0             0                0       0   \n",
      "2019-12-31                      0             0                0       0   \n",
      "2019-12-31                      0             0                0       0   \n",
      "2019-12-31                      0             0                0       0   \n",
      "\n",
      "           geo_id country_name  \n",
      "date                            \n",
      "2019-12-31     MY     Malaysia  \n",
      "2019-12-31     VN      Vietnam  \n",
      "2019-12-31     TH     Thailand  \n",
      "2019-12-31     SG    Singapore  \n",
      "2019-12-31     ID    Indonesia  \n"
     ]
    }
   ],
   "source": [
    "import numpy as np\n",
    "import pandas as pd\n",
    "pd.set_option(\"display.max_columns\", None)\n",
    "\n",
    "import ssl\n",
    "ssl._create_default_https_context = ssl._create_unverified_context\n",
    "\n",
    "covid_url = \"https://storage.googleapis.com/dqlab-dataset/covid19_worldwide_2020.json\"\n",
    "df_covid_worldwide = pd.read_json(covid_url)\n",
    "df_covid_worldwide = df_covid_worldwide.set_index(\"date\").sort_index().dropna()\n",
    "\n",
    "countries_url = \"https://storage.googleapis.com/dqlab-dataset/country_details.json\"\n",
    "df_countries = pd.read_json(countries_url)\n",
    "\n",
    "df_covid_denormalized = pd.merge(df_covid_worldwide.reset_index(), df_countries, on=\"geo_id\").set_index(\"date\")\n",
    "\n",
    "asean_country_id = [\"ID\", \"MY\", \"SG\", \"TH\", \"VN\"]\n",
    "filter_list = [(df_covid_denormalized[\"geo_id\"]==country_id).to_numpy() for country_id in asean_country_id]\n",
    "filter_array = np.column_stack(filter_list).sum(axis=1, dtype=\"bool\")\n",
    "df_covid_denormalized_asean = df_covid_denormalized[filter_array].sort_index()\n",
    "\n",
    "print(\"Cek nilai unik di kolom 'country_name':\", df_covid_denormalized_asean[\"country_name\"].unique())\n",
    "print(df_covid_denormalized_asean.head())"
   ]
  },
  {
   "cell_type": "markdown",
   "id": "2f41270c-2229-4803-950e-cacfa9119095",
   "metadata": {},
   "source": [
    "# Kapankah Kasus Pertama COVID-19 di ASEAN"
   ]
  },
  {
   "cell_type": "code",
   "execution_count": 29,
   "id": "10cdfb9e-0ba8-4dbd-af17-6bd4bc98e51e",
   "metadata": {},
   "outputs": [
    {
     "name": "stdout",
     "output_type": "stream",
     "text": [
      "            daily_confirmed_cases  daily_deaths  confirmed_cases  deaths  \\\n",
      "date                                                                       \n",
      "2020-12-11                   2234             3            78499     396   \n",
      "2020-12-11                   6033           165           598933   18336   \n",
      "2020-12-11                      6             0            58297      29   \n",
      "2020-12-11                      4             0             1385      35   \n",
      "2020-12-11                     29             0             4180      60   \n",
      "2020-12-12                      6             0             1391      35   \n",
      "2020-12-12                      8             0            58305      29   \n",
      "2020-12-12                   1810             6            80309     402   \n",
      "2020-12-12                   6310           175           605243   18511   \n",
      "2020-12-12                     12             0             4192      60   \n",
      "2020-12-13                   6388           142           611631   18653   \n",
      "2020-12-13                     17             0             4209      60   \n",
      "2020-12-13                   1937             9            82246     411   \n",
      "2020-12-13                      8             0            58313      29   \n",
      "2020-12-13                      4             0             1395      35   \n",
      "2020-12-14                   6189           166           617820   18819   \n",
      "2020-12-14                   1229             4            83475     415   \n",
      "2020-12-14                      7             0            58320      29   \n",
      "2020-12-14                     28             0             4237      60   \n",
      "2020-12-14                      2             0             1397      35   \n",
      "\n",
      "           geo_id country_name  \n",
      "date                            \n",
      "2020-12-11     MY     Malaysia  \n",
      "2020-12-11     ID    Indonesia  \n",
      "2020-12-11     SG    Singapore  \n",
      "2020-12-11     VN      Vietnam  \n",
      "2020-12-11     TH     Thailand  \n",
      "2020-12-12     VN      Vietnam  \n",
      "2020-12-12     SG    Singapore  \n",
      "2020-12-12     MY     Malaysia  \n",
      "2020-12-12     ID    Indonesia  \n",
      "2020-12-12     TH     Thailand  \n",
      "2020-12-13     ID    Indonesia  \n",
      "2020-12-13     TH     Thailand  \n",
      "2020-12-13     MY     Malaysia  \n",
      "2020-12-13     SG    Singapore  \n",
      "2020-12-13     VN      Vietnam  \n",
      "2020-12-14     ID    Indonesia  \n",
      "2020-12-14     MY     Malaysia  \n",
      "2020-12-14     SG    Singapore  \n",
      "2020-12-14     TH     Thailand  \n",
      "2020-12-14     VN      Vietnam  \n",
      "\n",
      "\n",
      "\n",
      "The first case popped up in each of 5 ASEAN countries:\n",
      "            confirmed_cases geo_id country_name\n",
      "date                                           \n",
      "2020-03-02                2     ID    Indonesia\n",
      "            confirmed_cases geo_id country_name\n",
      "date                                           \n",
      "2020-01-25                3     MY     Malaysia\n",
      "            confirmed_cases geo_id country_name\n",
      "date                                           \n",
      "2020-01-24                3     SG    Singapore\n",
      "            confirmed_cases geo_id country_name\n",
      "date                                           \n",
      "2020-01-13                1     TH     Thailand\n",
      "            confirmed_cases geo_id country_name\n",
      "date                                           \n",
      "2020-01-24                2     VN      Vietnam\n"
     ]
    }
   ],
   "source": [
    "import numpy as np\n",
    "import pandas as pd\n",
    "pd.set_option(\"display.max_columns\", None)\n",
    "\n",
    "import ssl\n",
    "ssl._create_default_https_context = ssl._create_unverified_context\n",
    "\n",
    "covid_url = \"https://storage.googleapis.com/dqlab-dataset/covid19_worldwide_2020.json\"\n",
    "df_covid_worldwide = pd.read_json(covid_url)\n",
    "df_covid_worldwide = df_covid_worldwide.set_index(\"date\").sort_index().dropna()\n",
    "\n",
    "countries_url = \"https://storage.googleapis.com/dqlab-dataset/country_details.json\"\n",
    "df_countries = pd.read_json(countries_url)\n",
    "\n",
    "df_covid_denormalized = pd.merge(df_covid_worldwide.reset_index(), df_countries, on=\"geo_id\").set_index(\"date\")\n",
    "\n",
    "asean_country_id = [\"ID\", \"MY\", \"SG\", \"TH\", \"VN\"]\n",
    "filter_list = [(df_covid_denormalized[\"geo_id\"]==country_id).to_numpy() for country_id in asean_country_id]\n",
    "filter_array = np.column_stack(filter_list).sum(axis=1, dtype=\"bool\")\n",
    "df_covid_denormalized_asean = df_covid_denormalized[filter_array].sort_index()\n",
    "\n",
    "print(df_covid_denormalized_asean.tail(20)) \n",
    "\n",
    "print(\"\")\n",
    "print(\"\")\n",
    "print(\"\")\n",
    "\n",
    "print(\"The first case popped up in each of 5 ASEAN countries:\")\n",
    "for country_id in asean_country_id:\n",
    "    asean_country = df_covid_denormalized_asean[df_covid_denormalized_asean[\"geo_id\"]==country_id]\n",
    "    first_case = asean_country[asean_country[\"confirmed_cases\"]>0][[\"confirmed_cases\",\"geo_id\",\"country_name\"]]\n",
    "    print(first_case.head(1))"
   ]
  },
  {
   "cell_type": "markdown",
   "id": "99859560-5062-4858-87f7-729e38fd14d1",
   "metadata": {},
   "source": [
    "# Kasus Covid-19 di ASEAN mulai Bulan Maret 2020"
   ]
  },
  {
   "cell_type": "code",
   "execution_count": 31,
   "id": "4ad66f5d-2202-4885-b1c1-2bc6e4f1f13a",
   "metadata": {},
   "outputs": [
    {
     "name": "stdout",
     "output_type": "stream",
     "text": [
      "            daily_confirmed_cases  daily_deaths  confirmed_cases  deaths  \\\n",
      "date                                                                       \n",
      "2020-03-01                      0             1               42       1   \n",
      "2020-03-01                      4             0              102       0   \n",
      "2020-03-01                      0             0               16       0   \n",
      "2020-03-01                      0             0                0       0   \n",
      "2020-03-01                      0             0               25       0   \n",
      "\n",
      "           geo_id country_name  \n",
      "date                            \n",
      "2020-03-01     TH     Thailand  \n",
      "2020-03-01     SG    Singapore  \n",
      "2020-03-01     VN      Vietnam  \n",
      "2020-03-01     ID    Indonesia  \n",
      "2020-03-01     MY     Malaysia  \n"
     ]
    }
   ],
   "source": [
    "import numpy as np\n",
    "import pandas as pd\n",
    "pd.set_option(\"display.max_columns\", None)\n",
    "\n",
    "import ssl\n",
    "ssl._create_default_https_context = ssl._create_unverified_context\n",
    "\n",
    "covid_url = \"https://storage.googleapis.com/dqlab-dataset/covid19_worldwide_2020.json\"\n",
    "df_covid_worldwide = pd.read_json(covid_url)\n",
    "df_covid_worldwide = df_covid_worldwide.set_index(\"date\").sort_index().dropna()\n",
    "\n",
    "countries_url = \"https://storage.googleapis.com/dqlab-dataset/country_details.json\"\n",
    "df_countries = pd.read_json(countries_url)\n",
    "\n",
    "df_covid_denormalized = pd.merge(df_covid_worldwide.reset_index(), df_countries, on=\"geo_id\").set_index(\"date\")\n",
    "\n",
    "asean_country_id = [\"ID\", \"MY\", \"SG\", \"TH\", \"VN\"]\n",
    "filter_list = [(df_covid_denormalized[\"geo_id\"]==country_id).to_numpy() for country_id in asean_country_id]\n",
    "filter_array = np.column_stack(filter_list).sum(axis=1, dtype=\"bool\")\n",
    "df_covid_denormalized_asean = df_covid_denormalized[filter_array].sort_index()\n",
    "\n",
    "df_covid_denormalized_asean_march_onward = df_covid_denormalized_asean[df_covid_denormalized_asean.index>=\"2020-03-01\"]\n",
    "print(df_covid_denormalized_asean_march_onward.head())"
   ]
  },
  {
   "cell_type": "markdown",
   "id": "3ae01717-9021-4364-8e40-1e9b69a65343",
   "metadata": {},
   "source": [
    "# Visualisasi Kasus COVID-19 di ASEAN"
   ]
  },
  {
   "cell_type": "code",
   "execution_count": 48,
   "id": "91fd9068-800a-44ae-a072-a5c00a7a2f52",
   "metadata": {},
   "outputs": [
    {
     "data": {
      "image/png": "[encoded data removed]",
      "text/plain": [
       "<Figure size 1152x432 with 1 Axes>"
      ]
     },
     "metadata": {
      "needs_background": "light"
     },
     "output_type": "display_data"
    }
   ],
   "source": [
    "import numpy as np\n",
    "import pandas as pd\n",
    "pd.set_option(\"display.max_columns\", None)\n",
    "\n",
    "import ssl\n",
    "ssl._create_default_https_context = ssl._create_unverified_context\n",
    "\n",
    "covid_url = \"https://storage.googleapis.com/dqlab-dataset/covid19_worldwide_2020.json\"\n",
    "df_covid_worldwide = pd.read_json(covid_url)\n",
    "df_covid_worldwide = df_covid_worldwide.set_index(\"date\").sort_index().dropna()\n",
    "\n",
    "countries_url = \"https://storage.googleapis.com/dqlab-dataset/country_details.json\"\n",
    "df_countries = pd.read_json(countries_url)\n",
    "\n",
    "df_covid_denormalized = pd.merge(df_covid_worldwide.reset_index(), df_countries, on=\"geo_id\").set_index(\"date\")\n",
    "\n",
    "asean_country_id = [\"ID\", \"MY\", \"SG\", \"TH\", \"VN\"]\n",
    "filter_list = [(df_covid_denormalized[\"geo_id\"]==country_id).to_numpy() for country_id in asean_country_id]\n",
    "filter_array = np.column_stack(filter_list).sum(axis=1, dtype=\"bool\")\n",
    "df_covid_denormalized_asean = df_covid_denormalized[filter_array].sort_index()\n",
    "\n",
    "df_covid_denormalized_asean_march_onward = df_covid_denormalized_asean[df_covid_denormalized_asean.index>=\"2020-03-01\"]\n",
    "\n",
    "df_covid_denormalized_asean_march_onward_reset = df_covid_denormalized_asean_march_onward.reset_index()\n",
    "\n",
    "\n",
    "import matplotlib.pyplot as plt\n",
    "import seaborn as sns\n",
    "plt.figure(figsize=(16,6))\n",
    "sns.lineplot(data=df_covid_denormalized_asean_march_onward_reset, \n",
    "             x=\"date\", \n",
    "             y=\"confirmed_cases\", \n",
    "             hue=\"country_name\",\n",
    "             linewidth=2)\n",
    "plt.xlabel('Record Date', fontsize=14)\n",
    "plt.ylabel('Total Cases', fontsize=14)\n",
    "plt.title('Comparison of COVID19 Cases in 5 ASEAN Countries', color=\"b\", fontsize=18)\n",
    "plt.grid()\n",
    "plt.tight_layout()\n",
    "plt.show()"
   ]
  },
  {
   "cell_type": "code",
   "execution_count": null,
   "id": "09eb8832-551f-4e16-b035-5b6645ac137a",
   "metadata": {},
   "outputs": [],
   "source": []
  }
 ],
 "metadata": {
  "kernelspec": {
   "display_name": "Python 3 (ipykernel)",
   "language": "python",
   "name": "python3"
  },
  "language_info": {
   "codemirror_mode": {
    "name": "ipython",
    "version": 3
   },
   "file_extension": ".py",
   "mimetype": "text/x-python",
   "name": "python",
   "nbconvert_exporter": "python",
   "pygments_lexer": "ipython3",
   "version": "3.9.12"
  }
 },
 "nbformat": 4,
 "nbformat_minor": 5
}
