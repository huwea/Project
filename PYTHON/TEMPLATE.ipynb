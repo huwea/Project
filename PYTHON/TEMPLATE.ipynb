{
 "cells": [
  {
   "cell_type": "markdown",
   "id": "3dd71427-e970-4633-ab8a-e980a09b040a",
   "metadata": {},
   "source": [
    "# Project Ke-1 \n",
    "## CHURN ANALYSIS "
   ]
  },
  {
   "cell_type": "markdown",
   "id": "f7fc5729-7c07-47a8-86d5-1ade9a8682af",
   "metadata": {},
   "source": [
    "- Dapat menerapkan bahasa pemograman Python untuk menyelesaikan persoalan untuk analisis data\n",
    "- Dapat mengolah dataset skala kecil hingga besar\n",
    "- Dapat menerapkan exploratory data analysis (EDA) untuk persoalan bisnis\n",
    "- Dapat menghasilkan visualisasi data yang tepat sebagai representasi persoalan bisnis\n",
    "- Dapat membuat dan menghasilkan model prediktif hingga menguji tingkat akurasi untuk memilih model yang tepat\n",
    "- Dapat menerapkan teknik investigasi data-data yang memiliki anomali."
   ]
  },
  {
   "cell_type": "markdown",
   "id": "360967d1-c226-4a0d-8ca7-c6eac12d7f49",
   "metadata": {},
   "source": [
    "Baik sebelum melakukan analysis ada beberapa tahapan yang harus kita pahami yaitu \n",
    "<br>\n",
    "[6 FASE ANALISIS DATA](https://medium.com/@huans502/konsep-dasar-dan-istilah-di-bidang-data-analysts-part-3-1a0a64045089)\n",
    "\n",
    "`1. Bertanya/ ask`\n",
    "<br>\n",
    "kita melakukan dua hal yaitu mendefinisikan masalah yang harus dipecahkan dan kita memastikan bahwa kita memahami sepenuhnya harapan dari pemangku kepentingan/ stakeholder. Ini membantu anda tetap fokus pada masalah itu sendiri bukan hanya gejalanya. Pertanyaan 5 whys membantu pada tahap ini.\n",
    "Berkomunikasi dengan pemangku kepentingan anda adalah kunci untuk membuat anda tetap terlibat dan di jalur yang tepat selama pelaksanaan proyek. Mendefinisikan masalah berarti anda melihat keadaan saat ini dan mengidentifikasi  keadaan dibandingkan dengan keadaan ideal\n",
    "<br>\n",
    "<br>\n",
    "**Berikut ini adalah beberapa pertanyaan yang sering diajukan**\n",
    "<br>\n",
    "Apa masalah yang kita coba selesaikan?, Apa tujuan dari analisis ini?, Apa pelajaran yang kita harapkan dari masalah itu?\n",
    "<br>\n",
    "\n",
    "\n",
    "`2. Mempersiapkan/ prepare`\n",
    "<br>\n",
    "Ini adalah langkah dimana data analyst mengumpulkan dan menyimpan data yang akan kita gunakan untuk proses analisis berikutnya. Mengidentifikasi jenis data apa yang paling berguna untuk memecahkan suatu masalah tertentu. data dan hasil analisis Anda yang objektif dan tidak bias adalah \n",
    "sangat penting. Dengan kata lain, setiap keputusan yang dibuat dari analisis Anda harus selalu didasarkan pada fakta dan kejujuran, serta tidak memihak\n",
    "<br>\n",
    "\n",
    "\n",
    "`3. Memproses/ process`\n",
    "<br>\n",
    "Hal yang dilakukan pada tahap ini adalah menemukan dan menghilangkan setiap kesalahan dan ketidakakuratan yang dapat menghambat perolehan hasil. Biasanya yang dilakukan adalah membersihkan data, mengubahnya menjadi format yang lebih berguna, menggabungkan dua atau lebih, untuk memperoleh \n",
    "informasi lebih lengkap dan menghilangkan data pencilan (outlier)  yaitu data observasi yang dapat memberatkan ketimpangan informasi.\n",
    "<br>\n",
    "Memeriksa data yang kita persiapkan untuk memastikan data yang lengkap dan benar. Tahap ini adalah tahap di mana kita harus memperoleh detail data dengan benar. Jadi Kita juga akan memperbaiki kesalahan ketik, inkonsistensi, atau data yang hilang dan tidak akurat. \n",
    "Untuk melengkapinya, kita juga menerapkan strategi untuk memverifikasi dan membagikan pembersihan data kita dengan pemangku kepentingan\n",
    "<br>\n",
    "\n",
    "\n",
    "`4. Menganalisis/ analyze`\n",
    "<br>\n",
    "Menganalisis data untuk menemukan pola, hubungan, dan tren. Diperlukan penggunaan alat untuk mengubah dan mengatur informasi sehingga Anda dapat menarik kesimpulan yang bermanfaat, membuat prediksi, serta memberi saran yang tepat untuk pengambilan keputusan. \n",
    "Misal menggunakan spreadshet, R, Python, SQL\n",
    "<br>\n",
    "\n",
    "\n",
    "`5. Membagikan/share`\n",
    "<br>\n",
    "[Visualisasi](https://medium.com/@huans502/visualisasi-data-20a19408bfdb)\n",
    "<br>\n",
    "Para analis membagikan temuan dan rekomendasi mereka kepada pihak yang memang berkepentingan. Bagaimana analis data menafsirkan hasil dan membagikannya dengan orang lain untuk membantu pemangku kepentingan membuat keputusan berdasarkan data secara efektif. \n",
    "Pada tahap berbagi, visualisasi adalah teman terbaik seorang analis data. visualisasi itu penting untuk membuat orang lain memahami apa yang data Anda katakan. Dengan visual yang tepat, fakta dan angka menjadi jauh lebih mudah untuk dilihat dan konsep yang kompleks \n",
    "menjadi lebih mudah dipahami.\n",
    "<br>\n",
    "\n",
    "\n",
    "`6. Bertindak/ act`\n",
    "<br>\n",
    "Hal ini berkaitan erat dengan menerapkan wawasan kita untuk menyelesaikan masalah, mengambil keputusan, membuat hal baru. Saat yang menyenangkan ketika suatu perusahaan menerima semua wawasan yang telah kita sediakan, sebagai data analyst, dan mengelola data tersebut \n",
    "sedemikian rupa untuk memecahkan asal masalah perusahaan tersebut\n",
    "<br>\n"
   ]
  },
  {
   "cell_type": "markdown",
   "id": "3dbf712a-2129-42fd-a35d-8c5da0412d8e",
   "metadata": {},
   "source": [
    "# STUDY CASE\n",
    "Ada sebuah toko olahraga yang menjual berbagai kebutuhan olahraga seperti Jaket, Baju, Tas, dan Sepatu. Toko ini mulai berjualan sejak tahun 2013, sehingga sudah memiliki pelanggan tetap sejak lama, dan tetap berusaha untuk mendapatkan pelanggan baru sampai saat ini.\n",
    "Di awal tahun 2019,   manajer toko tersebut ingin kita  memecahkan masalah yang ada di tokonya, yaitu menurunnya pelanggan yang membeli kembali ke tokonya. Manajer toko mendefinisikan bahwa customer termasuk sudah bukan disebut pelanggan lagi (churn) ketika dia sudah tidak bertransaksi\n",
    "ke tokonya lagi sampai dengan 6 bulan terakhir dari update data terakhir yang tersedia. Manajer toko pun memberikan data transaksi dari tahun 2013 sampai dengan 2019 dalam bentuk csv (comma separated value) dengan data_retail.csv dengan jumlah baris 100.000 baris data.\n",
    "    "
   ]
  },
  {
   "cell_type": "markdown",
   "id": "cf1801c7-9805-4e58-8bb3-09b79aa2f60d",
   "metadata": {},
   "source": [
    "# Bertanya/ ask\n",
    "\n",
    "Dari study case diatas dapat kita ketahui pemangku kepentingannya adalah manajer toko. Harapan dari manajer tersebut adalah agar kita menyelidiki churn"
   ]
  },
  {
   "cell_type": "markdown",
   "id": "73f3213b-b02a-4b51-af69-ed88b438e726",
   "metadata": {},
   "source": [
    "# Mempersiapkan/ prepare\n",
    "Churn adalah pelanggan yang sudah tidak melakukan transaksi lagi dalam waktu tertentu, dalam study case ini rentang waktu yang digunakan adalah 6 bulan terakhir dari data transaksi yang ada. \n",
    "Untuk menyelidiki churn tentunya kita memerlukan data transaksi yang mana telah disediakan oleh pihak toko berupa file csv yang berisi data transaksi dari tahun 2013 sampai dengan 2019 dengan jumlah baris 100.000 baris data.\n",
    "<br>\n",
    "[Data Transaksi Toko Olahraga Tahun 2013 - 2019](https://storage.googleapis.com/dqlab-dataset/data_retail.csv)"
   ]
  },
  {
   "cell_type": "markdown",
   "id": "765f2c3d-e92f-483a-860e-193ff4341b9e",
   "metadata": {},
   "source": [
    "# Memproses/ process"
   ]
  },
  {
   "cell_type": "markdown",
   "id": "e3552b85-caf8-40bc-b8cb-497a299f4a98",
   "metadata": {},
   "source": [
    "#### Pertama lakukan pengecekan terhadap null value"
   ]
  },
  {
   "cell_type": "code",
   "execution_count": null,
   "id": "0cdda9fe-4293-44b8-afca-28b3adf2f134",
   "metadata": {},
   "outputs": [],
   "source": [
    "import pandas as pd\n",
    "\n",
    "# Membaca dataset\n",
    "df = pd.read_csv('data_retail.csv', sep=';')\n",
    "\n",
    "#mengecek jumlah column dan row\n",
    "print(\"-----------------------------------\")\n",
    "print(\"Cek Jumlah Baris dan Column\")\n",
    "print(\"-----------------------------------\")\n",
    "shape = df.shape\n",
    "\n",
    "print(\"DataFrame Shape :\", shape)\n",
    "print(\"Jumlah baris :\", shape[0])\n",
    "print(\"Jumlah kolom :\", shape[1])\n",
    "\n",
    "print('\\n')\n",
    "\n",
    "#mengecek nama column\n",
    "print(\"-----------------------------------\")\n",
    "print(\"Cek nama Column\")\n",
    "print(\"-----------------------------------\")\n",
    "print(df.columns)\n",
    "\n",
    "print('\\n')\n",
    "\n",
    "#fungsi untuk mengecek apakah ada data yang kosong jika hasilnya TRUE berarti ada data yang kosong, jika hasilnya FALSE berarti data isi semua\n",
    "print(\"-----------------------------------\")\n",
    "print(\"Cek null\")\n",
    "print(\"-----------------------------------\")\n",
    "print(df.isnull().values.any())\n",
    "print('\\n')\n",
    "#Cek jumlah null value setiap coulmn\n",
    "print(\"-----------------------------------\")\n",
    "print(\"Detail setiap jumlah null column\")\n",
    "print(\"-----------------------------------\")\n",
    "mv = df.isna().sum()\n",
    "print(mv)\n",
    "\n",
    "\n",
    "print('\\n')\n",
    "\n",
    "#Cek apakah ada nilai null\n",
    "print(\"-----------------------------------\")\n",
    "print(\"Cek tipe data\")\n",
    "print(\"-----------------------------------\")\n",
    "print(df.info())\n",
    "\n",
    "print('\\n')\n",
    "\n",
    "# Cek 5 data teratas\n",
    "print(\"-----------------------------------\")\n",
    "print('Lima data teratas:')\n",
    "print(\"-----------------------------------\")\n",
    "print(df.head())\n",
    "\n",
    "\n"
   ]
  },
  {
   "cell_type": "markdown",
   "id": "6c39b69c-1aaf-4b38-b41e-d1b8c8932394",
   "metadata": {},
   "source": [
    "\n",
    "#### Merubah tipe data dari int ke datetime\n"
   ]
  },
  {
   "cell_type": "markdown",
   "id": "f06bfa9c-8f06-45a9-a5b1-8efd5666848a",
   "metadata": {},
   "source": [
    "Setelah kita melakukan pengecekan dapat dilihat ternyata tidak ada nilai null. Tapi sayangnya ada column yang tipe datanya belum sesuai sehingga kita harus melakukan pengubahan tipe data"
   ]
  },
  {
   "cell_type": "code",
   "execution_count": null,
   "id": "a8c333fc-62cf-409b-b506-f504d44e0a44",
   "metadata": {},
   "outputs": [],
   "source": [
    "# Membaca dataset\n",
    "df = pd.read_csv('data_retail.csv', sep=';')\n",
    "\n",
    "# Kolom First_Transaction\n",
    "df['First_Transaction'] = pd.to_datetime(df['First_Transaction']/1000, unit='s', origin='1970-01-01')\n",
    "\n",
    "# Kolom Last_Transaction\n",
    "df['Last_Transaction'] = pd.to_datetime(df['Last_Transaction']/1000, unit='s', origin='1970-01-01')\n",
    "\n",
    "\n",
    "print(\"-----------------------------------\")\n",
    "print('Lima data teratas:')\n",
    "print(\"-----------------------------------\")\n",
    "print(df.head())\n",
    "\n",
    "print('\\n')\n",
    "\n",
    "print(\"-----------------------------------\")\n",
    "print('Info dataset:')\n",
    "print(\"-----------------------------------\")\n",
    "print(df.info())"
   ]
  },
  {
   "cell_type": "markdown",
   "id": "1800a789-5cc5-4052-a0d1-414d4265ece8",
   "metadata": {},
   "source": [
    "#### Hapus column yang tidak digunakan"
   ]
  },
  {
   "cell_type": "markdown",
   "id": "00929803-c350-4135-9dbb-da5ff0122ae4",
   "metadata": {},
   "source": [
    "kolom yang dihapus adalah no dan row_num"
   ]
  },
  {
   "cell_type": "code",
   "execution_count": null,
   "id": "386f556c-19af-4af7-ae80-7ad1ce9f10af",
   "metadata": {},
   "outputs": [],
   "source": [
    "# Coding sebelumnya\n",
    "df = pd.read_csv('data_retail.csv', sep=';')\n",
    "df['First_Transaction'] = pd.to_datetime(df['First_Transaction']/1000, unit='s', origin='1970-01-01')\n",
    "df['Last_Transaction'] = pd.to_datetime(df['Last_Transaction']/1000, unit='s', origin='1970-01-01')\n",
    "\n",
    "# Hapus kolom-kolom yang tidak diperlukan\n",
    "del df['no']\n",
    "del df['Row_Num']\n",
    "\n",
    "# Cetak lima data teratas\n",
    "print(\"-----------------------------------\")\n",
    "print('Lima data teratas setelah column no dan row_num dihapus:')\n",
    "print(\"-----------------------------------\")\n",
    "print(df.head())"
   ]
  },
  {
   "cell_type": "markdown",
   "id": "aea5f94a-1b8d-4966-a1b5-bf97f286bea5",
   "metadata": {},
   "source": [
    "# Menganalisis/ analyze & Membagikan/share"
   ]
  },
  {
   "cell_type": "markdown",
   "id": "781a1dc0-e8af-494e-84fb-470f60f67596",
   "metadata": {},
   "source": [
    "#### Pahami setiap isi dari dataframe dan attribute"
   ]
  },
  {
   "cell_type": "markdown",
   "id": "efcf3a1b-c6ac-42c6-a6c0-35d19cfd1d5c",
   "metadata": {},
   "source": [
    "Sebelum menganalisis pastikan kita benar-benar paham dengan isi dataset kita. Penting untuk mengetahui maksud dari tiap kolom dari dataset agar kita dapat menganalisis dengan cepat dan tepat"
   ]
  },
  {
   "cell_type": "code",
   "execution_count": null,
   "id": "5b2429ab-db65-4578-b9cd-e650b3ba132d",
   "metadata": {},
   "outputs": [],
   "source": []
  }
 ],
 "metadata": {
  "kernelspec": {
   "display_name": "Python 3 (ipykernel)",
   "language": "python",
   "name": "python3"
  },
  "language_info": {
   "codemirror_mode": {
    "name": "ipython",
    "version": 3
   },
   "file_extension": ".py",
   "mimetype": "text/x-python",
   "name": "python",
   "nbconvert_exporter": "python",
   "pygments_lexer": "ipython3",
   "version": "3.9.12"
  }
 },
 "nbformat": 4,
 "nbformat_minor": 5
}
