{
 "cells": [
  {
   "cell_type": "markdown",
   "id": "af6394a2-4b6d-4f8d-8175-08d507114072",
   "metadata": {},
   "source": [
    "# PROSES ANALISIS DATASET STUDY CASE 1"
   ]
  },
  {
   "cell_type": "markdown",
   "id": "81d66cad-ef7f-4078-bbc7-93fd3613e9c2",
   "metadata": {},
   "source": [
    "# ----------------------------------------------------------------------------------------------------------------------------"
   ]
  },
  {
   "cell_type": "markdown",
   "id": "8741a8bf-7209-429d-87d6-2bad0db4510e",
   "metadata": {},
   "source": [
    "# Pertama lakukan pengecekan terhadap null value, tipe data, jumlah data dan 5 data teratas"
   ]
  },
  {
   "cell_type": "code",
   "execution_count": 468,
   "id": "7eb99b31-2c24-461f-9c94-d489ce50e915",
   "metadata": {},
   "outputs": [
    {
     "name": "stdout",
     "output_type": "stream",
     "text": [
      "-----------------------------------\n",
      "Cek Jumlah Baris dan Column\n",
      "-----------------------------------\n",
      "DataFrame Shape : (100, 8)\n",
      "Jumlah baris : 100\n",
      "Jumlah kolom : 8\n",
      "\n",
      "\n",
      "-----------------------------------\n",
      "Cek nama Column\n",
      "-----------------------------------\n",
      "Index(['user_id', 'first_contact', 'checkout_date', 'paid_date', 'channel',\n",
      "       'occupation', 'city', 'age'],\n",
      "      dtype='object')\n",
      "\n",
      "\n",
      "-----------------------------------\n",
      "Cek null\n",
      "-----------------------------------\n",
      "False\n",
      "\n",
      "\n",
      "-----------------------------------\n",
      "Detail setiap jumlah null column\n",
      "-----------------------------------\n",
      "user_id          0\n",
      "first_contact    0\n",
      "checkout_date    0\n",
      "paid_date        0\n",
      "channel          0\n",
      "occupation       0\n",
      "city             0\n",
      "age              0\n",
      "dtype: int64\n",
      "\n",
      "\n",
      "-----------------------------------\n",
      "Cek tipe data\n",
      "-----------------------------------\n",
      "<class 'pandas.core.frame.DataFrame'>\n",
      "RangeIndex: 100 entries, 0 to 99\n",
      "Data columns (total 8 columns):\n",
      " #   Column         Non-Null Count  Dtype         \n",
      "---  ------         --------------  -----         \n",
      " 0   user_id        100 non-null    int64         \n",
      " 1   first_contact  100 non-null    datetime64[ns]\n",
      " 2   checkout_date  100 non-null    datetime64[ns]\n",
      " 3   paid_date      100 non-null    datetime64[ns]\n",
      " 4   channel        100 non-null    object        \n",
      " 5   occupation     100 non-null    object        \n",
      " 6   city           100 non-null    object        \n",
      " 7   age            100 non-null    int64         \n",
      "dtypes: datetime64[ns](3), int64(2), object(3)\n",
      "memory usage: 6.4+ KB\n",
      "None\n",
      "\n",
      "\n",
      "-----------------------------------\n",
      "Lima data teratas:\n",
      "-----------------------------------\n",
      "   user_id first_contact checkout_date  paid_date   channel      occupation  \\\n",
      "0      297    2022-08-07    2022-08-17 2022-08-19  referral          worker   \n",
      "1      197    2022-08-30    2022-09-13 2022-10-01   organic     job_seekers   \n",
      "2      259    2022-08-27    2022-08-29 2022-09-10   inbound     job_seekers   \n",
      "3      207    2022-08-28    2022-09-16 2022-09-24   organic          worker   \n",
      "4      155    2022-08-31    2022-09-06 2022-09-13  referral  fresh_graduate   \n",
      "\n",
      "       city  age  \n",
      "0   bandung   33  \n",
      "1   jakarta   23  \n",
      "2  semarang   29  \n",
      "3  semarang   22  \n",
      "4  semarang   22  \n",
      "\n",
      "\n"
     ]
    }
   ],
   "source": [
    "import pandas as pd\n",
    "\n",
    "df = pd.read_excel('Data for Study Case 1.xlsx', sheet_name=\"Data for Study Case 1\")\n",
    "\n",
    "#mengecek jumlah column dan row\n",
    "print(\"-----------------------------------\")\n",
    "print(\"Cek Jumlah Baris dan Column\")\n",
    "print(\"-----------------------------------\")\n",
    "shape = df.shape\n",
    "\n",
    "print(\"DataFrame Shape :\", shape)\n",
    "print(\"Jumlah baris :\", shape[0])\n",
    "print(\"Jumlah kolom :\", shape[1])\n",
    "\n",
    "print('\\n')\n",
    "\n",
    "#mengecek nama column\n",
    "print(\"-----------------------------------\")\n",
    "print(\"Cek nama Column\")\n",
    "print(\"-----------------------------------\")\n",
    "print(df.columns)\n",
    "\n",
    "print('\\n')\n",
    "\n",
    "#fungsi untuk mengecek apakah ada data yang kosong jika hasilnya TRUE berarti ada data yang kosong, jika hasilnya FALSE berarti data isi semua\n",
    "print(\"-----------------------------------\")\n",
    "print(\"Cek null\")\n",
    "print(\"-----------------------------------\")\n",
    "print(df.isnull().values.any())\n",
    "print('\\n')\n",
    "#Cek jumlah null value setiap coulmn\n",
    "print(\"-----------------------------------\")\n",
    "print(\"Detail setiap jumlah null column\")\n",
    "print(\"-----------------------------------\")\n",
    "mv = df.isna().sum()\n",
    "print(mv)\n",
    "\n",
    "\n",
    "print('\\n')\n",
    "\n",
    "#Cek apakah ada nilai null\n",
    "print(\"-----------------------------------\")\n",
    "print(\"Cek tipe data\")\n",
    "print(\"-----------------------------------\")\n",
    "print(df.info())\n",
    "\n",
    "print('\\n')\n",
    "\n",
    "# Cek 5 data teratas\n",
    "print(\"-----------------------------------\")\n",
    "print('Lima data teratas:')\n",
    "print(\"-----------------------------------\")\n",
    "print(df.head())\n",
    "print('\\n')\n"
   ]
  },
  {
   "cell_type": "code",
   "execution_count": null,
   "id": "4438981b-0999-4cd8-8818-2bcafc494da5",
   "metadata": {},
   "outputs": [],
   "source": []
  },
  {
   "cell_type": "markdown",
   "id": "cd186009-ad4a-4dc9-945c-79291f20ba1f",
   "metadata": {},
   "source": [
    "# Pahami setiap isi dari dataframe dan attribute"
   ]
  },
  {
   "cell_type": "markdown",
   "id": "c82aa3f1-b8ad-4d2b-8b0c-aa4de74625d6",
   "metadata": {},
   "source": [
    "Sebelum menganalisis pastikan kita benar-benar paham dengan isi dataset kita. Penting untuk mengetahui maksud dari tiap kolom dari dataset agar kita dapat menganalisis dengan cepat dan tepat"
   ]
  },
  {
   "cell_type": "markdown",
   "id": "3aed8380-430d-4f90-9672-f200a6fcee25",
   "metadata": {},
   "source": [
    "#### Cek jumlah unik user id"
   ]
  },
  {
   "cell_type": "code",
   "execution_count": 469,
   "id": "bfe20fab-40a7-4041-8025-c1fb8a53ff2b",
   "metadata": {},
   "outputs": [
    {
     "name": "stdout",
     "output_type": "stream",
     "text": [
      "-----------------------------------\n",
      "Cek Column user id\n",
      "-----------------------------------\n",
      "Terdapat  80  user_id\n"
     ]
    }
   ],
   "source": [
    "print(\"-----------------------------------\")\n",
    "print(\"Cek Column user id\")\n",
    "print(\"-----------------------------------\")\n",
    "df_cek_userid = df[\"user_id\"]\n",
    "print(\"Terdapat \", df_cek_userid.nunique(),\" user_id\")"
   ]
  },
  {
   "cell_type": "markdown",
   "id": "dc93c53f-929f-4994-a58a-15fb79aafe33",
   "metadata": {},
   "source": [
    "Dapat dilihat dari 100 baris data hanya terdapat 80 unik user_id ini menandakan ada duplikasi user_id di data"
   ]
  },
  {
   "cell_type": "markdown",
   "id": "bde7ba53-8012-4639-9f57-60153bab7ed9",
   "metadata": {},
   "source": [
    "#### cek setiap user ikut berapa channel"
   ]
  },
  {
   "cell_type": "code",
   "execution_count": 470,
   "id": "2b125e8f-7b8c-4131-bd5c-31aae360213f",
   "metadata": {},
   "outputs": [
    {
     "name": "stdout",
     "output_type": "stream",
     "text": [
      "    user_id  channel\n",
      "0       104        1\n",
      "1       107        1\n",
      "2       111        1\n",
      "3       112        1\n",
      "4       113        1\n",
      "5       115        1\n",
      "6       119        1\n",
      "7       120        1\n",
      "8       122        1\n",
      "9       124        1\n",
      "10      125        2\n",
      "11      126        1\n",
      "12      129        1\n",
      "13      131        2\n",
      "14      133        1\n",
      "15      135        1\n",
      "16      136        1\n",
      "17      139        1\n",
      "18      140        1\n",
      "19      141        1\n",
      "20      150        2\n",
      "21      154        1\n",
      "22      155        1\n",
      "23      157        1\n",
      "24      159        1\n",
      "25      164        1\n",
      "26      165        1\n",
      "27      168        1\n",
      "28      169        1\n",
      "29      170        1\n",
      "30      171        1\n",
      "31      173        1\n",
      "32      177        1\n",
      "33      182        1\n",
      "34      184        1\n",
      "35      188        1\n",
      "36      189        1\n",
      "37      193        2\n",
      "38      197        2\n",
      "39      199        1\n",
      "40      200        2\n",
      "41      201        1\n",
      "42      203        1\n",
      "43      207        2\n",
      "44      209        2\n",
      "45      210        1\n",
      "46      212        2\n",
      "47      214        1\n",
      "48      216        1\n",
      "49      218        1\n",
      "50      219        1\n",
      "51      220        1\n",
      "52      221        1\n",
      "53      223        1\n",
      "54      228        1\n",
      "55      232        1\n",
      "56      233        1\n",
      "57      234        1\n",
      "58      236        2\n",
      "59      244        3\n",
      "60      245        2\n",
      "61      254        1\n",
      "62      255        1\n",
      "63      257        1\n",
      "64      259        1\n",
      "65      260        1\n",
      "66      261        2\n",
      "67      262        3\n",
      "68      264        1\n",
      "69      267        1\n",
      "70      270        1\n",
      "71      272        1\n",
      "72      278        1\n",
      "73      279        1\n",
      "74      280        3\n",
      "75      282        2\n",
      "76      283        1\n",
      "77      296        1\n",
      "78      297        2\n",
      "79      299        1\n",
      "\n",
      "\n"
     ]
    }
   ],
   "source": [
    "# importing the modules\n",
    "from IPython.display import display\n",
    "pd.set_option('display.max_rows', None)\n",
    "\n",
    "df_channel = df.groupby(['user_id'])['channel'].count().reset_index()\n",
    "#df_covid_denormalized_country_name = pd.DataFrame(df_covid_denormalized_country_name)\n",
    "\n",
    "print(pd.DataFrame(df_channel))\n",
    "print('\\n')"
   ]
  },
  {
   "cell_type": "code",
   "execution_count": 471,
   "id": "da9445c9-b5f3-4c77-970e-ac4c7eda8d56",
   "metadata": {},
   "outputs": [
    {
     "name": "stdout",
     "output_type": "stream",
     "text": [
      "-----------------------------------\n",
      "Cek Column checkout_date\n",
      "-----------------------------------\n",
      "data waktu checkout_date pertama pada dataset dimulai pada  2022-08-04 00:00:00\n",
      "data waktu checkout_date terakhir pada  2022-09-16 00:00:00\n",
      "Jadi dapat kita ketahui range waktu terjadinya checkout_date pada dataset adalah sekitar  43 days 00:00:00\n",
      "\n",
      "\n"
     ]
    }
   ],
   "source": [
    "print(\"-----------------------------------\")\n",
    "print(\"Cek Column checkout_date\")\n",
    "print(\"-----------------------------------\")\n",
    "print(\"data waktu checkout_date pertama pada dataset dimulai pada \", min(df['checkout_date']))\n",
    "print(\"data waktu checkout_date terakhir pada \",max(df['checkout_date']))\n",
    "\n",
    "selisih_checkout_date = max(df['checkout_date']) - min(df['checkout_date'])\n",
    "                    \n",
    "print(\"Jadi dapat kita ketahui range waktu terjadinya checkout_date pada dataset adalah sekitar \", selisih_checkout_date)\n",
    "print('\\n')\n"
   ]
  },
  {
   "cell_type": "code",
   "execution_count": 472,
   "id": "ff5f2441-9f56-4b47-8a2d-afcb79753c88",
   "metadata": {},
   "outputs": [
    {
     "name": "stdout",
     "output_type": "stream",
     "text": [
      "-----------------------------------\n",
      "Cek Column paid_date\n",
      "-----------------------------------\n",
      "data waktu paid_date pertama pada dataset dimulai pada  2022-08-09 00:00:00\n",
      "data waktu paid_date terakhir pada  2022-10-06 00:00:00\n",
      "Jadi dapat kita ketahui range waktu terjadinya paid_date pada dataset adalah sekitar  58 days 00:00:00\n",
      "\n",
      "\n"
     ]
    }
   ],
   "source": [
    "print(\"-----------------------------------\")\n",
    "print(\"Cek Column paid_date\")\n",
    "print(\"-----------------------------------\")\n",
    "print(\"data waktu paid_date pertama pada dataset dimulai pada \", min(df['paid_date']))\n",
    "print(\"data waktu paid_date terakhir pada \",max(df['paid_date']))\n",
    "\n",
    "selisih_paid_date = max(df['paid_date']) - min(df['paid_date'])\n",
    "                    \n",
    "print(\"Jadi dapat kita ketahui range waktu terjadinya paid_date pada dataset adalah sekitar \", selisih_paid_date)\n",
    "print('\\n')"
   ]
  },
  {
   "cell_type": "markdown",
   "id": "ef2f6eca-3f06-4cd1-9cbc-a8c515d2242b",
   "metadata": {},
   "source": [
    "# VISUALISASI"
   ]
  },
  {
   "cell_type": "markdown",
   "id": "a1aae8bb-c437-45fd-92ff-014a6d9e814e",
   "metadata": {},
   "source": [
    "#### Grafik column channel"
   ]
  },
  {
   "cell_type": "code",
   "execution_count": 473,
   "id": "1c54f75b-dce8-48a3-b4dc-5da21806553c",
   "metadata": {},
   "outputs": [
    {
     "name": "stdout",
     "output_type": "stream",
     "text": [
      "-----------------------------------\n",
      "Cek Column channel\n",
      "-----------------------------------\n",
      "di dalam dataset hanya terdapat 4 jenis channel yaitu\n",
      "['referral' 'organic' 'inbound' 'digital_festival']\n",
      "\n",
      "\n",
      "-----------------------------------\n",
      "Grafik Jumlah user berdasarkan jumlah channel\n",
      "-----------------------------------\n",
      "channel\n",
      "digital_festival    27\n",
      "inbound             28\n",
      "organic             22\n",
      "referral            23\n",
      "Name: channel, dtype: int64\n",
      "\n",
      "\n"
     ]
    },
    {
     "data": {
      "image/png": "[encoded data removed]",
      "text/plain": [
       "<Figure size 576x396 with 1 Axes>"
      ]
     },
     "metadata": {},
     "output_type": "display_data"
    },
    {
     "name": "stdout",
     "output_type": "stream",
     "text": [
      "\n",
      "\n"
     ]
    }
   ],
   "source": [
    "import matplotlib.pyplot as plt\n",
    "\n",
    "print(\"-----------------------------------\")\n",
    "print(\"Cek Column channel\")\n",
    "print(\"-----------------------------------\")\n",
    "print(\"di dalam dataset hanya terdapat 4 jenis channel yaitu\")\n",
    "df_cek_channel = df[\"channel\"]\n",
    "print(df_cek_channel.unique())\n",
    "print('\\n')\n",
    "\n",
    "print(\"-----------------------------------\")\n",
    "print('Grafik Jumlah user berdasarkan jumlah channel')\n",
    "print(\"-----------------------------------\")\n",
    "print(df[\"channel\"].groupby([df[\"channel\"]]).count())\n",
    "print('\\n')\n",
    "\n",
    "df_channel_goroup = df[\"channel\"].groupby([df[\"channel\"]]).count()\n",
    "df_channel_goroup.plot(x='channel', y='user_id', kind='bar', title='Customer Distribution by Count channel Group')\n",
    "plt.xlabel('channel')\n",
    "plt.ylabel('count channel')\n",
    "plt.tight_layout()\n",
    "plt.show()\n",
    "print('\\n')"
   ]
  },
  {
   "cell_type": "markdown",
   "id": "ebd90a74-8bba-40a2-9880-c2e4c0068a4c",
   "metadata": {},
   "source": [
    "#### Grafik column occupation"
   ]
  },
  {
   "cell_type": "code",
   "execution_count": 474,
   "id": "a62ae722-b42d-4ab9-90f5-c777cfcf4658",
   "metadata": {},
   "outputs": [
    {
     "name": "stdout",
     "output_type": "stream",
     "text": [
      "-----------------------------------\n",
      "Cek Column channel\n",
      "-----------------------------------\n",
      "di dalam dataset hanya terdapat 4 jenis channel yaitu\n",
      "['referral' 'organic' 'inbound' 'digital_festival']\n",
      "\n",
      "\n",
      "-----------------------------------\n",
      "Grafik Jumlah user berdasarkan group occupation\n",
      "-----------------------------------\n",
      "occupation\n",
      "fresh_graduate    31\n",
      "job_seekers       25\n",
      "student           22\n",
      "worker            22\n",
      "Name: occupation, dtype: int64\n",
      "\n",
      "\n"
     ]
    },
    {
     "data": {
      "image/png": "[encoded data removed]",
      "text/plain": [
       "<Figure size 576x396 with 1 Axes>"
      ]
     },
     "metadata": {},
     "output_type": "display_data"
    },
    {
     "name": "stdout",
     "output_type": "stream",
     "text": [
      "\n",
      "\n"
     ]
    }
   ],
   "source": [
    "import matplotlib.pyplot as plt\n",
    "\n",
    "print(\"-----------------------------------\")\n",
    "print(\"Cek Column channel\")\n",
    "print(\"-----------------------------------\")\n",
    "print(\"di dalam dataset hanya terdapat 4 jenis channel yaitu\")\n",
    "df_cek_channel = df[\"channel\"]\n",
    "print(df_cek_channel.unique())\n",
    "print('\\n')\n",
    "\n",
    "print(\"-----------------------------------\")\n",
    "print('Grafik Jumlah user berdasarkan group occupation')\n",
    "print(\"-----------------------------------\")\n",
    "print(df[\"occupation\"].groupby([df[\"occupation\"]]).count())\n",
    "print('\\n')\n",
    "\n",
    "df_channel_occupation = df[\"occupation\"].groupby([df[\"occupation\"]]).count()\n",
    "df_channel_occupation.plot(x='occupation', y='user_id', kind='bar', title='Customer Distribution by Count occupation Group')\n",
    "plt.xlabel('occupation')\n",
    "plt.ylabel('count occupation')\n",
    "plt.tight_layout()\n",
    "plt.show()\n",
    "print('\\n')"
   ]
  },
  {
   "cell_type": "markdown",
   "id": "2f1ef2aa-d54f-41c4-b26c-1e4582e2abc3",
   "metadata": {},
   "source": [
    "#### Grafik column  city"
   ]
  },
  {
   "cell_type": "code",
   "execution_count": 475,
   "id": "90986700-451d-4f6c-bdb4-06e7aa979805",
   "metadata": {},
   "outputs": [
    {
     "name": "stdout",
     "output_type": "stream",
     "text": [
      "-----------------------------------\n",
      "Cek Column city\n",
      "-----------------------------------\n",
      "di dalam dataset hanya terdapat 4 city yaitu\n",
      "['bandung' 'jakarta' 'semarang' 'surabaya']\n",
      "\n",
      "\n",
      "-----------------------------------\n",
      "Cek jumlah user berdasarkan group city\n",
      "-----------------------------------\n",
      "city\n",
      "bandung     27\n",
      "jakarta     22\n",
      "semarang    22\n",
      "surabaya    29\n",
      "Name: city, dtype: int64\n",
      "\n",
      "\n",
      "-----------------------------------\n",
      "Grafik Jumlah user berdasarkan group city\n",
      "-----------------------------------\n",
      "city\n",
      "bandung     27\n",
      "jakarta     22\n",
      "semarang    22\n",
      "surabaya    29\n",
      "Name: city, dtype: int64\n",
      "\n",
      "\n"
     ]
    },
    {
     "data": {
      "image/png": "[encoded data removed]",
      "text/plain": [
       "<Figure size 576x396 with 1 Axes>"
      ]
     },
     "metadata": {},
     "output_type": "display_data"
    },
    {
     "name": "stdout",
     "output_type": "stream",
     "text": [
      "\n",
      "\n"
     ]
    }
   ],
   "source": [
    "import matplotlib.pyplot as plt\n",
    "\n",
    "print(\"-----------------------------------\")\n",
    "print(\"Cek Column city\")\n",
    "print(\"-----------------------------------\")\n",
    "print(\"di dalam dataset hanya terdapat 4 city yaitu\")\n",
    "df_cek_city = df[\"city\"]\n",
    "print(df_cek_city.unique())\n",
    "print('\\n')\n",
    "\n",
    "print(\"-----------------------------------\")\n",
    "print(\"Cek jumlah user berdasarkan group city\")\n",
    "print(\"-----------------------------------\")\n",
    "print(df[\"city\"].groupby([df[\"city\"]]).count())\n",
    "print('\\n')\n",
    "\n",
    "print(\"-----------------------------------\")\n",
    "print('Grafik Jumlah user berdasarkan group city')\n",
    "print(\"-----------------------------------\")\n",
    "print(df[\"city\"].groupby([df[\"city\"]]).count())\n",
    "print('\\n')\n",
    "\n",
    "df_channel_city = df[\"city\"].groupby([df[\"city\"]]).count()\n",
    "df_channel_city.plot(x='city', y='user_id', kind='bar', title='Customer Distribution by Count city Group')\n",
    "plt.xlabel('city')\n",
    "plt.ylabel('count city')\n",
    "plt.tight_layout()\n",
    "plt.show()\n",
    "print('\\n')\n"
   ]
  },
  {
   "cell_type": "markdown",
   "id": "cad436b0-24a9-417c-a8ff-239100fd176f",
   "metadata": {},
   "source": [
    "#### Grafik column age"
   ]
  },
  {
   "cell_type": "code",
   "execution_count": 476,
   "id": "5b150b35-5033-44e0-8a4b-0727842d08f1",
   "metadata": {},
   "outputs": [
    {
     "name": "stdout",
     "output_type": "stream",
     "text": [
      "-----------------------------------\n",
      "Cek Column age\n",
      "-----------------------------------\n",
      "dibawah ini adalah umur pada column age\n",
      "[33 23 29 22 26 25 19 24 20 30 27 21 28 18 32 31 34]\n",
      "\n",
      "\n",
      "-----------------------------------\n",
      "Grafik Jumlah user berdasarkan group age\n",
      "-----------------------------------\n",
      "age\n",
      "18     4\n",
      "19     4\n",
      "20     5\n",
      "21     3\n",
      "22    21\n",
      "23    12\n",
      "24    11\n",
      "25    12\n",
      "26     7\n",
      "27     3\n",
      "28     3\n",
      "29     7\n",
      "30     3\n",
      "31     1\n",
      "32     1\n",
      "33     2\n",
      "34     1\n",
      "Name: age, dtype: int64\n",
      "\n",
      "\n"
     ]
    },
    {
     "data": {
      "image/png": "[encoded data removed]",
      "text/plain": [
       "<Figure size 576x396 with 1 Axes>"
      ]
     },
     "metadata": {},
     "output_type": "display_data"
    },
    {
     "name": "stdout",
     "output_type": "stream",
     "text": [
      "\n",
      "\n",
      "-----------------------------------\n",
      "Grafik boxplot column age\n",
      "-----------------------------------\n",
      "CEK MEAN PADA COLUMN age\n",
      "24.16\n",
      "\n",
      "\n",
      "CEK MEDIAN PADA COLUMN age\n",
      "24.0\n",
      "\n",
      "\n",
      "CEK MODE PADA COLUMN age\n",
      "0    22\n",
      "Name: age, dtype: int64\n",
      "\n",
      "\n"
     ]
    },
    {
     "data": {
      "text/plain": [
       "<AxesSubplot:title={'center':'box plot graph column age'}>"
      ]
     },
     "execution_count": 476,
     "metadata": {},
     "output_type": "execute_result"
    },
    {
     "data": {
      "image/png": "[encoded data removed]",
      "text/plain": [
       "<Figure size 576x396 with 1 Axes>"
      ]
     },
     "metadata": {},
     "output_type": "display_data"
    }
   ],
   "source": [
    "import matplotlib.pyplot as plt\n",
    "\n",
    "print(\"-----------------------------------\")\n",
    "print(\"Cek Column age\")\n",
    "print(\"-----------------------------------\")\n",
    "print(\"dibawah ini adalah umur pada column age\")\n",
    "\n",
    "\n",
    "df_cek_age = df[\"age\"]\n",
    "\n",
    "df_cek_age = df_cek_age.unique()\n",
    "\n",
    "# box plot\n",
    "df_sort_age = df.sort_values(by=\"age\")\n",
    "\n",
    "#print(type(df_cek_age))\n",
    "print(df_cek_age)\n",
    "print('\\n')\n",
    "\n",
    "\n",
    "print(\"-----------------------------------\")\n",
    "print('Grafik Jumlah user berdasarkan group age')\n",
    "print(\"-----------------------------------\")\n",
    "print(df[\"age\"].groupby([df[\"age\"]]).count())\n",
    "print('\\n')\n",
    "\n",
    "df_channel_age = df[\"age\"].groupby([df[\"age\"]]).count()\n",
    "df_channel_age.plot(x='age', y='user_id', kind='bar', title='Customer Distribution by Count age Group')\n",
    "plt.xlabel('age')\n",
    "plt.ylabel('count age')\n",
    "plt.tight_layout()\n",
    "plt.show()\n",
    "print('\\n')\n",
    "\n",
    "\n",
    "print(\"-----------------------------------\")\n",
    "print('Grafik boxplot column age')\n",
    "print(\"-----------------------------------\")\n",
    "\n",
    "#print(df_sort_age.head())\n",
    "\n",
    "#cek mean\n",
    "print(\"CEK MEAN PADA COLUMN age\")\n",
    "print(df_sort_age.loc[:,\"age\"].mean())\n",
    "print('\\n')\n",
    "\n",
    "#cek mean\n",
    "print(\"CEK MEDIAN PADA COLUMN age\")\n",
    "print(df_sort_age.loc[:,\"age\"].median())\n",
    "print('\\n')\n",
    "\n",
    "#cek mode\n",
    "print(\"CEK MODE PADA COLUMN age\")\n",
    "print(df_sort_age.loc[:,\"age\"].mode())\n",
    "print('\\n')\n",
    "\n",
    "\n",
    "\n",
    "df_sort_age['age'].plot(kind='box', title='box plot graph column age')\n",
    "#plt.show()"
   ]
  },
  {
   "cell_type": "markdown",
   "id": "eb172be6-3df4-4c22-bf07-00811364ef60",
   "metadata": {},
   "source": [
    "Kegunaan Boxplot\n",
    "1. digunakan untuk mengetahui 5 nilai summary yang terdiri dari Nilai minimum, nilai maksimum, Q1, Median, Q3\n",
    "2. dapat menunjukkan ada atau tidaknya outlier pada data pengamatan\n",
    "3. memahami karakteristik distribusi data\n",
    "\n",
    "dari grafik boxplot diatas dapat disimpulkan\n",
    "1. data pada column age distribusi data adalah positive skew (Skewness yang bernilai positif berarti ekor distribusi berada di sebelah kanan nilai terbanyak. Berarti, sebagian besar distribusi berada di nilai rendah)\n",
    "2. data menceng kanan (nilai mean lebih besar dari nilai median, nilai median lebih besar dari modus)\n",
    "3. whiskers bagian atas lebih panjang dari pada bagain bawah\n",
    "4. terdapat outlier dibagain atas boxplot (Outlier/Pencilan artinya suatu angka yang memiliki nilai yang sangat berbeda jauh dengan nilai dari angka lainya pada data, angkanya bernilai 3/2 lebih besar dari quartil yang paling atas atau angkanya bernilai 3/2 lebih kecil dari quartil terendah.)\n",
    "dari grafik boxplot diatas dapat kita lihat terdapat nilai outlier yang nilainya lebih dari 32\n",
    "\n"
   ]
  },
  {
   "cell_type": "code",
   "execution_count": 477,
   "id": "5caca132-102d-4c04-8d91-9a2fe135b146",
   "metadata": {},
   "outputs": [
    {
     "name": "stdout",
     "output_type": "stream",
     "text": [
      "-----------------------------------\n",
      "Cek Column channel\n",
      "-----------------------------------\n",
      "di dalam dataset hanya terdapat 4 jenis channel yaitu\n",
      "['referral' 'organic' 'inbound' 'digital_festival']\n",
      "\n",
      "\n",
      "-----------------------------------\n",
      "Cek jumlah user berdasarkan channel\n",
      "-----------------------------------\n",
      "channel\n",
      "digital_festival    27\n",
      "inbound             28\n",
      "organic             22\n",
      "referral            23\n",
      "Name: channel, dtype: int64\n",
      "\n",
      "\n"
     ]
    }
   ],
   "source": [
    "print(\"-----------------------------------\")\n",
    "print(\"Cek Column channel\")\n",
    "print(\"-----------------------------------\")\n",
    "print(\"di dalam dataset hanya terdapat 4 jenis channel yaitu\")\n",
    "df_cek_channel = df[\"channel\"]\n",
    "print(df_cek_channel.unique())\n",
    "print('\\n')\n",
    "\n",
    "print(\"-----------------------------------\")\n",
    "print(\"Cek jumlah user berdasarkan channel\")\n",
    "print(\"-----------------------------------\")\n",
    "print(df[\"channel\"].groupby([df[\"channel\"]]).count())\n",
    "print('\\n')"
   ]
  },
  {
   "cell_type": "markdown",
   "id": "e2ff6507-7da6-474a-bf4f-9b0ec706a638",
   "metadata": {},
   "source": [
    "#### Grafik Column first_contact"
   ]
  },
  {
   "cell_type": "code",
   "execution_count": 478,
   "id": "68424647-5c83-49b6-9221-d8d7683725a7",
   "metadata": {},
   "outputs": [
    {
     "name": "stdout",
     "output_type": "stream",
     "text": [
      "-----------------------------------\n",
      "Cek Column first_contact\n",
      "-----------------------------------\n",
      "data waktu first_contact pertama pada dataset dimulai pada  2022-08-01 00:00:00\n",
      "data waktu first_contact terakhir pada  2022-08-31 00:00:00\n",
      "Jadi dapat kita ketahui range waktu terjadinya checkout_date pada dataset adalah sekitar  30 days 00:00:00\n",
      "\n",
      "\n"
     ]
    }
   ],
   "source": [
    "print(\"-----------------------------------\")\n",
    "print(\"Cek Column first_contact\")\n",
    "print(\"-----------------------------------\")\n",
    "print(\"data waktu first_contact pertama pada dataset dimulai pada \", min(df['first_contact']))\n",
    "print(\"data waktu first_contact terakhir pada \",max(df['first_contact']))\n",
    "selisih_first_contact = max(df['first_contact']) - min(df['first_contact'])                   \n",
    "print(\"Jadi dapat kita ketahui range waktu terjadinya checkout_date pada dataset adalah sekitar \", selisih_first_contact)\n",
    "print('\\n')"
   ]
  },
  {
   "cell_type": "code",
   "execution_count": 479,
   "id": "56a11486-ff96-49c0-b483-b74bae6011e1",
   "metadata": {},
   "outputs": [
    {
     "name": "stdout",
     "output_type": "stream",
     "text": [
      "-----------------------------------\n",
      "jumlah first_contact per hari\n",
      "-----------------------------------\n"
     ]
    },
    {
     "data": {
      "image/png": "[encoded data removed]",
      "text/plain": [
       "<Figure size 1080x360 with 1 Axes>"
      ]
     },
     "metadata": {},
     "output_type": "display_data"
    },
    {
     "name": "stdout",
     "output_type": "stream",
     "text": [
      "\n",
      "\n"
     ]
    }
   ],
   "source": [
    "print(\"-----------------------------------\")\n",
    "print(\"jumlah first_contact per hari\")\n",
    "print(\"-----------------------------------\")\n",
    "\n",
    "#df['first_contact'] = pd.to_datetime(df['first_contact']).dt.date\n",
    "\n",
    "df_first_contact = df[\"first_contact\"].groupby([df[\"first_contact\"]]).count()\n",
    "plt.figure(figsize=(15,5))\n",
    "df_first_contact.plot(x='first_contact', y='user_id', kind='bar', title='Customer Distribution by first_contact Group')\n",
    "plt.xlabel('first_contact')\n",
    "plt.ylabel('count first_contact')\n",
    "plt.tight_layout()\n",
    "plt.show()\n",
    "print('\\n')\n"
   ]
  },
  {
   "cell_type": "code",
   "execution_count": 480,
   "id": "c8d2bc9a-db4c-478f-b7d1-08cd1c545be9",
   "metadata": {},
   "outputs": [
    {
     "name": "stdout",
     "output_type": "stream",
     "text": [
      "  first_contact  user_id\n",
      "0    2022-08-07       23\n",
      "1    2022-08-14       24\n",
      "2    2022-08-21       23\n",
      "3    2022-08-28       21\n",
      "4    2022-09-04        9\n",
      "-----------------------------------\n",
      "jumlah first_contact per minggu\n",
      "-----------------------------------\n"
     ]
    },
    {
     "data": {
      "text/plain": [
       "<Figure size 1080x360 with 0 Axes>"
      ]
     },
     "metadata": {},
     "output_type": "display_data"
    },
    {
     "data": {
      "image/png": "[encoded data removed]",
      "text/plain": [
       "<Figure size 576x396 with 1 Axes>"
      ]
     },
     "metadata": {},
     "output_type": "display_data"
    },
    {
     "name": "stdout",
     "output_type": "stream",
     "text": [
      "\n",
      "\n"
     ]
    }
   ],
   "source": [
    "df_first_contact_downsampling = df[[\"user_id\",\"first_contact\"]]\n",
    "                           \n",
    "df_first_contact_downsampling = df_first_contact_downsampling.set_index('first_contact')\n",
    "#print(df_first_contact_downsampling.head())\n",
    "df_first_contact_downsampling = df_first_contact_downsampling.resample('W').count()\n",
    "\n",
    "df_first_contact_downsampling = df_first_contact_downsampling.reset_index()\n",
    "print(df_first_contact_downsampling)\n",
    "\n",
    "print(\"-----------------------------------\")\n",
    "print(\"jumlah first_contact per minggu\")\n",
    "print(\"-----------------------------------\")\n",
    "\n",
    "#df['first_contact'] = pd.to_datetime(df['first_contact']).dt.date\n",
    "\n",
    "#df_first_contact = df[\"first_contact\"].groupby([df[\"first_contact\"]]).count()\n",
    "plt.figure(figsize=(15,5))\n",
    "df_first_contact_downsampling.plot(x='first_contact', y='user_id', kind='bar', title='Customer Distribution by first_contact Group by week')\n",
    "plt.xlabel('first_contact')\n",
    "plt.ylabel('count first_contact ')\n",
    "plt.tight_layout()\n",
    "plt.show()\n",
    "print('\\n')\n"
   ]
  },
  {
   "cell_type": "code",
   "execution_count": 481,
   "id": "5b6e9be6-14b8-46d4-ab11-dfdc99c4ca8c",
   "metadata": {},
   "outputs": [
    {
     "name": "stdout",
     "output_type": "stream",
     "text": [
      "first_contact\n",
      "2022-08-01    4\n",
      "2022-08-02    1\n",
      "2022-08-03    1\n",
      "2022-08-04    1\n",
      "2022-08-05    4\n",
      "2022-08-06    4\n",
      "2022-08-07    8\n",
      "2022-08-08    4\n",
      "2022-08-09    4\n",
      "2022-08-10    4\n",
      "2022-08-11    4\n",
      "2022-08-12    3\n",
      "2022-08-13    3\n",
      "2022-08-14    2\n",
      "2022-08-15    3\n",
      "2022-08-16    3\n",
      "2022-08-17    7\n",
      "2022-08-18    2\n",
      "2022-08-19    4\n",
      "2022-08-20    1\n",
      "2022-08-21    3\n",
      "2022-08-22    2\n",
      "2022-08-23    2\n",
      "2022-08-24    4\n",
      "2022-08-25    1\n",
      "2022-08-26    2\n",
      "2022-08-27    6\n",
      "2022-08-28    4\n",
      "2022-08-29    3\n",
      "2022-08-30    3\n",
      "2022-08-31    3\n",
      "Name: first_contact, dtype: int64\n",
      "\n",
      "\n",
      "\n",
      "\n"
     ]
    }
   ],
   "source": [
    "print(df_first_contact)\n",
    "print('\\n')\n",
    "print('\\n')"
   ]
  },
  {
   "cell_type": "markdown",
   "id": "94206f0c-9f84-49c6-8911-2ed312bc8aa5",
   "metadata": {},
   "source": [
    "#### Grafik column checkout_date"
   ]
  },
  {
   "cell_type": "code",
   "execution_count": 482,
   "id": "a7541239-fd83-4c0b-98f4-027fb7f23b8b",
   "metadata": {},
   "outputs": [
    {
     "name": "stdout",
     "output_type": "stream",
     "text": [
      "-----------------------------------\n",
      "Cek Column checkout_date\n",
      "-----------------------------------\n",
      "data waktu checkout_date pertama pada dataset dimulai pada  2022-08-04 00:00:00\n",
      "data waktu checkout_date terakhir pada  2022-09-16 00:00:00\n",
      "Jadi dapat kita ketahui range waktu terjadinya checkout_date pada dataset adalah sekitar  43 days 00:00:00\n",
      "\n",
      "\n"
     ]
    }
   ],
   "source": [
    "print(\"-----------------------------------\")\n",
    "print(\"Cek Column checkout_date\")\n",
    "print(\"-----------------------------------\")\n",
    "print(\"data waktu checkout_date pertama pada dataset dimulai pada \", min(df['checkout_date']))\n",
    "print(\"data waktu checkout_date terakhir pada \",max(df['checkout_date']))\n",
    "\n",
    "selisih_checkout_date = max(df['checkout_date']) - min(df['checkout_date'])\n",
    "                    \n",
    "print(\"Jadi dapat kita ketahui range waktu terjadinya checkout_date pada dataset adalah sekitar \", selisih_checkout_date)\n",
    "print('\\n')\n"
   ]
  },
  {
   "cell_type": "code",
   "execution_count": 483,
   "id": "c01948ef-7a1c-4d53-ab67-ec99ce8fa965",
   "metadata": {},
   "outputs": [
    {
     "data": {
      "image/png": "[encoded data removed]",
      "text/plain": [
       "<Figure size 1080x360 with 1 Axes>"
      ]
     },
     "metadata": {},
     "output_type": "display_data"
    },
    {
     "name": "stdout",
     "output_type": "stream",
     "text": [
      "\n",
      "\n"
     ]
    }
   ],
   "source": [
    "#df['checkout_date'] = pd.to_datetime(df['checkout_date']).dt.date\n",
    "\n",
    "df_checkout_date = df[\"checkout_date\"].groupby([df[\"checkout_date\"]]).count()\n",
    "plt.figure(figsize=(15,5))\n",
    "df_checkout_date.plot(x='checkout_date', y='user_id', kind='bar', title='Customer Distribution by checkout_date Group')\n",
    "plt.xlabel('checkout_date')\n",
    "plt.ylabel('count checkout_date')\n",
    "plt.tight_layout()\n",
    "plt.show()\n",
    "print('\\n')"
   ]
  },
  {
   "cell_type": "code",
   "execution_count": 484,
   "id": "92966759-00da-40da-a35d-dc42dbf60ac7",
   "metadata": {},
   "outputs": [
    {
     "name": "stdout",
     "output_type": "stream",
     "text": [
      "  checkout_date  user_id\n",
      "0    2022-08-07        4\n",
      "1    2022-08-14       10\n",
      "2    2022-08-21       28\n",
      "3    2022-08-28       20\n",
      "4    2022-09-04       16\n",
      "5    2022-09-11       13\n",
      "6    2022-09-18        9\n",
      "-----------------------------------\n",
      "jumlah checkout_date per minggu\n",
      "-----------------------------------\n"
     ]
    },
    {
     "data": {
      "text/plain": [
       "<Figure size 1080x360 with 0 Axes>"
      ]
     },
     "metadata": {},
     "output_type": "display_data"
    },
    {
     "data": {
      "image/png": "[encoded data removed]",
      "text/plain": [
       "<Figure size 576x396 with 1 Axes>"
      ]
     },
     "metadata": {},
     "output_type": "display_data"
    },
    {
     "name": "stdout",
     "output_type": "stream",
     "text": [
      "\n",
      "\n"
     ]
    }
   ],
   "source": [
    "df_checkout_date_downsampling = df[[\"user_id\",\"checkout_date\"]]\n",
    "#print(df_checkout_date_downsampling.head())\n",
    "\n",
    "df_checkout_date_downsampling = df_checkout_date_downsampling.set_index('checkout_date')\n",
    "#print(df_checkout_date_downsampling.head(10))\n",
    "df_checkout_date_downsampling = df_checkout_date_downsampling.resample('W').count()\n",
    "\n",
    "\n",
    "\n",
    "df_checkout_date_downsampling = df_checkout_date_downsampling.reset_index()\n",
    "print(df_checkout_date_downsampling)\n",
    "\n",
    "print(\"-----------------------------------\")\n",
    "print(\"jumlah checkout_date per minggu\")\n",
    "print(\"-----------------------------------\")\n",
    "\n",
    "#df['checkout_date'] = pd.to_datetime(df['checkout_date']).dt.date\n",
    "\n",
    "#df_checkout_date = df[\"checkout_date\"].groupby([df[\"checkout_date\"]]).count()\n",
    "plt.figure(figsize=(15,5))\n",
    "df_checkout_date_downsampling.plot(x='checkout_date', y='user_id', kind='bar', title='Customer Distribution by checkout_date Group by week')\n",
    "plt.xlabel('checkout_date')\n",
    "plt.ylabel('count checkout_date ')\n",
    "plt.tight_layout()\n",
    "plt.show()\n",
    "print('\\n')"
   ]
  },
  {
   "cell_type": "code",
   "execution_count": 485,
   "id": "7740430e-276a-4512-864d-09c4a8452190",
   "metadata": {},
   "outputs": [
    {
     "name": "stdout",
     "output_type": "stream",
     "text": [
      "city\n",
      "bandung     27\n",
      "jakarta     22\n",
      "semarang    22\n",
      "surabaya    29\n",
      "Name: city, dtype: int64\n",
      "\n",
      "\n",
      "\n",
      "\n"
     ]
    }
   ],
   "source": [
    "print(df_channel_city)\n",
    "print('\\n')\n",
    "print('\\n')"
   ]
  },
  {
   "cell_type": "markdown",
   "id": "9cd8a9e2-bbee-4314-9bb9-851006b558f6",
   "metadata": {},
   "source": [
    "#### Grafik column paid_date"
   ]
  },
  {
   "cell_type": "code",
   "execution_count": 486,
   "id": "567ce418-045c-41b1-854b-aa8c846a7746",
   "metadata": {},
   "outputs": [
    {
     "name": "stdout",
     "output_type": "stream",
     "text": [
      "-----------------------------------\n",
      "Cek Column paid_date\n",
      "-----------------------------------\n",
      "data waktu paid_date pertama pada dataset dimulai pada  2022-08-09 00:00:00\n",
      "data waktu paid_date terakhir pada  2022-10-06 00:00:00\n",
      "Jadi dapat kita ketahui range waktu terjadinya paid_date pada dataset adalah sekitar  58 days 00:00:00\n",
      "\n",
      "\n"
     ]
    }
   ],
   "source": [
    "print(\"-----------------------------------\")\n",
    "print(\"Cek Column paid_date\")\n",
    "print(\"-----------------------------------\")\n",
    "print(\"data waktu paid_date pertama pada dataset dimulai pada \", min(df['paid_date']))\n",
    "print(\"data waktu paid_date terakhir pada \",max(df['paid_date']))\n",
    "\n",
    "selisih_paid_date = max(df['paid_date']) - min(df['paid_date'])\n",
    "                    \n",
    "print(\"Jadi dapat kita ketahui range waktu terjadinya paid_date pada dataset adalah sekitar \", selisih_paid_date)\n",
    "print('\\n')\n"
   ]
  },
  {
   "cell_type": "code",
   "execution_count": 487,
   "id": "91fa3584-1823-4f56-b2c6-6d870daff5e5",
   "metadata": {},
   "outputs": [
    {
     "data": {
      "image/png": "[encoded data removed]",
      "text/plain": [
       "<Figure size 1080x360 with 1 Axes>"
      ]
     },
     "metadata": {},
     "output_type": "display_data"
    },
    {
     "name": "stdout",
     "output_type": "stream",
     "text": [
      "\n",
      "\n"
     ]
    }
   ],
   "source": [
    "#df['paid_date'] = pd.to_datetime(df['paid_date']).dt.date\n",
    "\n",
    "df_paid_date = df[\"paid_date\"].groupby([df[\"paid_date\"]]).count()\n",
    "plt.figure(figsize=(15,5))\n",
    "df_paid_date.plot(x='paid_date', y='user_id', kind='bar', title='Customer Distribution by paid_date Group')\n",
    "plt.xlabel('paid_date')\n",
    "plt.ylabel('count paid_date')\n",
    "plt.tight_layout()\n",
    "plt.show()\n",
    "print('\\n')"
   ]
  },
  {
   "cell_type": "code",
   "execution_count": 488,
   "id": "89d2e798-6011-42af-9bb0-dd24ae3e4911",
   "metadata": {},
   "outputs": [
    {
     "name": "stdout",
     "output_type": "stream",
     "text": [
      "   paid_date  user_id\n",
      "0 2022-08-14        6\n",
      "1 2022-08-21        9\n",
      "2 2022-08-28       21\n",
      "3 2022-09-04       14\n",
      "4 2022-09-11       18\n",
      "5 2022-09-18       14\n",
      "6 2022-09-25       11\n",
      "7 2022-10-02        5\n",
      "8 2022-10-09        2\n",
      "-----------------------------------\n",
      "jumlah paid_date per minggu\n",
      "-----------------------------------\n"
     ]
    },
    {
     "data": {
      "text/plain": [
       "<Figure size 1080x360 with 0 Axes>"
      ]
     },
     "metadata": {},
     "output_type": "display_data"
    },
    {
     "data": {
      "image/png": "[encoded data removed]",
      "text/plain": [
       "<Figure size 576x396 with 1 Axes>"
      ]
     },
     "metadata": {},
     "output_type": "display_data"
    },
    {
     "name": "stdout",
     "output_type": "stream",
     "text": [
      "\n",
      "\n"
     ]
    }
   ],
   "source": [
    "df_paid_date_downsampling = df[[\"user_id\",\"paid_date\"]]\n",
    "#print(df_paid_date_downsampling.head())\n",
    "\n",
    "df_paid_date_downsampling = df_paid_date_downsampling.set_index('paid_date')\n",
    "#print(df_paid_date_downsampling.head(10))\n",
    "df_paid_date_downsampling = df_paid_date_downsampling.resample('W').count()\n",
    "\n",
    "\n",
    "\n",
    "df_paid_date_downsampling = df_paid_date_downsampling.reset_index()\n",
    "print(df_paid_date_downsampling)\n",
    "\n",
    "print(\"-----------------------------------\")\n",
    "print(\"jumlah paid_date per minggu\")\n",
    "print(\"-----------------------------------\")\n",
    "\n",
    "#df['paid_date'] = pd.to_datetime(df['paid_date']).dt.date\n",
    "\n",
    "#df_paid_date = df[\"paid_date\"].groupby([df[\"paid_date\"]]).count()\n",
    "plt.figure(figsize=(15,5))\n",
    "df_paid_date_downsampling.plot(x='paid_date', y='user_id', kind='bar', title='Customer Distribution by paid_date Group by week')\n",
    "plt.xlabel('paid_date')\n",
    "plt.ylabel('count paid_date ')\n",
    "plt.tight_layout()\n",
    "plt.show()\n",
    "print('\\n')"
   ]
  },
  {
   "cell_type": "code",
   "execution_count": 489,
   "id": "eede9a28-4303-4199-9e33-345b6736a1f2",
   "metadata": {},
   "outputs": [
    {
     "name": "stdout",
     "output_type": "stream",
     "text": [
      "city\n",
      "bandung     27\n",
      "jakarta     22\n",
      "semarang    22\n",
      "surabaya    29\n",
      "Name: city, dtype: int64\n",
      "\n",
      "\n",
      "\n",
      "\n"
     ]
    }
   ],
   "source": [
    "print(df_channel_city)\n",
    "print('\\n')\n",
    "print('\\n')"
   ]
  },
  {
   "cell_type": "markdown",
   "id": "1f927139-820e-4358-ada0-e1e6ef382d51",
   "metadata": {},
   "source": [
    "#### cek selisih hari antara column first_contact dengan checkout_date"
   ]
  },
  {
   "cell_type": "code",
   "execution_count": 490,
   "id": "7b2cec91-9981-4e30-90f1-e8b7c2551ddf",
   "metadata": {},
   "outputs": [
    {
     "name": "stdout",
     "output_type": "stream",
     "text": [
      "   user_id first_contact checkout_date  paid_date   channel      occupation  \\\n",
      "0      297    2022-08-07    2022-08-17 2022-08-19  referral          worker   \n",
      "1      197    2022-08-30    2022-09-13 2022-10-01   organic     job_seekers   \n",
      "2      259    2022-08-27    2022-08-29 2022-09-10   inbound     job_seekers   \n",
      "3      207    2022-08-28    2022-09-16 2022-09-24   organic          worker   \n",
      "4      155    2022-08-31    2022-09-06 2022-09-13  referral  fresh_graduate   \n",
      "\n",
      "       city  age first_contact_checkout_date  \n",
      "0   bandung   33                     10 days  \n",
      "1   jakarta   23                     14 days  \n",
      "2  semarang   29                      2 days  \n",
      "3  semarang   22                     19 days  \n",
      "4  semarang   22                      6 days  \n",
      "\n",
      "\n"
     ]
    }
   ],
   "source": [
    "df['first_contact_checkout_date'] = df['checkout_date'].sub(df['first_contact'], axis=0)\n",
    "print(df.head())\n",
    "print('\\n')"
   ]
  },
  {
   "cell_type": "code",
   "execution_count": 491,
   "id": "ca284fbb-f38b-4099-83b6-d5784900e082",
   "metadata": {},
   "outputs": [
    {
     "data": {
      "image/png": "[encoded data removed]",
      "text/plain": [
       "<Figure size 1080x360 with 1 Axes>"
      ]
     },
     "metadata": {},
     "output_type": "display_data"
    },
    {
     "name": "stdout",
     "output_type": "stream",
     "text": [
      "\n",
      "\n"
     ]
    }
   ],
   "source": [
    "#df['first_contact_checkout_date'] = pd.to_datetime(df['first_contact_checkout_date']).dt.date\n",
    "\n",
    "df_first_contact_checkout_date = df[\"first_contact_checkout_date\"].groupby([df[\"first_contact_checkout_date\"]]).count()\n",
    "\n",
    "\n",
    "plt.figure(figsize=(15,5))\n",
    "df_first_contact_checkout_date.plot(x='first_contact_checkout_date', y='user_id', kind='bar', title='Customer Distribution by first_contact_checkout_date Group')\n",
    "plt.xlabel('first_contact_checkout_date')\n",
    "plt.ylabel('count first_contact_checkout_date')\n",
    "plt.tight_layout()\n",
    "plt.show()\n",
    "print('\\n')"
   ]
  },
  {
   "cell_type": "code",
   "execution_count": null,
   "id": "37abebc1-4135-4758-ba05-1d349564c1da",
   "metadata": {},
   "outputs": [],
   "source": []
  },
  {
   "cell_type": "code",
   "execution_count": 492,
   "id": "276ad626-d241-4d72-8240-6d31e930044f",
   "metadata": {},
   "outputs": [
    {
     "name": "stdout",
     "output_type": "stream",
     "text": [
      "first_contact_checkout_date\n",
      "0 days      1\n",
      "1 days      6\n",
      "2 days      5\n",
      "3 days      4\n",
      "4 days      7\n",
      "5 days      4\n",
      "6 days      7\n",
      "7 days      9\n",
      "8 days      3\n",
      "9 days     10\n",
      "10 days     5\n",
      "12 days     2\n",
      "13 days     4\n",
      "14 days     3\n",
      "15 days     4\n",
      "16 days     4\n",
      "17 days     5\n",
      "18 days     6\n",
      "19 days     5\n",
      "20 days     3\n",
      "21 days     3\n",
      "Name: first_contact_checkout_date, dtype: int64\n",
      "\n",
      "\n",
      "\n",
      "\n"
     ]
    }
   ],
   "source": [
    "print(df_first_contact_checkout_date)\n",
    "print('\\n')\n",
    "print('\\n')"
   ]
  },
  {
   "cell_type": "markdown",
   "id": "0fd62532-93c1-4e2e-bd59-7363a6610db3",
   "metadata": {},
   "source": [
    "#### cek selisih hari antara column checkout_date dengan paid_date"
   ]
  },
  {
   "cell_type": "code",
   "execution_count": 493,
   "id": "506ba850-829b-4193-8423-782a42caf3dd",
   "metadata": {},
   "outputs": [
    {
     "name": "stdout",
     "output_type": "stream",
     "text": [
      "   user_id first_contact checkout_date  paid_date   channel      occupation  \\\n",
      "0      297    2022-08-07    2022-08-17 2022-08-19  referral          worker   \n",
      "1      197    2022-08-30    2022-09-13 2022-10-01   organic     job_seekers   \n",
      "2      259    2022-08-27    2022-08-29 2022-09-10   inbound     job_seekers   \n",
      "3      207    2022-08-28    2022-09-16 2022-09-24   organic          worker   \n",
      "4      155    2022-08-31    2022-09-06 2022-09-13  referral  fresh_graduate   \n",
      "\n",
      "       city  age first_contact_checkout_date checkout_date_paid_date  \n",
      "0   bandung   33                     10 days                  2 days  \n",
      "1   jakarta   23                     14 days                 18 days  \n",
      "2  semarang   29                      2 days                 12 days  \n",
      "3  semarang   22                     19 days                  8 days  \n",
      "4  semarang   22                      6 days                  7 days  \n",
      "\n",
      "\n"
     ]
    }
   ],
   "source": [
    "df['checkout_date_paid_date'] = df['paid_date'].sub(df['checkout_date'], axis=0)\n",
    "print(df.head())\n",
    "print('\\n')"
   ]
  },
  {
   "cell_type": "code",
   "execution_count": 494,
   "id": "370899b0-5f9a-460d-80ba-568c2c2a436b",
   "metadata": {},
   "outputs": [
    {
     "data": {
      "image/png": "[encoded data removed]",
      "text/plain": [
       "<Figure size 1080x360 with 1 Axes>"
      ]
     },
     "metadata": {},
     "output_type": "display_data"
    },
    {
     "name": "stdout",
     "output_type": "stream",
     "text": [
      "\n",
      "\n"
     ]
    }
   ],
   "source": [
    "df['paid_date'] = pd.to_datetime(df['paid_date']).dt.date\n",
    "\n",
    "df_checkout_date_paid_date = df[\"checkout_date_paid_date\"].groupby([df[\"checkout_date_paid_date\"]]).count()\n",
    "plt.figure(figsize=(15,5))\n",
    "df_checkout_date_paid_date.plot(x='checkout_date_paid_date', y='user_id', kind='bar', title='Customer Distribution by checkout_date_paid_date Group')\n",
    "plt.xlabel('checkout_date_paid_date')\n",
    "plt.ylabel('count checkout_date_paid_date')\n",
    "plt.tight_layout()\n",
    "plt.show()\n",
    "print('\\n')"
   ]
  },
  {
   "cell_type": "code",
   "execution_count": 495,
   "id": "6c468a37-8b1c-4f4a-92e0-8ea109897ed4",
   "metadata": {},
   "outputs": [
    {
     "name": "stdout",
     "output_type": "stream",
     "text": [
      "checkout_date_paid_date\n",
      "0 days     6\n",
      "1 days     3\n",
      "2 days     6\n",
      "3 days     5\n",
      "4 days     6\n",
      "5 days     4\n",
      "6 days     3\n",
      "7 days     4\n",
      "8 days     6\n",
      "9 days     3\n",
      "10 days    8\n",
      "11 days    5\n",
      "12 days    3\n",
      "13 days    3\n",
      "14 days    4\n",
      "15 days    5\n",
      "16 days    5\n",
      "17 days    6\n",
      "18 days    8\n",
      "19 days    4\n",
      "20 days    2\n",
      "21 days    1\n",
      "Name: checkout_date_paid_date, dtype: int64\n",
      "\n",
      "\n",
      "\n",
      "\n"
     ]
    }
   ],
   "source": [
    "print(df_checkout_date_paid_date)\n",
    "print('\\n')\n",
    "print('\\n')"
   ]
  },
  {
   "cell_type": "code",
   "execution_count": null,
   "id": "f49a2f75-1f98-40ab-91ad-c37d83a3f5d1",
   "metadata": {},
   "outputs": [],
   "source": []
  }
 ],
 "metadata": {
  "kernelspec": {
   "display_name": "Python 3 (ipykernel)",
   "language": "python",
   "name": "python3"
  },
  "language_info": {
   "codemirror_mode": {
    "name": "ipython",
    "version": 3
   },
   "file_extension": ".py",
   "mimetype": "text/x-python",
   "name": "python",
   "nbconvert_exporter": "python",
   "pygments_lexer": "ipython3",
   "version": "3.9.12"
  }
 },
 "nbformat": 4,
 "nbformat_minor": 5
}
